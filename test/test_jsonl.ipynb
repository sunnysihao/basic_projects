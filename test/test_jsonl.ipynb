{
 "cells": [
  {
   "cell_type": "code",
   "execution_count": 10,
   "metadata": {
    "collapsed": true
   },
   "outputs": [
    {
     "name": "stderr",
     "output_type": "stream",
     "text": [
      "90it [00:00, 1023.81it/s]\n"
     ]
    }
   ],
   "source": [
    "import jsonlines\n",
    "import json\n",
    "from tqdm import tqdm\n",
    "import os\n",
    "\n",
    "result_path = r\"D:\\Desktop\\Project file\\李伟豪\\qilin\"\n",
    "with jsonlines.open(r\"D:\\Desktop\\Project file\\李伟豪\\0163f21814db43cd1d4529e32a5b5b30_cec9bce60e3dc6cd036ff7013eeb3a4d_8.jsonl\", \"r\") as rfd:\n",
    "    n = 1\n",
    "    for data in tqdm(rfd):\n",
    "        txt_file = os.path.join(result_path, f'{n}.txt')\n",
    "        txt_data = data['text'].strip('\\n')\n",
    "        with open(txt_file, 'w', encoding='utf-8') as tf:\n",
    "            tf.write(txt_data)\n",
    "            n += 1\n"
   ]
  },
  {
   "cell_type": "code",
   "execution_count": 6,
   "outputs": [
    {
     "data": {
      "text/plain": "'新浪报道，携程最新发布的《2020春节“中国人旅游过年”趋势预测报告》显示，今年春节长假预计将有4.5亿人次出游，消费升级、花钱享受服务是假期度假的主流。出游游客群体中，54%是亲子游，“80后”带孩子出行最流行，有7%的游客独自一人旅游过年。'"
     },
     "execution_count": 6,
     "metadata": {},
     "output_type": "execute_result"
    }
   ],
   "source": [
    "data['text'].strip('\\n')"
   ],
   "metadata": {
    "collapsed": false,
    "pycharm": {
     "name": "#%%\n"
    }
   }
  },
  {
   "cell_type": "code",
   "execution_count": 4,
   "outputs": [
    {
     "data": {
      "text/plain": "dict"
     },
     "execution_count": 4,
     "metadata": {},
     "output_type": "execute_result"
    }
   ],
   "source": [
    "type(data)"
   ],
   "metadata": {
    "collapsed": false,
    "pycharm": {
     "name": "#%%\n"
    }
   }
  },
  {
   "cell_type": "code",
   "execution_count": null,
   "outputs": [],
   "source": [],
   "metadata": {
    "collapsed": false,
    "pycharm": {
     "name": "#%%\n"
    }
   }
  }
 ],
 "metadata": {
  "kernelspec": {
   "display_name": "Python 3",
   "language": "python",
   "name": "python3"
  },
  "language_info": {
   "codemirror_mode": {
    "name": "ipython",
    "version": 2
   },
   "file_extension": ".py",
   "mimetype": "text/x-python",
   "name": "python",
   "nbconvert_exporter": "python",
   "pygments_lexer": "ipython2",
   "version": "2.7.6"
  }
 },
 "nbformat": 4,
 "nbformat_minor": 0
}