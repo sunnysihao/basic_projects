{
 "cells": [
  {
   "cell_type": "code",
   "execution_count": 1,
   "metadata": {
    "collapsed": true
   },
   "outputs": [],
   "source": [
    "import jsonlines\n",
    "import json\n",
    "\n",
    "with jsonlines.open(r\"D:\\Desktop\\Project file\\李伟豪\\0163f21814db43cd1d4529e32a5b5b30_cec9bce60e3dc6cd036ff7013eeb3a4d_8.jsonl\", \"r\") as rfd:\n",
    "    with open(r\"D:\\Desktop\\Project file\\李伟豪\\new.json\", \"w\", encoding='utf-8') as wfd:\n",
    "        for data in rfd:\n",
    "            json.dump(data, wfd, indent=4, ensure_ascii=False)"
   ]
  },
  {
   "cell_type": "code",
   "execution_count": 2,
   "outputs": [
    {
     "data": {
      "text/plain": "<jsonlines.Reader at 0x2166a6bdf10 wrapping 'D:\\\\Desktop\\\\Project file\\\\李伟豪\\\\0163f21814db43cd1d4529e32a5b5b30_cec9bce60e3dc6cd036ff7013eeb3a4d_8.jsonl'>"
     },
     "execution_count": 2,
     "metadata": {},
     "output_type": "execute_result"
    }
   ],
   "source": [],
   "metadata": {
    "collapsed": false,
    "pycharm": {
     "name": "#%%\n"
    }
   }
  },
  {
   "cell_type": "code",
   "execution_count": null,
   "outputs": [],
   "source": [],
   "metadata": {
    "collapsed": false,
    "pycharm": {
     "name": "#%%\n"
    }
   }
  }
 ],
 "metadata": {
  "kernelspec": {
   "display_name": "Python 3",
   "language": "python",
   "name": "python3"
  },
  "language_info": {
   "codemirror_mode": {
    "name": "ipython",
    "version": 2
   },
   "file_extension": ".py",
   "mimetype": "text/x-python",
   "name": "python",
   "nbconvert_exporter": "python",
   "pygments_lexer": "ipython2",
   "version": "2.7.6"
  }
 },
 "nbformat": 4,
 "nbformat_minor": 0
}