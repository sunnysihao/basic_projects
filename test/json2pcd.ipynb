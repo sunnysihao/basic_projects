{
 "cells": [
  {
   "cell_type": "code",
   "execution_count": 3,
   "metadata": {
    "collapsed": true
   },
   "outputs": [],
   "source": [
    "import base64\n",
    "import numpy as np\n",
    "import json\n"
   ]
  },
  {
   "cell_type": "code",
   "execution_count": 13,
   "outputs": [],
   "source": [
    "file = r\"D:\\Data\\we_chat_files\\WeChat Files\\wxid_pzn3n31pjyvc29\\FileStorage\\File\\2022-10\\1658782552950006900.json\"\n",
    "with open(file, 'r') as f:\n",
    "    json_content = json.load(f)\n",
    "points = json_content['points']\n",
    "intensities = json_content['intensities']"
   ],
   "metadata": {
    "collapsed": false,
    "pycharm": {
     "name": "#%%\n"
    }
   }
  },
  {
   "cell_type": "code",
   "execution_count": 14,
   "outputs": [],
   "source": [
    "xyz_buffer = base64.urlsafe_b64decode(points)\n",
    "inten = base64.urlsafe_b64decode(intensities)"
   ],
   "metadata": {
    "collapsed": false,
    "pycharm": {
     "name": "#%%\n"
    }
   }
  },
  {
   "cell_type": "code",
   "execution_count": 34,
   "outputs": [],
   "source": [
    "xyz = np.frombuffer(xyz_buffer , np.float32).reshape((-1, 3))\n",
    "i = np.frombuffer(inten , np.float32).reshape((-1, 1))"
   ],
   "metadata": {
    "collapsed": false,
    "pycharm": {
     "name": "#%%\n"
    }
   }
  },
  {
   "cell_type": "code",
   "execution_count": 35,
   "outputs": [
    {
     "data": {
      "text/plain": "(496902, 3)"
     },
     "execution_count": 35,
     "metadata": {},
     "output_type": "execute_result"
    }
   ],
   "source": [
    "np.array(xyz).shape"
   ],
   "metadata": {
    "collapsed": false,
    "pycharm": {
     "name": "#%%\n"
    }
   }
  },
  {
   "cell_type": "code",
   "execution_count": 37,
   "outputs": [
    {
     "data": {
      "text/plain": "(496902, 1)"
     },
     "execution_count": 37,
     "metadata": {},
     "output_type": "execute_result"
    }
   ],
   "source": [
    "np.array(i).shape"
   ],
   "metadata": {
    "collapsed": false,
    "pycharm": {
     "name": "#%%\n"
    }
   }
  },
  {
   "cell_type": "code",
   "execution_count": 38,
   "outputs": [],
   "source": [
    "points = np.hstack((np.array(xyz), np.array(i)))\n"
   ],
   "metadata": {
    "collapsed": false,
    "pycharm": {
     "name": "#%%\n"
    }
   }
  },
  {
   "cell_type": "code",
   "execution_count": null,
   "outputs": [],
   "source": [],
   "metadata": {
    "collapsed": false,
    "pycharm": {
     "name": "#%%\n"
    }
   }
  },
  {
   "cell_type": "code",
   "execution_count": null,
   "outputs": [],
   "source": [],
   "metadata": {
    "collapsed": false,
    "pycharm": {
     "name": "#%%\n"
    }
   }
  },
  {
   "cell_type": "code",
   "execution_count": 41,
   "outputs": [],
   "source": [
    "pcd_file = r\"D:\\Data\\we_chat_files\\WeChat Files\\wxid_pzn3n31pjyvc29\\FileStorage\\File\\2022-10\\1658782552950006900.pcd\"\n",
    "with open(pcd_file, 'w', encoding='ascii') as pcd_file:\n",
    "    point_num = points.shape[0]\n",
    "    heads = [\n",
    "        '# .PCD v0.7 - Point Cloud Data file format',\n",
    "        'VERSION 0.7',\n",
    "        'FIELDS x y z i',\n",
    "        'SIZE 4 4 4 4',\n",
    "        'TYPE F F F F',\n",
    "        'COUNT 1 1 1 1',\n",
    "        f'WIDTH {point_num}',\n",
    "        'HEIGHT 1',\n",
    "        'VIEWPOINT 0 0 0 1 0 0 0',\n",
    "        f'POINTS {point_num}',\n",
    "        'DATA ascii'\n",
    "    ]\n",
    "\n",
    "    pcd_file.write('\\n'.join(heads))\n",
    "    for i in range(point_num):\n",
    "        string_point = '\\n' + str(points[i, 0]) + ' ' + str(points[i, 1]) + ' ' + str(points[i, 2]) + ' ' + str(points[i, 3])\n",
    "        pcd_file.write(string_point)"
   ],
   "metadata": {
    "collapsed": false,
    "pycharm": {
     "name": "#%%\n"
    }
   }
  },
  {
   "cell_type": "code",
   "execution_count": null,
   "outputs": [],
   "source": [],
   "metadata": {
    "collapsed": false,
    "pycharm": {
     "name": "#%%\n"
    }
   }
  }
 ],
 "metadata": {
  "kernelspec": {
   "display_name": "Python 3",
   "language": "python",
   "name": "python3"
  },
  "language_info": {
   "codemirror_mode": {
    "name": "ipython",
    "version": 2
   },
   "file_extension": ".py",
   "mimetype": "text/x-python",
   "name": "python",
   "nbconvert_exporter": "python",
   "pygments_lexer": "ipython2",
   "version": "2.7.6"
  }
 },
 "nbformat": 4,
 "nbformat_minor": 0
}