{
 "cells": [
  {
   "cell_type": "code",
   "execution_count": 4,
   "metadata": {
    "collapsed": true
   },
   "outputs": [],
   "source": [
    "import pandas as pd\n",
    "import gzip\n",
    "import pickle"
   ]
  },
  {
   "cell_type": "code",
   "execution_count": 14,
   "outputs": [],
   "source": [
    "with gzip.open(r\"D:\\Desktop\\BasicProject\\任从辉\\pkl数据集\\ideastoimpacts\\002\\lidar\\00.pkl.gz\", 'r') as f:\n",
    "    data = pickle.load(f)"
   ],
   "metadata": {
    "collapsed": false,
    "pycharm": {
     "name": "#%%\n"
    }
   }
  },
  {
   "cell_type": "code",
   "execution_count": 15,
   "outputs": [
    {
     "data": {
      "text/plain": "                 x           y         z     i             t  d\nindex                                                          \n0       -75.131138  -79.331690  3.511804   7.0  1.557540e+09  0\n1      -112.588306 -118.666002  1.423499  31.0  1.557540e+09  0\n2       -42.085902  -44.384891  0.593491   7.0  1.557540e+09  0\n3       -27.329435  -28.795053 -0.403781   0.0  1.557540e+09  0\n4        -6.196208   -6.621082  1.130009   3.0  1.557540e+09  0\n...            ...         ...       ...   ...           ... ..\n166763   27.670526   17.159726  3.778677  25.0  1.557540e+09  1\n166764   27.703935   17.114063  3.780626  27.0  1.557540e+09  1\n166765   27.560664   16.955518  3.767948  18.0  1.557540e+09  1\n166766   27.384433   16.783824  3.752670  22.0  1.557540e+09  1\n166767   27.228821   16.626038  3.739154  20.0  1.557540e+09  1\n\n[166768 rows x 6 columns]",
      "text/html": "<div>\n<style scoped>\n    .dataframe tbody tr th:only-of-type {\n        vertical-align: middle;\n    }\n\n    .dataframe tbody tr th {\n        vertical-align: top;\n    }\n\n    .dataframe thead th {\n        text-align: right;\n    }\n</style>\n<table border=\"1\" class=\"dataframe\">\n  <thead>\n    <tr style=\"text-align: right;\">\n      <th></th>\n      <th>x</th>\n      <th>y</th>\n      <th>z</th>\n      <th>i</th>\n      <th>t</th>\n      <th>d</th>\n    </tr>\n    <tr>\n      <th>index</th>\n      <th></th>\n      <th></th>\n      <th></th>\n      <th></th>\n      <th></th>\n      <th></th>\n    </tr>\n  </thead>\n  <tbody>\n    <tr>\n      <th>0</th>\n      <td>-75.131138</td>\n      <td>-79.331690</td>\n      <td>3.511804</td>\n      <td>7.0</td>\n      <td>1.557540e+09</td>\n      <td>0</td>\n    </tr>\n    <tr>\n      <th>1</th>\n      <td>-112.588306</td>\n      <td>-118.666002</td>\n      <td>1.423499</td>\n      <td>31.0</td>\n      <td>1.557540e+09</td>\n      <td>0</td>\n    </tr>\n    <tr>\n      <th>2</th>\n      <td>-42.085902</td>\n      <td>-44.384891</td>\n      <td>0.593491</td>\n      <td>7.0</td>\n      <td>1.557540e+09</td>\n      <td>0</td>\n    </tr>\n    <tr>\n      <th>3</th>\n      <td>-27.329435</td>\n      <td>-28.795053</td>\n      <td>-0.403781</td>\n      <td>0.0</td>\n      <td>1.557540e+09</td>\n      <td>0</td>\n    </tr>\n    <tr>\n      <th>4</th>\n      <td>-6.196208</td>\n      <td>-6.621082</td>\n      <td>1.130009</td>\n      <td>3.0</td>\n      <td>1.557540e+09</td>\n      <td>0</td>\n    </tr>\n    <tr>\n      <th>...</th>\n      <td>...</td>\n      <td>...</td>\n      <td>...</td>\n      <td>...</td>\n      <td>...</td>\n      <td>...</td>\n    </tr>\n    <tr>\n      <th>166763</th>\n      <td>27.670526</td>\n      <td>17.159726</td>\n      <td>3.778677</td>\n      <td>25.0</td>\n      <td>1.557540e+09</td>\n      <td>1</td>\n    </tr>\n    <tr>\n      <th>166764</th>\n      <td>27.703935</td>\n      <td>17.114063</td>\n      <td>3.780626</td>\n      <td>27.0</td>\n      <td>1.557540e+09</td>\n      <td>1</td>\n    </tr>\n    <tr>\n      <th>166765</th>\n      <td>27.560664</td>\n      <td>16.955518</td>\n      <td>3.767948</td>\n      <td>18.0</td>\n      <td>1.557540e+09</td>\n      <td>1</td>\n    </tr>\n    <tr>\n      <th>166766</th>\n      <td>27.384433</td>\n      <td>16.783824</td>\n      <td>3.752670</td>\n      <td>22.0</td>\n      <td>1.557540e+09</td>\n      <td>1</td>\n    </tr>\n    <tr>\n      <th>166767</th>\n      <td>27.228821</td>\n      <td>16.626038</td>\n      <td>3.739154</td>\n      <td>20.0</td>\n      <td>1.557540e+09</td>\n      <td>1</td>\n    </tr>\n  </tbody>\n</table>\n<p>166768 rows × 6 columns</p>\n</div>"
     },
     "execution_count": 15,
     "metadata": {},
     "output_type": "execute_result"
    }
   ],
   "source": [
    "data"
   ],
   "metadata": {
    "collapsed": false,
    "pycharm": {
     "name": "#%%\n"
    }
   }
  },
  {
   "cell_type": "code",
   "execution_count": 16,
   "outputs": [
    {
     "data": {
      "text/plain": "pandas.core.frame.DataFrame"
     },
     "execution_count": 16,
     "metadata": {},
     "output_type": "execute_result"
    }
   ],
   "source": [
    "type(data)"
   ],
   "metadata": {
    "collapsed": false,
    "pycharm": {
     "name": "#%%\n"
    }
   }
  },
  {
   "cell_type": "code",
   "execution_count": 19,
   "outputs": [
    {
     "data": {
      "text/plain": "array([ -75.13113788, -112.58830608,  -42.08590168, ...,   27.56066404,\n         27.38443338,   27.22882095])"
     },
     "execution_count": 19,
     "metadata": {},
     "output_type": "execute_result"
    }
   ],
   "source": [
    "data['x'].values"
   ],
   "metadata": {
    "collapsed": false,
    "pycharm": {
     "name": "#%%\n"
    }
   }
  },
  {
   "cell_type": "code",
   "execution_count": 23,
   "outputs": [
    {
     "data": {
      "text/plain": "array([[-7.51311379e+01, -7.93316897e+01,  3.51180427e+00,\n         7.00000000e+00,  1.55753996e+09,  0.00000000e+00],\n       [-1.12588306e+02, -1.18666002e+02,  1.42349938e+00,\n         3.10000000e+01,  1.55753996e+09,  0.00000000e+00],\n       [-4.20859017e+01, -4.43848908e+01,  5.93490847e-01,\n         7.00000000e+00,  1.55753996e+09,  0.00000000e+00],\n       ...,\n       [ 2.75606640e+01,  1.69555183e+01,  3.76794770e+00,\n         1.80000000e+01,  1.55753996e+09,  1.00000000e+00],\n       [ 2.73844334e+01,  1.67838237e+01,  3.75266969e+00,\n         2.20000000e+01,  1.55753996e+09,  1.00000000e+00],\n       [ 2.72288210e+01,  1.66260378e+01,  3.73915448e+00,\n         2.00000000e+01,  1.55753996e+09,  1.00000000e+00]])"
     },
     "execution_count": 23,
     "metadata": {},
     "output_type": "execute_result"
    }
   ],
   "source": [
    "data.values"
   ],
   "metadata": {
    "collapsed": false,
    "pycharm": {
     "name": "#%%\n"
    }
   }
  },
  {
   "cell_type": "code",
   "execution_count": 7,
   "outputs": [],
   "source": [
    "with gzip.open(r\"D:\\Desktop\\BasicProject\\任从辉\\pkl数据集\\ideastoimpacts\\002\\annotations\\cuboids\\00.pkl.gz\", 'r') as f:\n",
    "    data1 = pickle.load(f)"
   ],
   "metadata": {
    "collapsed": false,
    "pycharm": {
     "name": "#%%\n"
    }
   }
  },
  {
   "cell_type": "code",
   "execution_count": 8,
   "outputs": [
    {
     "data": {
      "text/plain": "                                     uuid                   label       yaw  \\\n0    e83d78e4-5b11-4ad5-ac71-917b5cd19c94                     Car -0.840044   \n1    b113987c-bde4-43b3-b7f2-8a9a80318ae2                     Car  2.352911   \n2    47a397d6-9f2f-4e3b-9316-00ad60320f6d                     Car  2.387817   \n3    92b61b3d-8f2f-4205-921b-fdc047ab86e2                     Car -0.787685   \n4    895e6a77-1506-4f55-a977-baf5f86840e1                     Car  2.405271   \n..                                    ...                     ...       ...   \n108  7e583638-55ad-4a89-ac84-bd0a2554ebfe  Pedestrian with Object  0.873127   \n109  5d2db8b6-13e5-4c8f-9c10-c64a817d8db7                     Car  2.386263   \n110  ad246d6d-9935-46ae-9639-e1a809f38dee  Pedestrian with Object -2.254502   \n111  47128e0a-f30a-46d7-bf22-db63d5eb724a              Pedestrian  2.316954   \n112  cdc9ec76-991f-4c96-a05e-01b92bf0f485              Pedestrian -0.742749   \n\n     stationary  camera_used  position.x  position.y  position.z  \\\n0          True            2       7.361       2.630       0.487   \n1          True            5     -12.659       6.353       0.361   \n2          True            4     -41.504     -22.578       0.393   \n3          True            1      11.697       7.260       0.548   \n4          True            4     -51.568     -32.920       0.486   \n..          ...          ...         ...         ...         ...   \n108       False           -1      43.144      74.100       0.534   \n109       False            1      61.197      80.254       0.242   \n110       False            1      47.513      71.603       0.534   \n111       False            1      84.584     109.437       0.683   \n112       False            1      40.439      32.311       0.585   \n\n     dimensions.x  dimensions.y  dimensions.z attributes.object_motion  \\\n0           1.888         4.747         1.761                   Parked   \n1           1.837         4.269         1.523                   Parked   \n2           1.930         4.358         1.623                   Parked   \n3           2.099         5.170         1.821                   Parked   \n4           1.967         4.608         1.710                   Parked   \n..            ...           ...           ...                      ...   \n108         0.613         0.748         1.811                      NaN   \n109         1.959         4.327         1.928                   Moving   \n110         0.613         0.810         1.811                      NaN   \n111         0.638         0.580         1.766                      NaN   \n112         0.855         0.724         1.820                      NaN   \n\n                       cuboids.sibling_id  cuboids.sensor_id  \\\n0                                       -                 -1   \n1                                       -                 -1   \n2                                       -                 -1   \n3                                       -                 -1   \n4                                       -                 -1   \n..                                    ...                ...   \n108  b588c721-4627-4703-b8ce-29b029ed75f0                  1   \n109  fb2902a3-e965-47b6-bf18-b0d519ef34e5                  1   \n110  2b5714a8-e181-41f8-99ad-6f0adfae7e47                  1   \n111  57b0c4f7-d36e-4d7a-af85-fb7de8f139c0                  1   \n112  d08ed3ec-40de-4c70-a34d-e83d59f38883                  1   \n\n    attributes.rider_status attributes.pedestrian_behavior  \\\n0                       NaN                            NaN   \n1                       NaN                            NaN   \n2                       NaN                            NaN   \n3                       NaN                            NaN   \n4                       NaN                            NaN   \n..                      ...                            ...   \n108                     NaN                        Walking   \n109                     NaN                            NaN   \n110                     NaN                        Walking   \n111                     NaN                        Walking   \n112                     NaN                        Walking   \n\n    attributes.pedestrian_age  \n0                         NaN  \n1                         NaN  \n2                         NaN  \n3                         NaN  \n4                         NaN  \n..                        ...  \n108                     Adult  \n109                       NaN  \n110                     Adult  \n111                     Adult  \n112                     Adult  \n\n[113 rows x 17 columns]",
      "text/html": "<div>\n<style scoped>\n    .dataframe tbody tr th:only-of-type {\n        vertical-align: middle;\n    }\n\n    .dataframe tbody tr th {\n        vertical-align: top;\n    }\n\n    .dataframe thead th {\n        text-align: right;\n    }\n</style>\n<table border=\"1\" class=\"dataframe\">\n  <thead>\n    <tr style=\"text-align: right;\">\n      <th></th>\n      <th>uuid</th>\n      <th>label</th>\n      <th>yaw</th>\n      <th>stationary</th>\n      <th>camera_used</th>\n      <th>position.x</th>\n      <th>position.y</th>\n      <th>position.z</th>\n      <th>dimensions.x</th>\n      <th>dimensions.y</th>\n      <th>dimensions.z</th>\n      <th>attributes.object_motion</th>\n      <th>cuboids.sibling_id</th>\n      <th>cuboids.sensor_id</th>\n      <th>attributes.rider_status</th>\n      <th>attributes.pedestrian_behavior</th>\n      <th>attributes.pedestrian_age</th>\n    </tr>\n  </thead>\n  <tbody>\n    <tr>\n      <th>0</th>\n      <td>e83d78e4-5b11-4ad5-ac71-917b5cd19c94</td>\n      <td>Car</td>\n      <td>-0.840044</td>\n      <td>True</td>\n      <td>2</td>\n      <td>7.361</td>\n      <td>2.630</td>\n      <td>0.487</td>\n      <td>1.888</td>\n      <td>4.747</td>\n      <td>1.761</td>\n      <td>Parked</td>\n      <td>-</td>\n      <td>-1</td>\n      <td>NaN</td>\n      <td>NaN</td>\n      <td>NaN</td>\n    </tr>\n    <tr>\n      <th>1</th>\n      <td>b113987c-bde4-43b3-b7f2-8a9a80318ae2</td>\n      <td>Car</td>\n      <td>2.352911</td>\n      <td>True</td>\n      <td>5</td>\n      <td>-12.659</td>\n      <td>6.353</td>\n      <td>0.361</td>\n      <td>1.837</td>\n      <td>4.269</td>\n      <td>1.523</td>\n      <td>Parked</td>\n      <td>-</td>\n      <td>-1</td>\n      <td>NaN</td>\n      <td>NaN</td>\n      <td>NaN</td>\n    </tr>\n    <tr>\n      <th>2</th>\n      <td>47a397d6-9f2f-4e3b-9316-00ad60320f6d</td>\n      <td>Car</td>\n      <td>2.387817</td>\n      <td>True</td>\n      <td>4</td>\n      <td>-41.504</td>\n      <td>-22.578</td>\n      <td>0.393</td>\n      <td>1.930</td>\n      <td>4.358</td>\n      <td>1.623</td>\n      <td>Parked</td>\n      <td>-</td>\n      <td>-1</td>\n      <td>NaN</td>\n      <td>NaN</td>\n      <td>NaN</td>\n    </tr>\n    <tr>\n      <th>3</th>\n      <td>92b61b3d-8f2f-4205-921b-fdc047ab86e2</td>\n      <td>Car</td>\n      <td>-0.787685</td>\n      <td>True</td>\n      <td>1</td>\n      <td>11.697</td>\n      <td>7.260</td>\n      <td>0.548</td>\n      <td>2.099</td>\n      <td>5.170</td>\n      <td>1.821</td>\n      <td>Parked</td>\n      <td>-</td>\n      <td>-1</td>\n      <td>NaN</td>\n      <td>NaN</td>\n      <td>NaN</td>\n    </tr>\n    <tr>\n      <th>4</th>\n      <td>895e6a77-1506-4f55-a977-baf5f86840e1</td>\n      <td>Car</td>\n      <td>2.405271</td>\n      <td>True</td>\n      <td>4</td>\n      <td>-51.568</td>\n      <td>-32.920</td>\n      <td>0.486</td>\n      <td>1.967</td>\n      <td>4.608</td>\n      <td>1.710</td>\n      <td>Parked</td>\n      <td>-</td>\n      <td>-1</td>\n      <td>NaN</td>\n      <td>NaN</td>\n      <td>NaN</td>\n    </tr>\n    <tr>\n      <th>...</th>\n      <td>...</td>\n      <td>...</td>\n      <td>...</td>\n      <td>...</td>\n      <td>...</td>\n      <td>...</td>\n      <td>...</td>\n      <td>...</td>\n      <td>...</td>\n      <td>...</td>\n      <td>...</td>\n      <td>...</td>\n      <td>...</td>\n      <td>...</td>\n      <td>...</td>\n      <td>...</td>\n      <td>...</td>\n    </tr>\n    <tr>\n      <th>108</th>\n      <td>7e583638-55ad-4a89-ac84-bd0a2554ebfe</td>\n      <td>Pedestrian with Object</td>\n      <td>0.873127</td>\n      <td>False</td>\n      <td>-1</td>\n      <td>43.144</td>\n      <td>74.100</td>\n      <td>0.534</td>\n      <td>0.613</td>\n      <td>0.748</td>\n      <td>1.811</td>\n      <td>NaN</td>\n      <td>b588c721-4627-4703-b8ce-29b029ed75f0</td>\n      <td>1</td>\n      <td>NaN</td>\n      <td>Walking</td>\n      <td>Adult</td>\n    </tr>\n    <tr>\n      <th>109</th>\n      <td>5d2db8b6-13e5-4c8f-9c10-c64a817d8db7</td>\n      <td>Car</td>\n      <td>2.386263</td>\n      <td>False</td>\n      <td>1</td>\n      <td>61.197</td>\n      <td>80.254</td>\n      <td>0.242</td>\n      <td>1.959</td>\n      <td>4.327</td>\n      <td>1.928</td>\n      <td>Moving</td>\n      <td>fb2902a3-e965-47b6-bf18-b0d519ef34e5</td>\n      <td>1</td>\n      <td>NaN</td>\n      <td>NaN</td>\n      <td>NaN</td>\n    </tr>\n    <tr>\n      <th>110</th>\n      <td>ad246d6d-9935-46ae-9639-e1a809f38dee</td>\n      <td>Pedestrian with Object</td>\n      <td>-2.254502</td>\n      <td>False</td>\n      <td>1</td>\n      <td>47.513</td>\n      <td>71.603</td>\n      <td>0.534</td>\n      <td>0.613</td>\n      <td>0.810</td>\n      <td>1.811</td>\n      <td>NaN</td>\n      <td>2b5714a8-e181-41f8-99ad-6f0adfae7e47</td>\n      <td>1</td>\n      <td>NaN</td>\n      <td>Walking</td>\n      <td>Adult</td>\n    </tr>\n    <tr>\n      <th>111</th>\n      <td>47128e0a-f30a-46d7-bf22-db63d5eb724a</td>\n      <td>Pedestrian</td>\n      <td>2.316954</td>\n      <td>False</td>\n      <td>1</td>\n      <td>84.584</td>\n      <td>109.437</td>\n      <td>0.683</td>\n      <td>0.638</td>\n      <td>0.580</td>\n      <td>1.766</td>\n      <td>NaN</td>\n      <td>57b0c4f7-d36e-4d7a-af85-fb7de8f139c0</td>\n      <td>1</td>\n      <td>NaN</td>\n      <td>Walking</td>\n      <td>Adult</td>\n    </tr>\n    <tr>\n      <th>112</th>\n      <td>cdc9ec76-991f-4c96-a05e-01b92bf0f485</td>\n      <td>Pedestrian</td>\n      <td>-0.742749</td>\n      <td>False</td>\n      <td>1</td>\n      <td>40.439</td>\n      <td>32.311</td>\n      <td>0.585</td>\n      <td>0.855</td>\n      <td>0.724</td>\n      <td>1.820</td>\n      <td>NaN</td>\n      <td>d08ed3ec-40de-4c70-a34d-e83d59f38883</td>\n      <td>1</td>\n      <td>NaN</td>\n      <td>Walking</td>\n      <td>Adult</td>\n    </tr>\n  </tbody>\n</table>\n<p>113 rows × 17 columns</p>\n</div>"
     },
     "execution_count": 8,
     "metadata": {},
     "output_type": "execute_result"
    }
   ],
   "source": [
    "data1"
   ],
   "metadata": {
    "collapsed": false,
    "pycharm": {
     "name": "#%%\n"
    }
   }
  },
  {
   "cell_type": "code",
   "execution_count": 9,
   "outputs": [
    {
     "data": {
      "text/plain": "pandas.core.frame.DataFrame"
     },
     "execution_count": 9,
     "metadata": {},
     "output_type": "execute_result"
    }
   ],
   "source": [
    "type(data1)"
   ],
   "metadata": {
    "collapsed": false,
    "pycharm": {
     "name": "#%%\n"
    }
   }
  },
  {
   "cell_type": "code",
   "execution_count": 24,
   "outputs": [],
   "source": [
    "with gzip.open(r\"D:\\Desktop\\BasicProject\\任从辉\\pkl数据集\\ideastoimpacts\\002\\annotations\\cuboids\\01.pkl.gz\", 'r') as f:\n",
    "    data3 = pickle.load(f)"
   ],
   "metadata": {
    "collapsed": false,
    "pycharm": {
     "name": "#%%\n"
    }
   }
  },
  {
   "cell_type": "code",
   "execution_count": 34,
   "outputs": [
    {
     "data": {
      "text/plain": "pandas.core.series.Series"
     },
     "execution_count": 34,
     "metadata": {},
     "output_type": "execute_result"
    }
   ],
   "source": [
    "type(data3.uuid)"
   ],
   "metadata": {
    "collapsed": false,
    "pycharm": {
     "name": "#%%\n"
    }
   }
  },
  {
   "cell_type": "code",
   "execution_count": 32,
   "outputs": [
    {
     "name": "stdout",
     "output_type": "stream",
     "text": [
      "e83d78e4-5b11-4ad5-ac71-917b5cd19c94\n",
      "b113987c-bde4-43b3-b7f2-8a9a80318ae2\n",
      "47a397d6-9f2f-4e3b-9316-00ad60320f6d\n",
      "92b61b3d-8f2f-4205-921b-fdc047ab86e2\n",
      "895e6a77-1506-4f55-a977-baf5f86840e1\n",
      "cb51296e-bf80-4907-bedc-02a8188f6e44\n",
      "0f07d022-eb73-44bf-a125-7f4fb849647d\n",
      "5d7cce90-c6be-4b8e-b9bc-c775b7e513e9\n",
      "7e9ec7d7-de00-4fcf-8d12-9723d1f55b6b\n",
      "adf0a251-a26f-45df-a216-980875893b88\n",
      "63e2de09-ba4a-4c71-b6d6-05275b3f6907\n",
      "81876c58-784c-4244-ba69-d8d3e7824c9a\n",
      "b769a1fd-b6ba-4b58-998a-b814e23baa30\n",
      "576b524d-c126-49c6-99a7-230475c4c05a\n",
      "9a54d0a1-0aad-440a-8a51-62db061aa64c\n",
      "e03a4c57-b98c-4bde-a887-be5c8669380f\n",
      "bdc0f646-0d15-408a-8fcf-274688625e7a\n",
      "0f39c013-155d-493c-8971-479f2b585662\n",
      "c1ac7b66-dca7-434a-b3d4-965991c54d2c\n",
      "6e11028a-f0e6-43e9-994d-bef1dcf4de37\n",
      "f382dfe9-7902-406e-8aec-3d250c0e51ec\n",
      "082cccd6-8637-4033-b12a-05d5ff30f22d\n",
      "25af0d2b-a032-40df-b434-aeff66633850\n",
      "418b7f15-e6c4-40fe-b440-ff747b22430b\n",
      "49914840-b88c-4c45-9c07-d3271197b566\n",
      "0e0186d7-d2cd-468b-b786-8f7058c95643\n",
      "fa77ad4e-f5dd-4be9-8071-2b35fd24af38\n",
      "99b5b04e-8bfa-4846-b39b-ce87cf21d328\n",
      "e2cbd75c-66b3-4726-8dc9-8fa833990d37\n",
      "19dd615c-a3da-4eaa-891c-b100ff2bfd50\n",
      "5c7c431e-e9dd-4af8-a949-03e203f99b2a\n",
      "e14bf59c-4911-41c9-bbfb-f16711472a2b\n",
      "9c698ef3-ce67-44d6-936b-631812d83343\n",
      "e1218900-5b4a-4487-a362-c520d007d6e2\n",
      "7ed5e06e-628a-475d-b3ed-6031f8095879\n",
      "17cc789c-cfed-43ab-b9fa-f01ebfb7c007\n",
      "92b7e07b-beb7-49b1-afdf-479fbc8c10bc\n",
      "fd470434-b3b1-49ce-a6b1-168b9bf05fe4\n",
      "9699eb12-3c48-42f1-86c4-b500bacca957\n",
      "fff536c3-a596-4df5-93f3-91bfa449cfdb\n",
      "dd5e7015-e09b-4674-9d91-890c2f21f6c2\n",
      "887eda98-31ac-457d-b8a9-fceb2524267d\n",
      "20d13d1d-52dc-457d-ac94-b067ff51086c\n",
      "0be9af2f-6588-4116-b0ae-70384debc730\n",
      "d0070c93-5ea1-4cd1-9bb8-87171eafe52c\n",
      "a3dfc652-a334-424b-a56e-6abbbe8862e5\n",
      "1a46fa13-63a2-4d30-a209-208f20146a47\n",
      "58fd2949-67d2-464e-b6a0-2ba6fd9ddba9\n",
      "eafe60ff-1e59-4bf5-b2b5-1ed0186ca7c6\n",
      "8ea9144b-ba33-405d-8047-b90e78556d71\n",
      "746418ac-2497-43df-98cc-0c97f4cfc415\n",
      "d7129434-b9e5-4afa-8844-861ac21042d0\n",
      "d12bced1-a15f-4220-8f66-9e0bc423e937\n",
      "8a7bc401-34e0-4f09-a415-c380bf4dba9f\n",
      "faf6d6bd-3272-48aa-9fe8-b68dd510c334\n",
      "4dd909ac-6ba1-43ab-ad84-da924131fd9a\n",
      "d6ea90bc-ba3c-4203-bf59-528bc653a3cd\n",
      "ceaf0228-e88b-4310-8cd2-e237d1ece590\n",
      "623caa32-3449-4dd0-b334-d90850eba82b\n",
      "1120c3c5-0066-4f0a-93dd-d6690756b3c7\n",
      "9017c7dc-45bd-4ee5-a33c-f3f315c0d5b1\n",
      "87a7acda-198b-49c7-ae51-d10d015e2a97\n",
      "c182be46-efc3-47e4-8637-bf653bf2754e\n",
      "97b110fb-b1f2-4961-aab4-89e0213986de\n",
      "fb8cd527-b7ea-4adb-8a01-d0715d34a273\n",
      "da7308e2-9cdc-4841-85ed-a4a5f9dc5ce6\n",
      "b6591c81-9786-4cfe-80e7-2f7dff291d35\n",
      "0d238564-0ebe-47b3-8067-593b980ce26d\n",
      "8ac00bad-822c-4040-b9a2-31424dbcd486\n",
      "f4089e55-8e66-44a6-ac72-59bf5ef7efa7\n",
      "410fda6c-1099-4e4a-8126-fb1565be6299\n",
      "187e0401-d478-4e0f-b051-11ecb17d5540\n",
      "96dcd281-e572-441d-898c-dc1d805c376f\n",
      "8febbea0-7780-4548-9c80-8d524d118f28\n",
      "91aa5b5c-7053-467d-8dbe-b9f1a5ad9327\n",
      "b09e1c68-77dd-4482-9ee8-7dcbc135730a\n",
      "71a404f3-362a-41a6-8595-e50f58d62305\n",
      "d7b7c279-f498-4e4f-8d6e-dce55399c93a\n",
      "d0da2ae7-b5bb-4489-8844-5dcc06ddae67\n",
      "3a52f1f4-7ca1-4427-aea7-57bd9f0f3a28\n",
      "709245fe-d4d4-4e3b-8df1-a622afe49bc5\n",
      "d524dcab-8f00-4717-b32d-346ff01c1efa\n",
      "68c4d27a-b0d5-4619-8d39-c5d4b4adb01f\n",
      "dd40fcbb-6fc7-4a25-8666-34e6fa8004f5\n",
      "2f8399e5-0417-478e-a659-2ce9329d9128\n",
      "f0b32b02-58aa-44e9-8616-2c58fe16c2c9\n",
      "57b0c4f7-d36e-4d7a-af85-fb7de8f139c0\n",
      "d08ed3ec-40de-4c70-a34d-e83d59f38883\n",
      "2b5714a8-e181-41f8-99ad-6f0adfae7e47\n",
      "fb2902a3-e965-47b6-bf18-b0d519ef34e5\n",
      "b588c721-4627-4703-b8ce-29b029ed75f0\n",
      "ed323433-787d-45b0-b7aa-b8a06c191eaf\n",
      "e9683840-d04d-4930-9a48-019cc9d85205\n",
      "5efc9139-933d-4339-b584-00054253c4ce\n",
      "eab152ba-e65e-42f0-905d-32258cb60b7c\n",
      "c184ac4f-6932-493c-ad7c-f6e920d456d7\n",
      "554fda8c-395b-4f0b-b6ab-eed30ba7d281\n",
      "cbfdaa1e-81fb-4c17-9f71-5a0b6a6552f4\n",
      "4b449099-a295-4493-8477-fe58d5883cf5\n",
      "091c2b94-4202-49f0-8bb5-0d35af733a3a\n",
      "dddb0229-965a-4a3c-85bc-78fafaeabcf1\n",
      "50e2eb85-a0be-438c-89a8-ba2bbffca28d\n",
      "2c0f8045-f2c2-4cba-b34d-f28c7363f36e\n",
      "e54ffdf7-6927-4c73-b810-271ac5b59304\n",
      "3355fb07-854a-480e-9e4d-2b21255917e5\n",
      "ed4fbab7-4ed9-484c-a870-c6ec45357c9d\n",
      "9d8cc791-892d-4290-94a2-4147486d5720\n",
      "391182c2-09b8-422e-b40d-c1a93eaf0549\n",
      "7e583638-55ad-4a89-ac84-bd0a2554ebfe\n",
      "5d2db8b6-13e5-4c8f-9c10-c64a817d8db7\n",
      "ad246d6d-9935-46ae-9639-e1a809f38dee\n",
      "47128e0a-f30a-46d7-bf22-db63d5eb724a\n",
      "cdc9ec76-991f-4c96-a05e-01b92bf0f485\n"
     ]
    }
   ],
   "source": [
    "for k in data1.uuid:\n",
    "    if k in data3.uuid:\n",
    "        continue\n",
    "    else:\n",
    "        print(k)"
   ],
   "metadata": {
    "collapsed": false,
    "pycharm": {
     "name": "#%%\n"
    }
   }
  },
  {
   "cell_type": "code",
   "execution_count": 30,
   "outputs": [
    {
     "data": {
      "text/plain": "113"
     },
     "execution_count": 30,
     "metadata": {},
     "output_type": "execute_result"
    }
   ],
   "source": [
    "len(data1)"
   ],
   "metadata": {
    "collapsed": false,
    "pycharm": {
     "name": "#%%\n"
    }
   }
  },
  {
   "cell_type": "code",
   "execution_count": 31,
   "outputs": [
    {
     "data": {
      "text/plain": "114"
     },
     "execution_count": 31,
     "metadata": {},
     "output_type": "execute_result"
    }
   ],
   "source": [
    "len(data3)"
   ],
   "metadata": {
    "collapsed": false,
    "pycharm": {
     "name": "#%%\n"
    }
   }
  },
  {
   "cell_type": "code",
   "execution_count": 15,
   "outputs": [
    {
     "data": {
      "text/plain": "2.3529106532030197"
     },
     "execution_count": 15,
     "metadata": {},
     "output_type": "execute_result"
    }
   ],
   "source": [
    "data1.iloc[1]['yaw']"
   ],
   "metadata": {
    "collapsed": false,
    "pycharm": {
     "name": "#%%\n"
    }
   }
  },
  {
   "cell_type": "code",
   "execution_count": null,
   "outputs": [],
   "source": [],
   "metadata": {
    "collapsed": false,
    "pycharm": {
     "name": "#%%\n"
    }
   }
  },
  {
   "cell_type": "code",
   "execution_count": null,
   "outputs": [],
   "source": [],
   "metadata": {
    "collapsed": false,
    "pycharm": {
     "name": "#%%\n"
    }
   }
  },
  {
   "cell_type": "code",
   "execution_count": 10,
   "outputs": [
    {
     "data": {
      "text/plain": "113"
     },
     "execution_count": 10,
     "metadata": {},
     "output_type": "execute_result"
    }
   ],
   "source": [
    "len(data1)"
   ],
   "metadata": {
    "collapsed": false,
    "pycharm": {
     "name": "#%%\n"
    }
   }
  },
  {
   "cell_type": "code",
   "execution_count": 5,
   "outputs": [],
   "source": [
    "with gzip.open(r\"D:\\Desktop\\BasicProject\\任从辉\\pkl数据集\\ideastoimpacts\\002\\annotations\\semseg\\00.pkl.gz\", 'r') as f:\n",
    "    data2 = pickle.load(f)"
   ],
   "metadata": {
    "collapsed": false,
    "pycharm": {
     "name": "#%%\n"
    }
   }
  },
  {
   "cell_type": "code",
   "execution_count": 9,
   "outputs": [
    {
     "ename": "KeyError",
     "evalue": "1667689",
     "output_type": "error",
     "traceback": [
      "\u001B[1;31m---------------------------------------------------------------------------\u001B[0m",
      "\u001B[1;31mKeyError\u001B[0m                                  Traceback (most recent call last)",
      "File \u001B[1;32m~\\AppData\\Local\\Programs\\Python\\Python39\\lib\\site-packages\\pandas\\core\\indexes\\base.py:3621\u001B[0m, in \u001B[0;36mIndex.get_loc\u001B[1;34m(self, key, method, tolerance)\u001B[0m\n\u001B[0;32m   3620\u001B[0m \u001B[38;5;28;01mtry\u001B[39;00m:\n\u001B[1;32m-> 3621\u001B[0m     \u001B[38;5;28;01mreturn\u001B[39;00m \u001B[38;5;28;43mself\u001B[39;49m\u001B[38;5;241;43m.\u001B[39;49m\u001B[43m_engine\u001B[49m\u001B[38;5;241;43m.\u001B[39;49m\u001B[43mget_loc\u001B[49m\u001B[43m(\u001B[49m\u001B[43mcasted_key\u001B[49m\u001B[43m)\u001B[49m\n\u001B[0;32m   3622\u001B[0m \u001B[38;5;28;01mexcept\u001B[39;00m \u001B[38;5;167;01mKeyError\u001B[39;00m \u001B[38;5;28;01mas\u001B[39;00m err:\n",
      "File \u001B[1;32m~\\AppData\\Local\\Programs\\Python\\Python39\\lib\\site-packages\\pandas\\_libs\\index.pyx:136\u001B[0m, in \u001B[0;36mpandas._libs.index.IndexEngine.get_loc\u001B[1;34m()\u001B[0m\n",
      "File \u001B[1;32m~\\AppData\\Local\\Programs\\Python\\Python39\\lib\\site-packages\\pandas\\_libs\\index.pyx:163\u001B[0m, in \u001B[0;36mpandas._libs.index.IndexEngine.get_loc\u001B[1;34m()\u001B[0m\n",
      "File \u001B[1;32mpandas\\_libs\\hashtable_class_helper.pxi:5198\u001B[0m, in \u001B[0;36mpandas._libs.hashtable.PyObjectHashTable.get_item\u001B[1;34m()\u001B[0m\n",
      "File \u001B[1;32mpandas\\_libs\\hashtable_class_helper.pxi:5206\u001B[0m, in \u001B[0;36mpandas._libs.hashtable.PyObjectHashTable.get_item\u001B[1;34m()\u001B[0m\n",
      "\u001B[1;31mKeyError\u001B[0m: 1667689",
      "\nThe above exception was the direct cause of the following exception:\n",
      "\u001B[1;31mKeyError\u001B[0m                                  Traceback (most recent call last)",
      "Input \u001B[1;32mIn [9]\u001B[0m, in \u001B[0;36m<cell line: 1>\u001B[1;34m()\u001B[0m\n\u001B[1;32m----> 1\u001B[0m \u001B[43mdata2\u001B[49m\u001B[43m[\u001B[49m\u001B[38;5;241;43m1667689\u001B[39;49m\u001B[43m]\u001B[49m\n",
      "File \u001B[1;32m~\\AppData\\Local\\Programs\\Python\\Python39\\lib\\site-packages\\pandas\\core\\frame.py:3505\u001B[0m, in \u001B[0;36mDataFrame.__getitem__\u001B[1;34m(self, key)\u001B[0m\n\u001B[0;32m   3503\u001B[0m \u001B[38;5;28;01mif\u001B[39;00m \u001B[38;5;28mself\u001B[39m\u001B[38;5;241m.\u001B[39mcolumns\u001B[38;5;241m.\u001B[39mnlevels \u001B[38;5;241m>\u001B[39m \u001B[38;5;241m1\u001B[39m:\n\u001B[0;32m   3504\u001B[0m     \u001B[38;5;28;01mreturn\u001B[39;00m \u001B[38;5;28mself\u001B[39m\u001B[38;5;241m.\u001B[39m_getitem_multilevel(key)\n\u001B[1;32m-> 3505\u001B[0m indexer \u001B[38;5;241m=\u001B[39m \u001B[38;5;28;43mself\u001B[39;49m\u001B[38;5;241;43m.\u001B[39;49m\u001B[43mcolumns\u001B[49m\u001B[38;5;241;43m.\u001B[39;49m\u001B[43mget_loc\u001B[49m\u001B[43m(\u001B[49m\u001B[43mkey\u001B[49m\u001B[43m)\u001B[49m\n\u001B[0;32m   3506\u001B[0m \u001B[38;5;28;01mif\u001B[39;00m is_integer(indexer):\n\u001B[0;32m   3507\u001B[0m     indexer \u001B[38;5;241m=\u001B[39m [indexer]\n",
      "File \u001B[1;32m~\\AppData\\Local\\Programs\\Python\\Python39\\lib\\site-packages\\pandas\\core\\indexes\\base.py:3623\u001B[0m, in \u001B[0;36mIndex.get_loc\u001B[1;34m(self, key, method, tolerance)\u001B[0m\n\u001B[0;32m   3621\u001B[0m     \u001B[38;5;28;01mreturn\u001B[39;00m \u001B[38;5;28mself\u001B[39m\u001B[38;5;241m.\u001B[39m_engine\u001B[38;5;241m.\u001B[39mget_loc(casted_key)\n\u001B[0;32m   3622\u001B[0m \u001B[38;5;28;01mexcept\u001B[39;00m \u001B[38;5;167;01mKeyError\u001B[39;00m \u001B[38;5;28;01mas\u001B[39;00m err:\n\u001B[1;32m-> 3623\u001B[0m     \u001B[38;5;28;01mraise\u001B[39;00m \u001B[38;5;167;01mKeyError\u001B[39;00m(key) \u001B[38;5;28;01mfrom\u001B[39;00m \u001B[38;5;21;01merr\u001B[39;00m\n\u001B[0;32m   3624\u001B[0m \u001B[38;5;28;01mexcept\u001B[39;00m \u001B[38;5;167;01mTypeError\u001B[39;00m:\n\u001B[0;32m   3625\u001B[0m     \u001B[38;5;66;03m# If we have a listlike key, _check_indexing_error will raise\u001B[39;00m\n\u001B[0;32m   3626\u001B[0m     \u001B[38;5;66;03m#  InvalidIndexError. Otherwise we fall through and re-raise\u001B[39;00m\n\u001B[0;32m   3627\u001B[0m     \u001B[38;5;66;03m#  the TypeError.\u001B[39;00m\n\u001B[0;32m   3628\u001B[0m     \u001B[38;5;28mself\u001B[39m\u001B[38;5;241m.\u001B[39m_check_indexing_error(key)\n",
      "\u001B[1;31mKeyError\u001B[0m: 1667689"
     ]
    }
   ],
   "source": [
    "data2"
   ],
   "metadata": {
    "collapsed": false,
    "pycharm": {
     "name": "#%%\n"
    }
   }
  },
  {
   "cell_type": "code",
   "execution_count": 12,
   "outputs": [
    {
     "data": {
      "text/plain": "5"
     },
     "execution_count": 12,
     "metadata": {},
     "output_type": "execute_result"
    }
   ],
   "source": [
    "l = data2['class'].values\n",
    "l = l.tolist()\n",
    "l[166760]"
   ],
   "metadata": {
    "collapsed": false,
    "pycharm": {
     "name": "#%%\n"
    }
   }
  },
  {
   "cell_type": "code",
   "execution_count": 8,
   "outputs": [
    {
     "data": {
      "text/plain": "166768"
     },
     "execution_count": 8,
     "metadata": {},
     "output_type": "execute_result"
    }
   ],
   "source": [
    "len(l)"
   ],
   "metadata": {
    "collapsed": false,
    "pycharm": {
     "name": "#%%\n"
    }
   }
  },
  {
   "cell_type": "code",
   "execution_count": 17,
   "outputs": [],
   "source": [
    "from scipy.spatial.transform import Rotation as R\n",
    "import numpy as np\n",
    "import json"
   ],
   "metadata": {
    "collapsed": false,
    "pycharm": {
     "name": "#%%\n"
    }
   }
  },
  {
   "cell_type": "code",
   "execution_count": null,
   "outputs": [],
   "source": [
    "r = R.from_quat([0.0044630298247378356, 0.017858463809403605, 0.38486839890864721, 0.92278788036939774]).as_matrix()\n",
    "r"
   ],
   "metadata": {
    "collapsed": false,
    "pycharm": {
     "name": "#%%\n"
    }
   }
  },
  {
   "cell_type": "code",
   "execution_count": 45,
   "outputs": [],
   "source": [
    "t = [1, 2, 3]\n",
    "t = np.asarray(t).reshape((3, 1))"
   ],
   "metadata": {
    "collapsed": false,
    "pycharm": {
     "name": "#%%\n"
    }
   }
  },
  {
   "cell_type": "code",
   "execution_count": 46,
   "outputs": [
    {
     "data": {
      "text/plain": "array([[ 0.70311478, -0.71014438,  0.03639451,  1.        ],\n       [ 0.71046319,  0.70371279,  0.00550946,  2.        ],\n       [-0.02952379,  0.02198318,  0.99932231,  3.        ]])"
     },
     "execution_count": 46,
     "metadata": {},
     "output_type": "execute_result"
    }
   ],
   "source": [
    "a = np.hstack((r, t))\n",
    "a"
   ],
   "metadata": {
    "collapsed": false,
    "pycharm": {
     "name": "#%%\n"
    }
   }
  },
  {
   "cell_type": "code",
   "execution_count": 48,
   "outputs": [],
   "source": [
    "def load_json(json_path:str):\n",
    "    with open(json_path, 'r', encoding='utf-8') as f:\n",
    "        content = f.read()\n",
    "        json_content = json.loads(content)\n",
    "    return json_content"
   ],
   "metadata": {
    "collapsed": false,
    "pycharm": {
     "name": "#%%\n"
    }
   }
  },
  {
   "cell_type": "code",
   "execution_count": 49,
   "outputs": [],
   "source": [
    "d = load_json(r\"D:\\Desktop\\BasicProject\\任从辉\\pkl数据集\\ideastoimpacts\\002\\camera\\left_camera\\poses.json\")"
   ],
   "metadata": {
    "collapsed": false,
    "pycharm": {
     "name": "#%%\n"
    }
   }
  },
  {
   "cell_type": "code",
   "execution_count": 54,
   "outputs": [
    {
     "data": {
      "text/plain": "array([[0.05624796],\n       [0.72713553],\n       [1.59268427]])"
     },
     "execution_count": 54,
     "metadata": {},
     "output_type": "execute_result"
    }
   ],
   "source": [
    "np.asarray(list(d[0]['position'].values())).reshape((3,1))"
   ],
   "metadata": {
    "collapsed": false,
    "pycharm": {
     "name": "#%%\n"
    }
   }
  },
  {
   "cell_type": "code",
   "execution_count": null,
   "outputs": [],
   "source": [],
   "metadata": {
    "collapsed": false,
    "pycharm": {
     "name": "#%%\n"
    }
   }
  },
  {
   "cell_type": "code",
   "execution_count": null,
   "outputs": [],
   "source": [],
   "metadata": {
    "collapsed": false,
    "pycharm": {
     "name": "#%%\n"
    }
   }
  },
  {
   "cell_type": "code",
   "execution_count": 3,
   "outputs": [],
   "source": [
    "import os"
   ],
   "metadata": {
    "collapsed": false,
    "pycharm": {
     "name": "#%%\n"
    }
   }
  },
  {
   "cell_type": "code",
   "execution_count": 6,
   "outputs": [],
   "source": [
    "def load_pkl(pkl_file):\n",
    "    with gzip.open(pkl_file, 'r') as f:\n",
    "        data = pickle.load(f)\n",
    "        points_array = data.values\n",
    "    return points_array"
   ],
   "metadata": {
    "collapsed": false,
    "pycharm": {
     "name": "#%%\n"
    }
   }
  },
  {
   "cell_type": "code",
   "execution_count": 5,
   "outputs": [
    {
     "ename": "SyntaxError",
     "evalue": "unmatched ')' (627105423.py, line 2)",
     "output_type": "error",
     "traceback": [
      "\u001B[1;36m  Input \u001B[1;32mIn [5]\u001B[1;36m\u001B[0m\n\u001B[1;33m    with open(r\"D:\\Desktop\\BasicProject\\任从辉\\pkl数据集\\test\\pcd\\79-1\" + '.pcd'), 'a') as pcd_file:\u001B[0m\n\u001B[1;37m                                                                                ^\u001B[0m\n\u001B[1;31mSyntaxError\u001B[0m\u001B[1;31m:\u001B[0m unmatched ')'\n"
     ]
    }
   ],
   "source": [],
   "metadata": {
    "collapsed": false,
    "pycharm": {
     "name": "#%%\n"
    }
   }
  },
  {
   "cell_type": "code",
   "execution_count": 18,
   "outputs": [
    {
     "data": {
      "text/plain": "array([[0],\n       [1],\n       [2]])"
     },
     "execution_count": 18,
     "metadata": {},
     "output_type": "execute_result"
    }
   ],
   "source": [
    "np.array([0, 1, 2]).reshape((3,1))"
   ],
   "metadata": {
    "collapsed": false,
    "pycharm": {
     "name": "#%%\n"
    }
   }
  },
  {
   "cell_type": "code",
   "execution_count": null,
   "outputs": [],
   "source": [],
   "metadata": {
    "collapsed": false,
    "pycharm": {
     "name": "#%%\n"
    }
   }
  }
 ],
 "metadata": {
  "kernelspec": {
   "display_name": "Python 3",
   "language": "python",
   "name": "python3"
  },
  "language_info": {
   "codemirror_mode": {
    "name": "ipython",
    "version": 2
   },
   "file_extension": ".py",
   "mimetype": "text/x-python",
   "name": "python",
   "nbconvert_exporter": "python",
   "pygments_lexer": "ipython2",
   "version": "2.7.6"
  }
 },
 "nbformat": 4,
 "nbformat_minor": 0
}