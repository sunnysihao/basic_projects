{
 "cells": [
  {
   "cell_type": "code",
   "execution_count": 2,
   "outputs": [],
   "source": [
    "import json\n",
    "\n",
    "\n",
    "class A:\n",
    "    a = \"a\"\n",
    "    def __init__(self,name, age):\n",
    "        self.name = name\n",
    "        self.age = age\n",
    "        self.b = self.name + self.age\n",
    "    def sa(self, b):\n",
    "        print(b)"
   ],
   "metadata": {
    "collapsed": false,
    "pycharm": {
     "name": "#%%\n"
    }
   }
  },
  {
   "cell_type": "code",
   "execution_count": 24,
   "outputs": [
    {
     "data": {
      "text/plain": "'a'"
     },
     "execution_count": 24,
     "metadata": {},
     "output_type": "execute_result"
    }
   ],
   "source": [
    "a = A(\"a\", \"18\")\n",
    "a.a"
   ],
   "metadata": {
    "collapsed": false,
    "pycharm": {
     "name": "#%%\n"
    }
   }
  },
  {
   "cell_type": "code",
   "execution_count": 25,
   "outputs": [
    {
     "data": {
      "text/plain": "'a18'"
     },
     "execution_count": 25,
     "metadata": {},
     "output_type": "execute_result"
    }
   ],
   "source": [
    "a.b"
   ],
   "metadata": {
    "collapsed": false,
    "pycharm": {
     "name": "#%%\n"
    }
   }
  },
  {
   "cell_type": "code",
   "execution_count": 28,
   "outputs": [
    {
     "name": "stdout",
     "output_type": "stream",
     "text": [
      "m\n"
     ]
    }
   ],
   "source": [
    "a.sa(\"m\")"
   ],
   "metadata": {
    "collapsed": false,
    "pycharm": {
     "name": "#%%\n"
    }
   }
  },
  {
   "cell_type": "code",
   "execution_count": 29,
   "outputs": [
    {
     "ename": "TypeError",
     "evalue": "sa() missing 2 required positional arguments: 'self' and 'b'",
     "output_type": "error",
     "traceback": [
      "\u001B[1;31m---------------------------------------------------------------------------\u001B[0m",
      "\u001B[1;31mTypeError\u001B[0m                                 Traceback (most recent call last)",
      "Input \u001B[1;32mIn [29]\u001B[0m, in \u001B[0;36m<cell line: 1>\u001B[1;34m()\u001B[0m\n\u001B[1;32m----> 1\u001B[0m \u001B[43mA\u001B[49m\u001B[38;5;241;43m.\u001B[39;49m\u001B[43msa\u001B[49m\u001B[43m(\u001B[49m\u001B[43m)\u001B[49m\n",
      "\u001B[1;31mTypeError\u001B[0m: sa() missing 2 required positional arguments: 'self' and 'b'"
     ]
    }
   ],
   "source": [
    "A.sa()"
   ],
   "metadata": {
    "collapsed": false,
    "pycharm": {
     "name": "#%%\n"
    }
   }
  },
  {
   "cell_type": "code",
   "execution_count": 30,
   "outputs": [],
   "source": [
    "import numpy as np"
   ],
   "metadata": {
    "collapsed": false,
    "pycharm": {
     "name": "#%%\n"
    }
   }
  },
  {
   "cell_type": "code",
   "execution_count": 33,
   "outputs": [
    {
     "data": {
      "text/plain": "array([123434], dtype=uint32)"
     },
     "execution_count": 33,
     "metadata": {},
     "output_type": "execute_result"
    }
   ],
   "source": [
    "np.array([123434.00], dtype=np.uint32)"
   ],
   "metadata": {
    "collapsed": false,
    "pycharm": {
     "name": "#%%\n"
    }
   }
  },
  {
   "cell_type": "code",
   "execution_count": 4,
   "outputs": [],
   "source": [
    "n = 8\n",
    "a = {\n",
    "    \"a\": [None]*n\n",
    "}\n",
    "with open(r\"D:\\Desktop\\新建文件夹\\t.json\", 'w') as f:\n",
    "    json.dump(a, f)"
   ],
   "metadata": {
    "collapsed": false,
    "pycharm": {
     "name": "#%%\n"
    }
   }
  },
  {
   "cell_type": "code",
   "execution_count": 1,
   "outputs": [
    {
     "data": {
      "text/plain": "True"
     },
     "execution_count": 1,
     "metadata": {},
     "output_type": "execute_result"
    }
   ],
   "source": [
    "'c_98327'.startswith('c')"
   ],
   "metadata": {
    "collapsed": false,
    "pycharm": {
     "name": "#%%\n"
    }
   }
  },
  {
   "cell_type": "code",
   "execution_count": 2,
   "outputs": [
    {
     "data": {
      "text/plain": "324"
     },
     "execution_count": 2,
     "metadata": {},
     "output_type": "execute_result"
    }
   ],
   "source": [
    "1051-727"
   ],
   "metadata": {
    "collapsed": false,
    "pycharm": {
     "name": "#%%\n"
    }
   }
  },
  {
   "cell_type": "code",
   "execution_count": 4,
   "outputs": [
    {
     "data": {
      "text/plain": "4746"
     },
     "execution_count": 4,
     "metadata": {},
     "output_type": "execute_result"
    }
   ],
   "source": [
    "2373+1203+(2373-1203)"
   ],
   "metadata": {
    "collapsed": false,
    "pycharm": {
     "name": "#%%\n"
    }
   }
  },
  {
   "cell_type": "code",
   "execution_count": 6,
   "outputs": [
    {
     "data": {
      "text/plain": "['D:\\\\Desktop\\\\basic_projects\\\\a_daily_tools\\\\data_preprocessing.py',\n 'D:\\\\Desktop\\\\basic_projects\\\\test\\\\async_demo1.py',\n 'D:\\\\Desktop\\\\basic_projects\\\\test\\\\demo_arg.py',\n 'D:\\\\Desktop\\\\basic_projects\\\\test\\\\las-pcd.py',\n 'D:\\\\Desktop\\\\basic_projects\\\\test\\\\las_topcd.py',\n 'D:\\\\Desktop\\\\basic_projects\\\\test\\\\load_multi.py',\n 'D:\\\\Desktop\\\\basic_projects\\\\test\\\\load_pcd_points.py',\n 'D:\\\\Desktop\\\\basic_projects\\\\test\\\\merge_pcd.py',\n 'D:\\\\Desktop\\\\basic_projects\\\\test\\\\mmmmm.py',\n 'D:\\\\Desktop\\\\basic_projects\\\\test\\\\trans_bin.py',\n 'D:\\\\Desktop\\\\basic_projects\\\\test\\\\X1_camera_config.py',\n 'D:\\\\Desktop\\\\basic_projects\\\\tools\\\\bin2pcd.py',\n 'D:\\\\Desktop\\\\basic_projects\\\\tools\\\\bin_to_pcd.py',\n 'D:\\\\Desktop\\\\basic_projects\\\\tools\\\\convert_camera_parameters.py',\n 'D:\\\\Desktop\\\\basic_projects\\\\tools\\\\generic_txt0824.py',\n 'D:\\\\Desktop\\\\basic_projects\\\\tools\\\\las_load_header.py',\n 'D:\\\\Desktop\\\\basic_projects\\\\tools\\\\single_config.py',\n 'D:\\\\Desktop\\\\basic_projects\\\\tools\\\\timestamp_match.py',\n 'D:\\\\Desktop\\\\basic_projects\\\\tools\\\\鱼眼展平.py',\n 'D:\\\\Desktop\\\\basic_projects\\\\tools\\\\鱼眼展平2.py',\n 'D:\\\\Desktop\\\\basic_projects\\\\上海高仙\\\\gaoxian_output.py',\n 'D:\\\\Desktop\\\\basic_projects\\\\东软\\\\DR_output.py',\n 'D:\\\\Desktop\\\\basic_projects\\\\东软\\\\old_config.py',\n 'D:\\\\Desktop\\\\basic_projects\\\\中汽创智\\\\modify_dir.py',\n 'D:\\\\Desktop\\\\basic_projects\\\\中汽创智\\\\中汽创智.py',\n 'D:\\\\Desktop\\\\basic_projects\\\\中科院电子所\\\\parse_mat_data.py',\n 'D:\\\\Desktop\\\\basic_projects\\\\中科院电子所\\\\ZKYconfig.py',\n 'D:\\\\Desktop\\\\basic_projects\\\\中科院电子所\\\\ZKY_output.py',\n 'D:\\\\Desktop\\\\basic_projects\\\\六安智梭\\\\LAZSoutput.py',\n 'D:\\\\Desktop\\\\basic_projects\\\\厦门大学\\\\c.py',\n 'D:\\\\Desktop\\\\basic_projects\\\\厦门大学\\\\las_to_cut_pcd.py',\n 'D:\\\\Desktop\\\\basic_projects\\\\厦门大学\\\\load_pcd_points.py',\n 'D:\\\\Desktop\\\\basic_projects\\\\吉利\\\\geely_new_output.py',\n 'D:\\\\Desktop\\\\basic_projects\\\\同济大学\\\\modify_camera.py',\n 'D:\\\\Desktop\\\\basic_projects\\\\同济大学\\\\TJDX_output_new.py',\n 'D:\\\\Desktop\\\\basic_projects\\\\同济大学\\\\TJDX_output_with_json_err.py',\n 'D:\\\\Desktop\\\\basic_projects\\\\头条\\\\camera.py',\n 'D:\\\\Desktop\\\\basic_projects\\\\头条\\\\转参数_取逆，老转新.py',\n 'D:\\\\Desktop\\\\basic_projects\\\\季鑫窈\\\\count_pcd.py',\n 'D:\\\\Desktop\\\\basic_projects\\\\季鑫窈\\\\hx_filter.py',\n 'D:\\\\Desktop\\\\basic_projects\\\\季鑫窈\\\\hx_rename_dir.py',\n 'D:\\\\Desktop\\\\basic_projects\\\\季鑫窈\\\\hx_xf.py',\n 'D:\\\\Desktop\\\\basic_projects\\\\导出结果基础信息\\\\output.py',\n 'D:\\\\Desktop\\\\basic_projects\\\\导出结果基础信息\\\\新_融合连续帧导出.py',\n 'D:\\\\Desktop\\\\basic_projects\\\\张子千\\\\fka_21205_output_kitti.py',\n 'D:\\\\Desktop\\\\basic_projects\\\\张子千\\\\frink_cut_output_las.py',\n 'D:\\\\Desktop\\\\basic_projects\\\\张子千\\\\inforks_output_kitti.py',\n 'D:\\\\Desktop\\\\basic_projects\\\\张子千\\\\las_to_pcd.py',\n 'D:\\\\Desktop\\\\basic_projects\\\\恺望\\\\kaiwang_config.py',\n 'D:\\\\Desktop\\\\basic_projects\\\\恺望\\\\kw_merge_result.py',\n 'D:\\\\Desktop\\\\basic_projects\\\\时旭\\\\load_pcd_points.py',\n 'D:\\\\Desktop\\\\basic_projects\\\\时旭\\\\new_cut_result.py',\n 'D:\\\\Desktop\\\\basic_projects\\\\时旭\\\\rectify_txt_value.py',\n 'D:\\\\Desktop\\\\basic_projects\\\\时旭\\\\SX_output.py',\n 'D:\\\\Desktop\\\\basic_projects\\\\时旭\\\\sx_output_0922.py',\n 'D:\\\\Desktop\\\\basic_projects\\\\时旭\\\\时旭分割合并为ply.py',\n 'D:\\\\Desktop\\\\basic_projects\\\\李炜豪\\\\ql_txt_export.py',\n 'D:\\\\Desktop\\\\basic_projects\\\\毫末\\\\毫末.py',\n 'D:\\\\Desktop\\\\basic_projects\\\\毫末\\\\毫末反显.py',\n 'D:\\\\Desktop\\\\basic_projects\\\\法本信息\\\\faben_config.py',\n 'D:\\\\Desktop\\\\basic_projects\\\\法本信息\\\\faben_join_name.py',\n 'D:\\\\Desktop\\\\basic_projects\\\\法本信息\\\\faben_output.py',\n 'D:\\\\Desktop\\\\basic_projects\\\\畅加风行\\\\CJFXrename_image.py',\n 'D:\\\\Desktop\\\\basic_projects\\\\科乐园\\\\KLYconfig.py',\n 'D:\\\\Desktop\\\\basic_projects\\\\科乐园\\\\科乐园.py',\n 'D:\\\\Desktop\\\\basic_projects\\\\科乐园\\\\科乐园camera.py',\n 'D:\\\\Desktop\\\\basic_projects\\\\经纬恒润\\\\ceshi.py',\n 'D:\\\\Desktop\\\\basic_projects\\\\经纬恒润\\\\create_camera_config.py',\n 'D:\\\\Desktop\\\\basic_projects\\\\经纬恒润\\\\jwhr0805.py',\n 'D:\\\\Desktop\\\\basic_projects\\\\经纬恒润\\\\jwhr_output.py',\n 'D:\\\\Desktop\\\\basic_projects\\\\经纬恒润\\\\jwhr_output_detect.py',\n 'D:\\\\Desktop\\\\basic_projects\\\\经纬恒润\\\\jwhr_点云非连续帧标注检测.py',\n 'D:\\\\Desktop\\\\basic_projects\\\\经纬恒润\\\\jwhr_老工具连续帧导出_检测断裂.py',\n 'D:\\\\Desktop\\\\basic_projects\\\\经纬恒润\\\\jwhr新点云（beta）连续帧0815.py',\n 'D:\\\\Desktop\\\\basic_projects\\\\经纬恒润\\\\load_pcd_points.py',\n 'D:\\\\Desktop\\\\basic_projects\\\\经纬恒润\\\\经纬恒润.py',\n 'D:\\\\Desktop\\\\basic_projects\\\\谢秋梅\\\\cam_config.py',\n 'D:\\\\Desktop\\\\basic_projects\\\\谢秋梅\\\\confi2X1.py',\n 'D:\\\\Desktop\\\\basic_projects\\\\谢秋梅\\\\DataMatica_processing.py',\n 'D:\\\\Desktop\\\\basic_projects\\\\谢秋梅\\\\X1_dataset_format.py',\n 'D:\\\\Desktop\\\\basic_projects\\\\辉羲智能\\\\hxzn_cdx_13330_without_start_and_end.py',\n 'D:\\\\Desktop\\\\basic_projects\\\\辉羲智能\\\\hxzn_cdx_all_in_one_json_12719.py',\n 'D:\\\\Desktop\\\\basic_projects\\\\辉羲智能\\\\hxzn_config.py',\n 'D:\\\\Desktop\\\\basic_projects\\\\辉羲智能\\\\hxzn_hld_12989_one_data_one_json.py',\n 'D:\\\\Desktop\\\\basic_projects\\\\辉羲智能\\\\hxzn_json_one_data_one_json_13086(detect_nan).py']"
     },
     "execution_count": 6,
     "metadata": {},
     "output_type": "execute_result"
    }
   ],
   "source": [
    "from glob import glob\n",
    "f = glob(r\"D:\\Desktop\\basic_projects\\*\\*.py\")\n",
    "f"
   ],
   "metadata": {
    "collapsed": false,
    "pycharm": {
     "name": "#%%\n"
    }
   }
  },
  {
   "cell_type": "code",
   "execution_count": 11,
   "outputs": [
    {
     "data": {
      "text/plain": "15"
     },
     "execution_count": 11,
     "metadata": {},
     "output_type": "execute_result"
    }
   ],
   "source": [
    "def fn(n):\n",
    "    q = n\n",
    "    if n == 0:\n",
    "        return q\n",
    "    else:\n",
    "        return q+fn(q-1)\n",
    "fn(5)"
   ],
   "metadata": {
    "collapsed": false,
    "pycharm": {
     "name": "#%%\n"
    }
   }
  },
  {
   "cell_type": "code",
   "execution_count": 1,
   "outputs": [
    {
     "name": "stdout",
     "output_type": "stream",
     "text": [
      "1\n",
      "1\n",
      "2\n",
      "3\n",
      "5\n",
      "8\n",
      "13\n",
      "21\n",
      "34\n"
     ]
    }
   ],
   "source": [
    "def fbnq(n):\n",
    "    if n == 1 or n == 2:\n",
    "        return 1\n",
    "    else:\n",
    "        return fbnq(n-1) + fbnq(n-2)\n",
    "for i in range(1, 10):\n",
    "    print(fbnq(i))"
   ],
   "metadata": {
    "collapsed": false,
    "pycharm": {
     "name": "#%%\n"
    }
   }
  },
  {
   "cell_type": "code",
   "execution_count": 1,
   "outputs": [
    {
     "name": "stdout",
     "output_type": "stream",
     "text": [
      "第1次:从 A 移动至 B\n",
      "第2次:从 A 移动至 C\n",
      "第3次:从 B 移动至 C\n",
      "第4次:从 A 移动至 B\n",
      "第5次:从 C 移动至 A\n",
      "第6次:从 C 移动至 B\n",
      "第7次:从 A 移动至 B\n"
     ]
    }
   ],
   "source": [
    "i = 1\n",
    "def hanoi(num,sou,tar,aux):\n",
    "    global i\n",
    "    if num==1:\n",
    "        print(\"第%d次:从 %c 移动至 %c\" % (i, sou, tar))\n",
    "        i=i+1\n",
    "    else:\n",
    "        #递归调用 hanoi() 函数，将 num-1 个圆盘从起始柱移动到辅助柱上\n",
    "        hanoi(num - 1, sou, aux, tar)\n",
    "        #将起始柱上剩余的最后一个大圆盘移动到目标柱上\n",
    "        print(\"第%d次:从 %c 移动至 %c\" % (i, sou, tar))\n",
    "        i=i+1\n",
    "        #递归调用 hanoi() 函数，将辅助柱上的 num-1 圆盘移动到目标柱上\n",
    "        hanoi(num - 1, aux, tar, sou)\n",
    "\n",
    "#以移动 3 个圆盘为例，起始柱、目标柱、辅助柱分别用 A、B、C 表示\n",
    "hanoi(3, 'A', 'B', 'C')"
   ],
   "metadata": {
    "collapsed": false,
    "pycharm": {
     "name": "#%%\n"
    }
   }
  },
  {
   "cell_type": "code",
   "execution_count": 17,
   "outputs": [
    {
     "name": "stdout",
     "output_type": "stream",
     "text": [
      "<generator object <genexpr> at 0x000001F9A5E7FA50>\n"
     ]
    }
   ],
   "source": [
    "bb = 50\n",
    "k = [10, 20, 30]\n",
    "v = [50, 100, 120]\n",
    "print(x for x in k)\n",
    "# syl = list([lambda x:x/10 for x in k])\n",
    "# syl"
   ],
   "metadata": {
    "collapsed": false,
    "pycharm": {
     "name": "#%%\n"
    }
   }
  },
  {
   "cell_type": "code",
   "execution_count": null,
   "outputs": [],
   "source": [],
   "metadata": {
    "collapsed": false,
    "pycharm": {
     "name": "#%%\n"
    }
   }
  }
 ],
 "metadata": {
  "kernelspec": {
   "display_name": "Python 3",
   "language": "python",
   "name": "python3"
  },
  "language_info": {
   "codemirror_mode": {
    "name": "ipython",
    "version": 2
   },
   "file_extension": ".py",
   "mimetype": "text/x-python",
   "name": "python",
   "nbconvert_exporter": "python",
   "pygments_lexer": "ipython2",
   "version": "2.7.6"
  }
 },
 "nbformat": 4,
 "nbformat_minor": 0
}