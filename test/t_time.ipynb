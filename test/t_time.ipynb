{
 "cells": [
  {
   "cell_type": "code",
   "execution_count": 1,
   "metadata": {
    "collapsed": true
   },
   "outputs": [],
   "source": [
    "from tools.鱼眼展平 import undistortion\n",
    "\n"
   ]
  },
  {
   "cell_type": "code",
   "execution_count": null,
   "outputs": [],
   "source": [
    "相机内参\n",
    "K = np.array([[959.021606445312, 0, 966.002258300781],\n",
    "              [0, 956.644897460938, 565.31298828125],\n",
    "              [0, 0, 1]\n",
    "])\n",
    "    #相机畸变参数\n",
    "D = np.array([-0.0338808558881283, -0.00246503087691963, -0.00735991634428501, 0.00388033338822424])\n",
    "\n",
    "K = np.array([[1965.8002929, 0, 934.8499755],\n",
    "             [0, 1968.1374511, 533.8405151],\n",
    "             [0, 0, 1]\n",
    "])\n",
    "    #相机畸变参数\n",
    "D = np.array([-0.57033282518, 0.287149816751, 0.0, 0.001661069924, 0.0009303900296])\n",
    "\n",
    "img2 = Image.open(r\"D:\\Desktop\\BasicProject\\毛岩\\恺望\\恺望-7v融合&amp;单帧分割5帧试标-20220712\\62c2a4a30523b0812bd48a86\\images\\3d_img0\\20220621163347087_BW_0.jpg\")  #鱼眼图像路径\n",
    "image2 = np.asarray(img2)\n",
    "new_a = undistortion(image2, K, D, method2=True)  # 畸变5个参数，methon=True，  畸变4个参数methon=False\n",
    "# im = Image.fromarray(cv2.undistort(image2, K, D, None, K))\n",
    "# im.save(r\"D:\\Desktop\\BasicProject\\毛岩\\恺望\\恺望-7v融合&amp;单帧分割5帧试标-20220712\\62c2a4a30523b0812bd48a86\\images\\3d_img3\\new.jpg\")   #复原后的图像保存路径\n",
    "new = Image.fromarray(new_a)\n",
    "new.save(r\"D:\\Desktop\\BasicProject\\毛岩\\恺望\\恺望-7v融合&amp;单帧分割5帧试标-20220712\\62c2a4a30523b0812bd48a86\\images\\3d_img0\\new2.jpg\")   #复原后的图像保存路径"
   ],
   "metadata": {
    "collapsed": false,
    "pycharm": {
     "name": "#%%\n"
    }
   }
  },
  {
   "cell_type": "code",
   "execution_count": 1,
   "outputs": [
    {
     "data": {
      "text/plain": "time.struct_time(tm_year=2022, tm_mon=10, tm_mday=19, tm_hour=15, tm_min=54, tm_sec=1, tm_wday=2, tm_yday=292, tm_isdst=0)"
     },
     "execution_count": 1,
     "metadata": {},
     "output_type": "execute_result"
    }
   ],
   "source": [
    "import time\n",
    "time.localtime()"
   ],
   "metadata": {
    "collapsed": false,
    "pycharm": {
     "name": "#%%\n"
    }
   }
  },
  {
   "cell_type": "code",
   "execution_count": 7,
   "outputs": [
    {
     "data": {
      "text/plain": "float"
     },
     "execution_count": 7,
     "metadata": {},
     "output_type": "execute_result"
    }
   ],
   "source": [
    "type(time.time())"
   ],
   "metadata": {
    "collapsed": false,
    "pycharm": {
     "name": "#%%\n"
    }
   }
  },
  {
   "cell_type": "code",
   "execution_count": 10,
   "outputs": [
    {
     "data": {
      "text/plain": "1666166321.9787283"
     },
     "execution_count": 10,
     "metadata": {},
     "output_type": "execute_result"
    }
   ],
   "source": [
    "time.time()"
   ],
   "metadata": {
    "collapsed": false,
    "pycharm": {
     "name": "#%%\n"
    }
   }
  },
  {
   "cell_type": "code",
   "execution_count": 5,
   "outputs": [
    {
     "data": {
      "text/plain": "time.struct_time(tm_year=2022, tm_mon=10, tm_mday=19, tm_hour=15, tm_min=56, tm_sec=4, tm_wday=2, tm_yday=292, tm_isdst=0)"
     },
     "execution_count": 5,
     "metadata": {},
     "output_type": "execute_result"
    }
   ],
   "source": [
    "time.localtime(time.time())"
   ],
   "metadata": {
    "collapsed": false,
    "pycharm": {
     "name": "#%%\n"
    }
   }
  },
  {
   "cell_type": "code",
   "execution_count": 12,
   "outputs": [
    {
     "name": "stdout",
     "output_type": "stream",
     "text": [
      "2022-10-18 15:23:28\n"
     ]
    }
   ],
   "source": [
    "print(time.strftime(\"%Y-%m-%d %H:%M:%S\",time.localtime(1666077808)))"
   ],
   "metadata": {
    "collapsed": false,
    "pycharm": {
     "name": "#%%\n"
    }
   }
  },
  {
   "cell_type": "code",
   "execution_count": null,
   "outputs": [],
   "source": [],
   "metadata": {
    "collapsed": false,
    "pycharm": {
     "name": "#%%\n"
    }
   }
  }
 ],
 "metadata": {
  "kernelspec": {
   "display_name": "Python 3",
   "language": "python",
   "name": "python3"
  },
  "language_info": {
   "codemirror_mode": {
    "name": "ipython",
    "version": 2
   },
   "file_extension": ".py",
   "mimetype": "text/x-python",
   "name": "python",
   "nbconvert_exporter": "python",
   "pygments_lexer": "ipython2",
   "version": "2.7.6"
  }
 },
 "nbformat": 4,
 "nbformat_minor": 0
}