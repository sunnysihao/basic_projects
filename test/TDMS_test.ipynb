{
 "cells": [
  {
   "cell_type": "code",
   "execution_count": 2,
   "metadata": {
    "collapsed": true
   },
   "outputs": [],
   "source": [
    "import matplotlib.pyplot as plt\n",
    "from nptdms import TdmsFile\n",
    "import numpy as np\n",
    "import pandas as pd"
   ]
  },
  {
   "cell_type": "code",
   "execution_count": 3,
   "outputs": [
    {
     "ename": "FileNotFoundError",
     "evalue": "[Errno 2] No such file or directory: 'D:\\\\Desktop\\\\BasicProject\\\\my_file.tdms'",
     "output_type": "error",
     "traceback": [
      "\u001B[1;31m---------------------------------------------------------------------------\u001B[0m",
      "\u001B[1;31mFileNotFoundError\u001B[0m                         Traceback (most recent call last)",
      "Input \u001B[1;32mIn [3]\u001B[0m, in \u001B[0;36m<cell line: 1>\u001B[1;34m()\u001B[0m\n\u001B[1;32m----> 1\u001B[0m \u001B[38;5;28;01mwith\u001B[39;00m \u001B[43mTdmsFile\u001B[49m\u001B[38;5;241;43m.\u001B[39;49m\u001B[43mopen\u001B[49m\u001B[43m(\u001B[49m\u001B[38;5;124;43mr\u001B[39;49m\u001B[38;5;124;43m'\u001B[39;49m\u001B[38;5;124;43mD:\u001B[39;49m\u001B[38;5;124;43m\\\u001B[39;49m\u001B[38;5;124;43mDesktop\u001B[39;49m\u001B[38;5;124;43m\\\u001B[39;49m\u001B[38;5;124;43mBasicProject\u001B[39;49m\u001B[38;5;124;43m\\\u001B[39;49m\u001B[38;5;124;43mmy_file.tdms\u001B[39;49m\u001B[38;5;124;43m'\u001B[39;49m\u001B[43m)\u001B[49m \u001B[38;5;28;01mas\u001B[39;00m tdms_file:\n\u001B[0;32m      2\u001B[0m     \u001B[38;5;28;01mfor\u001B[39;00m group \u001B[38;5;129;01min\u001B[39;00m tdms_file\u001B[38;5;241m.\u001B[39mgroups():      \u001B[38;5;66;03m# TdmsFile可以按组名索引来访问TDMS文件中的组，使用groups()方法直接访问所有组\u001B[39;00m\n\u001B[0;32m      3\u001B[0m         group_name \u001B[38;5;241m=\u001B[39m group\u001B[38;5;241m.\u001B[39mname\n",
      "File \u001B[1;32m~\\AppData\\Local\\Programs\\Python\\Python39\\lib\\site-packages\\nptdms\\tdms.py:87\u001B[0m, in \u001B[0;36mTdmsFile.open\u001B[1;34m(file, raw_timestamps, memmap_dir)\u001B[0m\n\u001B[0;32m     71\u001B[0m \u001B[38;5;129m@staticmethod\u001B[39m\n\u001B[0;32m     72\u001B[0m \u001B[38;5;28;01mdef\u001B[39;00m \u001B[38;5;21mopen\u001B[39m(file, raw_timestamps\u001B[38;5;241m=\u001B[39m\u001B[38;5;28;01mFalse\u001B[39;00m, memmap_dir\u001B[38;5;241m=\u001B[39m\u001B[38;5;28;01mNone\u001B[39;00m):\n\u001B[0;32m     73\u001B[0m     \u001B[38;5;124;03m\"\"\" Creates a new TdmsFile object and reads metadata, leaving the file open\u001B[39;00m\n\u001B[0;32m     74\u001B[0m \u001B[38;5;124;03m        to allow reading channel data\u001B[39;00m\n\u001B[0;32m     75\u001B[0m \n\u001B[1;32m   (...)\u001B[0m\n\u001B[0;32m     85\u001B[0m \u001B[38;5;124;03m        temporary file directory.\u001B[39;00m\n\u001B[0;32m     86\u001B[0m \u001B[38;5;124;03m    \"\"\"\u001B[39;00m\n\u001B[1;32m---> 87\u001B[0m     \u001B[38;5;28;01mreturn\u001B[39;00m \u001B[43mTdmsFile\u001B[49m\u001B[43m(\u001B[49m\n\u001B[0;32m     88\u001B[0m \u001B[43m        \u001B[49m\u001B[43mfile\u001B[49m\u001B[43m,\u001B[49m\u001B[43m \u001B[49m\u001B[43mraw_timestamps\u001B[49m\u001B[38;5;241;43m=\u001B[39;49m\u001B[43mraw_timestamps\u001B[49m\u001B[43m,\u001B[49m\u001B[43m \u001B[49m\u001B[43mmemmap_dir\u001B[49m\u001B[38;5;241;43m=\u001B[39;49m\u001B[43mmemmap_dir\u001B[49m\u001B[43m,\u001B[49m\u001B[43m \u001B[49m\u001B[43mread_metadata_only\u001B[49m\u001B[38;5;241;43m=\u001B[39;49m\u001B[38;5;28;43;01mTrue\u001B[39;49;00m\u001B[43m,\u001B[49m\u001B[43m \u001B[49m\u001B[43mkeep_open\u001B[49m\u001B[38;5;241;43m=\u001B[39;49m\u001B[38;5;28;43;01mTrue\u001B[39;49;00m\u001B[43m)\u001B[49m\n",
      "File \u001B[1;32m~\\AppData\\Local\\Programs\\Python\\Python39\\lib\\site-packages\\nptdms\\tdms.py:129\u001B[0m, in \u001B[0;36mTdmsFile.__init__\u001B[1;34m(self, file, raw_timestamps, memmap_dir, read_metadata_only, keep_open)\u001B[0m\n\u001B[0;32m    126\u001B[0m \u001B[38;5;28mself\u001B[39m\u001B[38;5;241m.\u001B[39m_tdms_version \u001B[38;5;241m=\u001B[39m \u001B[38;5;241m0\u001B[39m\n\u001B[0;32m    127\u001B[0m \u001B[38;5;28mself\u001B[39m\u001B[38;5;241m.\u001B[39mdata_read \u001B[38;5;241m=\u001B[39m \u001B[38;5;28;01mFalse\u001B[39;00m\n\u001B[1;32m--> 129\u001B[0m \u001B[38;5;28mself\u001B[39m\u001B[38;5;241m.\u001B[39m_reader \u001B[38;5;241m=\u001B[39m \u001B[43mTdmsReader\u001B[49m\u001B[43m(\u001B[49m\u001B[43mfile\u001B[49m\u001B[43m)\u001B[49m\n\u001B[0;32m    130\u001B[0m \u001B[38;5;28;01mtry\u001B[39;00m:\n\u001B[0;32m    131\u001B[0m     \u001B[38;5;28mself\u001B[39m\u001B[38;5;241m.\u001B[39m_read_file(\u001B[38;5;28mself\u001B[39m\u001B[38;5;241m.\u001B[39m_reader, read_metadata_only, keep_open)\n",
      "File \u001B[1;32m~\\AppData\\Local\\Programs\\Python\\Python39\\lib\\site-packages\\nptdms\\reader.py:47\u001B[0m, in \u001B[0;36mTdmsReader.__init__\u001B[1;34m(self, tdms_file)\u001B[0m\n\u001B[0;32m     44\u001B[0m \u001B[38;5;28;01melse\u001B[39;00m:\n\u001B[0;32m     45\u001B[0m     \u001B[38;5;66;03m# Is path to a file\u001B[39;00m\n\u001B[0;32m     46\u001B[0m     \u001B[38;5;28mself\u001B[39m\u001B[38;5;241m.\u001B[39m_file_path \u001B[38;5;241m=\u001B[39m \u001B[38;5;28mstr\u001B[39m(tdms_file)\n\u001B[1;32m---> 47\u001B[0m     \u001B[38;5;28mself\u001B[39m\u001B[38;5;241m.\u001B[39m_file \u001B[38;5;241m=\u001B[39m \u001B[38;5;28;43mopen\u001B[39;49m\u001B[43m(\u001B[49m\u001B[38;5;28;43mself\u001B[39;49m\u001B[38;5;241;43m.\u001B[39;49m\u001B[43m_file_path\u001B[49m\u001B[43m,\u001B[49m\u001B[43m \u001B[49m\u001B[38;5;124;43m'\u001B[39;49m\u001B[38;5;124;43mrb\u001B[39;49m\u001B[38;5;124;43m'\u001B[39;49m\u001B[43m)\u001B[49m\n\u001B[0;32m     48\u001B[0m     index_file_path \u001B[38;5;241m=\u001B[39m \u001B[38;5;28mself\u001B[39m\u001B[38;5;241m.\u001B[39m_file_path \u001B[38;5;241m+\u001B[39m \u001B[38;5;124m'\u001B[39m\u001B[38;5;124m_index\u001B[39m\u001B[38;5;124m'\u001B[39m\n\u001B[0;32m     49\u001B[0m     \u001B[38;5;28;01mif\u001B[39;00m os\u001B[38;5;241m.\u001B[39mpath\u001B[38;5;241m.\u001B[39misfile(index_file_path):\n",
      "\u001B[1;31mFileNotFoundError\u001B[0m: [Errno 2] No such file or directory: 'D:\\\\Desktop\\\\BasicProject\\\\my_file.tdms'"
     ]
    }
   ],
   "source": [
    "with TdmsFile.open(r'D:\\Desktop\\BasicProject\\my_file.tdms') as tdms_file:\n",
    "    for group in tdms_file.groups():      # TdmsFile可以按组名索引来访问TDMS文件中的组，使用groups()方法直接访问所有组\n",
    "        group_name = group.name\n",
    "        print(group_name)\n",
    "    for channel in group.channels():      # TdmsGroup 可以通过通道名称来索引来访问这个组中的一个通道，使用 channels()方法直接访问所有通道\n",
    "        channel_name = channel.name\n",
    "        print(channel_name)\n",
    "    channel = tdms_file['group_1']['channel_1']  # 根据索引读取通道\n",
    "    all_channel_data = channel[:]                  # 将此通道中所有的数据作为numpy数组获取\n",
    "    num = np.array(all_channel_data)\n",
    "    print(num)\n",
    "\n"
   ],
   "metadata": {
    "collapsed": false,
    "pycharm": {
     "name": "#%%\n"
    }
   }
  },
  {
   "cell_type": "code",
   "execution_count": 21,
   "outputs": [],
   "source": [
    "tdms_file = TdmsFile.read(r\"C:\\Users\\EDY\\Downloads\\exampleMeasurements.tdms\")"
   ],
   "metadata": {
    "collapsed": false,
    "pycharm": {
     "name": "#%%\n"
    }
   }
  },
  {
   "cell_type": "code",
   "execution_count": 27,
   "outputs": [
    {
     "data": {
      "text/plain": "nptdms.tdms.TdmsFile"
     },
     "execution_count": 27,
     "metadata": {},
     "output_type": "execute_result"
    }
   ],
   "source": [
    "type(tdms_file)"
   ],
   "metadata": {
    "collapsed": false,
    "pycharm": {
     "name": "#%%\n"
    }
   }
  },
  {
   "cell_type": "code",
   "execution_count": 31,
   "outputs": [
    {
     "name": "stdout",
     "output_type": "stream",
     "text": [
      "EHM\n",
      "[<TdmsGroup with path /'EHM'>]\n"
     ]
    }
   ],
   "source": [
    "all_groups = tdms_file.groups()\n",
    "for group in all_groups:\n",
    "    print(group.name)\n",
    "print(all_groups)"
   ],
   "metadata": {
    "collapsed": false,
    "pycharm": {
     "name": "#%%\n"
    }
   }
  },
  {
   "cell_type": "code",
   "execution_count": 32,
   "outputs": [
    {
     "name": "stdout",
     "output_type": "stream",
     "text": [
      "<TdmsChannel with path /'EHM'/'VaGroundV'>\n",
      "<TdmsChannel with path /'EHM'/'VbGroundV'>\n",
      "<TdmsChannel with path /'EHM'/'VcGroundV'>\n",
      "<TdmsChannel with path /'EHM'/'VaVbV'>\n",
      "<TdmsChannel with path /'EHM'/'VbVcV'>\n",
      "<TdmsChannel with path /'EHM'/'VcVaV'>\n",
      "<TdmsChannel with path /'EHM'/'CurrentA'>\n",
      "<TdmsChannel with path /'EHM'/'CurrentB'>\n",
      "<TdmsChannel with path /'EHM'/'CurrentC'>\n",
      "<TdmsChannel with path /'EHM'/'SensoPowerV'>\n",
      "<TdmsChannel with path /'EHM'/'TorqueNm'>\n",
      "<TdmsChannel with path /'EHM'/'LoadN'>\n",
      "<TdmsChannel with path /'EHM'/'TemperatureC'>\n",
      "<TdmsChannel with path /'EHM'/'HallSensor'>\n",
      "<TdmsChannel with path /'EHM'/'SoundPressurePa'>\n",
      "<TdmsChannel with path /'EHM'/'AccelX'>\n",
      "<TdmsChannel with path /'EHM'/'AccelY'>\n",
      "<TdmsChannel with path /'EHM'/'AccelZ'>\n"
     ]
    }
   ],
   "source": [
    "all_group_channels = group.channels()\n",
    "for channel in all_group_channels:\n",
    "    print(channel)"
   ],
   "metadata": {
    "collapsed": false,
    "pycharm": {
     "name": "#%%\n"
    }
   }
  },
  {
   "cell_type": "code",
   "execution_count": 33,
   "outputs": [
    {
     "data": {
      "text/plain": "array([ 0.00433087, -0.00256777, -0.00536799, ..., -0.00800729,\n        0.00939131,  0.01466393])"
     },
     "execution_count": 33,
     "metadata": {},
     "output_type": "execute_result"
    }
   ],
   "source": [
    "all_data = tdms_file['EHM']['AccelX'][:]\n",
    "all_data"
   ],
   "metadata": {
    "collapsed": false,
    "pycharm": {
     "name": "#%%\n"
    }
   }
  },
  {
   "cell_type": "code",
   "execution_count": 35,
   "outputs": [
    {
     "data": {
      "text/plain": "array([ 0.00436544, -0.01236439, -0.017277  , ..., -0.00970602,\n        0.00852346,  0.01237035])"
     },
     "execution_count": 35,
     "metadata": {},
     "output_type": "execute_result"
    }
   ],
   "source": [
    "all_data2 = tdms_file['EHM']['AccelY'][:]\n",
    "all_data2"
   ],
   "metadata": {
    "collapsed": false,
    "pycharm": {
     "name": "#%%\n"
    }
   }
  },
  {
   "cell_type": "code",
   "execution_count": 17,
   "outputs": [
    {
     "ename": "RuntimeError",
     "evalue": "Cannot read data after the underlying TDMS reader is closed",
     "output_type": "error",
     "traceback": [
      "\u001B[1;31m---------------------------------------------------------------------------\u001B[0m",
      "\u001B[1;31mRuntimeError\u001B[0m                              Traceback (most recent call last)",
      "Input \u001B[1;32mIn [17]\u001B[0m, in \u001B[0;36m<cell line: 2>\u001B[1;34m()\u001B[0m\n\u001B[0;32m      1\u001B[0m channel \u001B[38;5;241m=\u001B[39m tdms_file[group_name][channel_name]  \u001B[38;5;66;03m# 根据索引读取通道\u001B[39;00m\n\u001B[1;32m----> 2\u001B[0m all_channel_data \u001B[38;5;241m=\u001B[39m \u001B[43mchannel\u001B[49m\u001B[43m[\u001B[49m\u001B[43m:\u001B[49m\u001B[43m]\u001B[49m                  \u001B[38;5;66;03m# 将此通道中所有的数据作为numpy数组获取\u001B[39;00m\n\u001B[0;32m      3\u001B[0m num \u001B[38;5;241m=\u001B[39m np\u001B[38;5;241m.\u001B[39marray(all_channel_data)\n\u001B[0;32m      4\u001B[0m num\n",
      "File \u001B[1;32m~\\AppData\\Local\\Programs\\Python\\Python39\\lib\\site-packages\\nptdms\\tdms.py:481\u001B[0m, in \u001B[0;36mTdmsChannel.__getitem__\u001B[1;34m(self, index)\u001B[0m\n\u001B[0;32m    479\u001B[0m     \u001B[38;5;28;01mreturn\u001B[39;00m \u001B[38;5;28mself\u001B[39m\u001B[38;5;241m.\u001B[39mread_data()\n\u001B[0;32m    480\u001B[0m \u001B[38;5;28;01melif\u001B[39;00m \u001B[38;5;28misinstance\u001B[39m(index, \u001B[38;5;28mslice\u001B[39m):\n\u001B[1;32m--> 481\u001B[0m     \u001B[38;5;28;01mreturn\u001B[39;00m \u001B[38;5;28;43mself\u001B[39;49m\u001B[38;5;241;43m.\u001B[39;49m\u001B[43m_read_slice\u001B[49m\u001B[43m(\u001B[49m\u001B[43mindex\u001B[49m\u001B[38;5;241;43m.\u001B[39;49m\u001B[43mstart\u001B[49m\u001B[43m,\u001B[49m\u001B[43m \u001B[49m\u001B[43mindex\u001B[49m\u001B[38;5;241;43m.\u001B[39;49m\u001B[43mstop\u001B[49m\u001B[43m,\u001B[49m\u001B[43m \u001B[49m\u001B[43mindex\u001B[49m\u001B[38;5;241;43m.\u001B[39;49m\u001B[43mstep\u001B[49m\u001B[43m)\u001B[49m\n\u001B[0;32m    482\u001B[0m \u001B[38;5;28;01melif\u001B[39;00m \u001B[38;5;28misinstance\u001B[39m(index, \u001B[38;5;28mint\u001B[39m):\n\u001B[0;32m    483\u001B[0m     \u001B[38;5;28;01mreturn\u001B[39;00m \u001B[38;5;28mself\u001B[39m\u001B[38;5;241m.\u001B[39m_read_at_index(index)\n",
      "File \u001B[1;32m~\\AppData\\Local\\Programs\\Python\\Python39\\lib\\site-packages\\nptdms\\tdms.py:735\u001B[0m, in \u001B[0;36mTdmsChannel._read_slice\u001B[1;34m(self, start, stop, step)\u001B[0m\n\u001B[0;32m    733\u001B[0m \u001B[38;5;66;03m# Read data and handle step size\u001B[39;00m\n\u001B[0;32m    734\u001B[0m \u001B[38;5;28;01mif\u001B[39;00m step \u001B[38;5;241m>\u001B[39m \u001B[38;5;241m0\u001B[39m:\n\u001B[1;32m--> 735\u001B[0m     read_data \u001B[38;5;241m=\u001B[39m \u001B[38;5;28;43mself\u001B[39;49m\u001B[38;5;241;43m.\u001B[39;49m\u001B[43mread_data\u001B[49m\u001B[43m(\u001B[49m\u001B[43mstart\u001B[49m\u001B[43m,\u001B[49m\u001B[43m \u001B[49m\u001B[43mstop\u001B[49m\u001B[43m \u001B[49m\u001B[38;5;241;43m-\u001B[39;49m\u001B[43m \u001B[49m\u001B[43mstart\u001B[49m\u001B[43m)\u001B[49m\n\u001B[0;32m    736\u001B[0m     \u001B[38;5;28;01mreturn\u001B[39;00m read_data[::step] \u001B[38;5;28;01mif\u001B[39;00m step \u001B[38;5;241m>\u001B[39m \u001B[38;5;241m1\u001B[39m \u001B[38;5;28;01melse\u001B[39;00m read_data\n\u001B[0;32m    737\u001B[0m \u001B[38;5;28;01melse\u001B[39;00m:\n",
      "File \u001B[1;32m~\\AppData\\Local\\Programs\\Python\\Python39\\lib\\site-packages\\nptdms\\tdms.py:600\u001B[0m, in \u001B[0;36mTdmsChannel.read_data\u001B[1;34m(self, offset, length, scaled)\u001B[0m\n\u001B[0;32m    587\u001B[0m \u001B[38;5;124;03m\"\"\" Reads data for this channel from the TDMS file and returns it as a numpy array\u001B[39;00m\n\u001B[0;32m    588\u001B[0m \n\u001B[0;32m    589\u001B[0m \u001B[38;5;124;03mIndexing into the channel with a slice should be preferred over using\u001B[39;00m\n\u001B[1;32m   (...)\u001B[0m\n\u001B[0;32m    597\u001B[0m \u001B[38;5;124;03m    For DAQmx data a dictionary of scaler id to raw scaler data will be returned.\u001B[39;00m\n\u001B[0;32m    598\u001B[0m \u001B[38;5;124;03m\"\"\"\u001B[39;00m\n\u001B[0;32m    599\u001B[0m \u001B[38;5;28;01mif\u001B[39;00m \u001B[38;5;28mself\u001B[39m\u001B[38;5;241m.\u001B[39m_raw_data \u001B[38;5;129;01mis\u001B[39;00m \u001B[38;5;28;01mNone\u001B[39;00m:\n\u001B[1;32m--> 600\u001B[0m     raw_data \u001B[38;5;241m=\u001B[39m \u001B[38;5;28;43mself\u001B[39;49m\u001B[38;5;241;43m.\u001B[39;49m\u001B[43m_read_channel_data\u001B[49m\u001B[43m(\u001B[49m\u001B[43moffset\u001B[49m\u001B[43m,\u001B[49m\u001B[43m \u001B[49m\u001B[43mlength\u001B[49m\u001B[43m)\u001B[49m\n\u001B[0;32m    601\u001B[0m \u001B[38;5;28;01melse\u001B[39;00m:\n\u001B[0;32m    602\u001B[0m     raw_data \u001B[38;5;241m=\u001B[39m slice_raw_data(\u001B[38;5;28mself\u001B[39m\u001B[38;5;241m.\u001B[39m_raw_data, offset, length)\n",
      "File \u001B[1;32m~\\AppData\\Local\\Programs\\Python\\Python39\\lib\\site-packages\\nptdms\\tdms.py:802\u001B[0m, in \u001B[0;36mTdmsChannel._read_channel_data\u001B[1;34m(self, offset, length)\u001B[0m\n\u001B[0;32m    798\u001B[0m     channel_data \u001B[38;5;241m=\u001B[39m get_data_receiver(\u001B[38;5;28mself\u001B[39m, num_values, \u001B[38;5;28mself\u001B[39m\u001B[38;5;241m.\u001B[39m_raw_timestamps, \u001B[38;5;28mself\u001B[39m\u001B[38;5;241m.\u001B[39m_memmap_dir)\n\u001B[0;32m    800\u001B[0m \u001B[38;5;28;01mwith\u001B[39;00m Timer(log, \u001B[38;5;124m\"\u001B[39m\u001B[38;5;124mRead data for channel\u001B[39m\u001B[38;5;124m\"\u001B[39m):\n\u001B[0;32m    801\u001B[0m     \u001B[38;5;66;03m# Now actually read all the data\u001B[39;00m\n\u001B[1;32m--> 802\u001B[0m     \u001B[38;5;28;01mfor\u001B[39;00m chunk \u001B[38;5;129;01min\u001B[39;00m \u001B[38;5;28mself\u001B[39m\u001B[38;5;241m.\u001B[39m_reader\u001B[38;5;241m.\u001B[39mread_raw_data_for_channel(\u001B[38;5;28mself\u001B[39m\u001B[38;5;241m.\u001B[39mpath, offset, length):\n\u001B[0;32m    803\u001B[0m         \u001B[38;5;28;01mif\u001B[39;00m chunk\u001B[38;5;241m.\u001B[39mdata \u001B[38;5;129;01mis\u001B[39;00m \u001B[38;5;129;01mnot\u001B[39;00m \u001B[38;5;28;01mNone\u001B[39;00m:\n\u001B[0;32m    804\u001B[0m             channel_data\u001B[38;5;241m.\u001B[39mappend_data(chunk\u001B[38;5;241m.\u001B[39mdata)\n",
      "File \u001B[1;32m~\\AppData\\Local\\Programs\\Python\\Python39\\lib\\site-packages\\nptdms\\reader.py:132\u001B[0m, in \u001B[0;36mTdmsReader.read_raw_data_for_channel\u001B[1;34m(self, channel_path, offset, length)\u001B[0m\n\u001B[0;32m    122\u001B[0m \u001B[38;5;28;01mdef\u001B[39;00m \u001B[38;5;21mread_raw_data_for_channel\u001B[39m(\u001B[38;5;28mself\u001B[39m, channel_path, offset\u001B[38;5;241m=\u001B[39m\u001B[38;5;241m0\u001B[39m, length\u001B[38;5;241m=\u001B[39m\u001B[38;5;28;01mNone\u001B[39;00m):\n\u001B[0;32m    123\u001B[0m     \u001B[38;5;124;03m\"\"\" Read raw data for a single channel, chunk by chunk\u001B[39;00m\n\u001B[0;32m    124\u001B[0m \n\u001B[0;32m    125\u001B[0m \u001B[38;5;124;03m    :param channel_path: The path of the channel object to read data for\u001B[39;00m\n\u001B[1;32m   (...)\u001B[0m\n\u001B[0;32m    130\u001B[0m \u001B[38;5;124;03m    :returns: A generator that yields RawChannelDataChunk objects\u001B[39;00m\n\u001B[0;32m    131\u001B[0m \u001B[38;5;124;03m    \"\"\"\u001B[39;00m\n\u001B[1;32m--> 132\u001B[0m     \u001B[38;5;28;43mself\u001B[39;49m\u001B[38;5;241;43m.\u001B[39;49m\u001B[43m_ensure_open\u001B[49m\u001B[43m(\u001B[49m\u001B[43m)\u001B[49m\n\u001B[0;32m    133\u001B[0m     \u001B[38;5;28;01mif\u001B[39;00m \u001B[38;5;28mself\u001B[39m\u001B[38;5;241m.\u001B[39m_segments \u001B[38;5;129;01mis\u001B[39;00m \u001B[38;5;28;01mNone\u001B[39;00m:\n\u001B[0;32m    134\u001B[0m         \u001B[38;5;28;01mraise\u001B[39;00m \u001B[38;5;167;01mRuntimeError\u001B[39;00m(\u001B[38;5;124m\"\u001B[39m\u001B[38;5;124mCannot read data unless metadata has first been read\u001B[39m\u001B[38;5;124m\"\u001B[39m)\n",
      "File \u001B[1;32m~\\AppData\\Local\\Programs\\Python\\Python39\\lib\\site-packages\\nptdms\\reader.py:393\u001B[0m, in \u001B[0;36mTdmsReader._ensure_open\u001B[1;34m(self)\u001B[0m\n\u001B[0;32m    391\u001B[0m \u001B[38;5;28;01mdef\u001B[39;00m \u001B[38;5;21m_ensure_open\u001B[39m(\u001B[38;5;28mself\u001B[39m):\n\u001B[0;32m    392\u001B[0m     \u001B[38;5;28;01mif\u001B[39;00m \u001B[38;5;28mself\u001B[39m\u001B[38;5;241m.\u001B[39m_file \u001B[38;5;129;01mis\u001B[39;00m \u001B[38;5;28;01mNone\u001B[39;00m:\n\u001B[1;32m--> 393\u001B[0m         \u001B[38;5;28;01mraise\u001B[39;00m \u001B[38;5;167;01mRuntimeError\u001B[39;00m(\n\u001B[0;32m    394\u001B[0m             \u001B[38;5;124m\"\u001B[39m\u001B[38;5;124mCannot read data after the underlying TDMS reader is closed\u001B[39m\u001B[38;5;124m\"\u001B[39m)\n",
      "\u001B[1;31mRuntimeError\u001B[0m: Cannot read data after the underlying TDMS reader is closed"
     ]
    }
   ],
   "source": [
    "channel = tdms_file[group_name][channel_name]  # 根据索引读取通道\n",
    "all_channel_data = channel[:]                  # 将此通道中所有的数据作为numpy数组获取\n",
    "num = np.array(all_channel_data)\n",
    "num                              # 维度查看\n"
   ],
   "metadata": {
    "collapsed": false,
    "pycharm": {
     "name": "#%%\n"
    }
   }
  },
  {
   "cell_type": "code",
   "execution_count": 13,
   "outputs": [],
   "source": [
    "from nptdms import TdmsWriter, RootObject, GroupObject, ChannelObject\n",
    "\n",
    "root_object = RootObject(properties={\n",
    "    \"prop1\": \"foo\",\n",
    "    \"prop2\": 3,\n",
    "})\n",
    "group_object = GroupObject(\"group_1\", properties={\n",
    "    \"prop1\": 1.2345,\n",
    "    \"prop2\": False,\n",
    "})\n",
    "data = np.array([1.0, 2.0, 3.0, 4.0, 5.0])\n",
    "channel_object = ChannelObject(\"group_1\", \"channel_1\", data, properties={})\n",
    "\n",
    "with TdmsWriter(r\"D:\\Desktop\\BasicProject\\my_file.tdms\") as tdms_writer:\n",
    "    # Write first segment\n",
    "    tdms_writer.write_segment([\n",
    "        root_object,\n",
    "        group_object,\n",
    "        channel_object])\n",
    "    # Write another segment with more data for the same channel\n",
    "    more_data = np.array([6.0, 7.0, 8.0, 9.0, 10.0])\n",
    "    channel_object = ChannelObject(\"group_1\", \"channel_1\", more_data, properties={})\n",
    "    tdms_writer.write_segment([channel_object])"
   ],
   "metadata": {
    "collapsed": false,
    "pycharm": {
     "name": "#%%\n"
    }
   }
  },
  {
   "cell_type": "code",
   "execution_count": 48,
   "outputs": [],
   "source": [],
   "metadata": {
    "collapsed": false,
    "pycharm": {
     "name": "#%%\n"
    }
   }
  },
  {
   "cell_type": "code",
   "execution_count": 1,
   "outputs": [],
   "source": [
    "import math"
   ],
   "metadata": {
    "collapsed": false,
    "pycharm": {
     "name": "#%%\n"
    }
   }
  },
  {
   "cell_type": "code",
   "execution_count": 3,
   "outputs": [
    {
     "data": {
      "text/plain": "1.5707963267948966"
     },
     "execution_count": 3,
     "metadata": {},
     "output_type": "execute_result"
    }
   ],
   "source": [
    "x = 0\n",
    "y = 1\n",
    "math.atan2(y, x)"
   ],
   "metadata": {
    "collapsed": false,
    "pycharm": {
     "name": "#%%\n"
    }
   }
  },
  {
   "cell_type": "code",
   "execution_count": 103,
   "outputs": [],
   "source": [
    "import json\n",
    "import pprint\n",
    "import numpy as np\n",
    "import numpy.linalg as la\n",
    "with open (r'D:\\Desktop\\Project_file\\张子千\\audi\\a2d2-preview\\cams_lidars.json', 'r') as f:\n",
    "    config = json.load(f)\n",
    "EPSILON = 1.0e-10 # norm should not be small\n",
    "def get_axes_of_a_view(view):\n",
    "    x_axis = view['x-axis']\n",
    "    y_axis = view['y-axis']\n",
    "\n",
    "    x_axis_norm = la.norm(x_axis)\n",
    "    y_axis_norm = la.norm(y_axis)\n",
    "\n",
    "    if (x_axis_norm < EPSILON or y_axis_norm < EPSILON):\n",
    "        raise ValueError(\"Norm of input vector(s) too small.\")\n",
    "\n",
    "    # normalize the axes\n",
    "    x_axis = x_axis / x_axis_norm\n",
    "    y_axis = y_axis / y_axis_norm\n",
    "\n",
    "    # make a new y-axis which lies in the original x-y plane, but is orthogonal to x-axis\n",
    "    y_axis = y_axis - x_axis * np.dot(y_axis, x_axis)\n",
    "\n",
    "    # create orthogonal z-axis\n",
    "    z_axis = np.cross(x_axis, y_axis)\n",
    "\n",
    "    # calculate and check y-axis and z-axis norms\n",
    "    y_axis_norm = la.norm(y_axis)\n",
    "    z_axis_norm = la.norm(z_axis)\n",
    "\n",
    "    if (y_axis_norm < EPSILON) or (z_axis_norm < EPSILON):\n",
    "        raise ValueError(\"Norm of view axis vector(s) too small.\")\n",
    "\n",
    "    # make x/y/z-axes orthonormal\n",
    "    y_axis = y_axis / y_axis_norm\n",
    "    z_axis = z_axis / z_axis_norm\n",
    "\n",
    "    return x_axis, y_axis, z_axis\n",
    "def get_origin_of_a_view(view):\n",
    "    return view['origin']\n",
    "def get_transform_to_global(view):\n",
    "    # get axes\n",
    "    x_axis, y_axis, z_axis = get_axes_of_a_view(view)\n",
    "\n",
    "    # get origin\n",
    "    origin = get_origin_of_a_view(view)\n",
    "    transform_to_global = np.eye(4)\n",
    "\n",
    "    # rotation\n",
    "    transform_to_global[0:3, 0] = x_axis\n",
    "    transform_to_global[0:3, 1] = y_axis\n",
    "    transform_to_global[0:3, 2] = z_axis\n",
    "\n",
    "    # origin\n",
    "    transform_to_global[0:3, 3] = origin\n",
    "\n",
    "    return transform_to_global\n",
    "\n",
    "views = ['front_center', 'front_left', 'front_right', 'rear_left', 'rear_right']\n",
    "# for view in :\n",
    "#     lidar = config['lidars'][view]['view']\n",
    "#     ext = get_transform_to_global(lidar)\n",
    "lidar_1 = config['lidars']['front_center']['view']\n",
    "lidar_2 = config['lidars']['front_left']['view']\n",
    "lidar_3 = config['lidars']['front_right']['view']\n",
    "lidar_4 = config['lidars']['rear_left']['view']\n",
    "lidar_5 = config['lidars']['rear_right']['view']\n",
    "# lidar_6 = config['lidars']['front_center']['view']\n",
    "\n",
    "ext1 = get_transform_to_global(lidar_1)\n",
    "ext2 = get_transform_to_global(lidar_2)\n",
    "ext3 = get_transform_to_global(lidar_3)\n",
    "ext4 = get_transform_to_global(lidar_4)\n",
    "ext5 = get_transform_to_global(lidar_5)\n",
    "# ext6 = get_transform_to_global(lidar_6)"
   ],
   "metadata": {
    "collapsed": false,
    "pycharm": {
     "name": "#%%\n"
    }
   }
  },
  {
   "cell_type": "code",
   "execution_count": 110,
   "outputs": [],
   "source": [
    "f1 = r\"D:\\Desktop\\Project_file\\张子千\\audi\\a2d2-preview\\camera_lidar\\20180810_150607\\lidar\\cam_front_center\\20180810150607_lidar_frontcenter_000000083.npz\"\n",
    "f2 = r\"D:\\Desktop\\Project_file\\张子千\\audi\\a2d2-preview\\camera_lidar\\20180810_150607\\lidar\\cam_front_left\\20180810150607_lidar_frontleft_000000083.npz\"\n",
    "f3 = r\"D:\\Desktop\\Project_file\\张子千\\audi\\a2d2-preview\\camera_lidar\\20180810_150607\\lidar\\cam_front_right\\20180810150607_lidar_frontright_000000083.npz\"\n",
    "f6 = r\"D:\\Desktop\\Project_file\\张子千\\audi\\a2d2-preview\\camera_lidar\\20180810_150607\\lidar\\cam_rear_center\\20180810150607_lidar_rearcenter_000000060.npz\"\n",
    "f4 = r\"D:\\Desktop\\Project_file\\张子千\\audi\\a2d2-preview\\camera_lidar\\20180810_150607\\lidar\\cam_side_left\\20180810150607_lidar_sideleft_000000060.npz\"\n",
    "f5 = r\"D:\\Desktop\\Project_file\\张子千\\audi\\a2d2-preview\\camera_lidar\\20180810_150607\\lidar\\cam_side_right\\20180810150607_lidar_sideright_000000060.npz\""
   ],
   "metadata": {
    "collapsed": false,
    "pycharm": {
     "name": "#%%\n"
    }
   }
  },
  {
   "cell_type": "code",
   "execution_count": 113,
   "outputs": [],
   "source": [
    "def parse_points(datas, ext):\n",
    "    # i = datas['pcloud_attr.reflectance']\n",
    "    point = datas['pcloud_points']\n",
    "    i = np.ones(len(point))\n",
    "    points = np.hstack((point, i.reshape((-1,1)))) @ ext\n",
    "    return points\n",
    "def write_pcd(points):\n",
    "    with open(rf\"D:\\Desktop\\Project_file\\张子千\\audi\\新建文件夹\\merge_use_lidar.pcd\", 'w', encoding='ascii') as pcd_file:\n",
    "        point_num = points.shape[0]\n",
    "        heads = [\n",
    "            '# .PCD v0.7 - Point Cloud Data file format',\n",
    "            'VERSION 0.7',\n",
    "            'FIELDS x y z i',\n",
    "            'SIZE 4 4 4 4',\n",
    "            'TYPE F F F F',\n",
    "            'COUNT 1 1 1 1',\n",
    "            f'WIDTH {point_num}',\n",
    "            'HEIGHT 1',\n",
    "            'VIEWPOINT 0 0 0 1 0 0 0',\n",
    "            f'POINTS {point_num}',\n",
    "            'DATA ascii'\n",
    "        ]\n",
    "        pcd_file.write('\\n'.join(heads))\n",
    "        for i in range(point_num):\n",
    "            string_point = '\\n' + str(points[i, 0]) + ' ' + str(points[i, 1]) + ' ' + str(points[i, 2]) + ' ' + str(points[i, 3])\n",
    "            pcd_file.write(string_point)"
   ],
   "metadata": {
    "collapsed": false,
    "pycharm": {
     "name": "#%%\n"
    }
   }
  },
  {
   "cell_type": "code",
   "execution_count": 114,
   "outputs": [],
   "source": [
    "files = [f1, f2, f3, f4, f5]\n",
    "points = np.array([[0, 0, 0, 1]])\n",
    "for i in range(5):\n",
    "    datas = np.load(files[i])\n",
    "    lidar = config['lidars'][views[i]]['view']\n",
    "    ext = get_transform_to_global(lidar)\n",
    "    point = parse_points(datas, ext)\n",
    "    points = np.around(np.vstack((points, point)), 3)\n",
    "    write_pcd(points)\n",
    "\n"
   ],
   "metadata": {
    "collapsed": false,
    "pycharm": {
     "name": "#%%\n"
    }
   }
  },
  {
   "cell_type": "code",
   "execution_count": null,
   "outputs": [],
   "source": [],
   "metadata": {
    "collapsed": false,
    "pycharm": {
     "name": "#%%\n"
    }
   }
  },
  {
   "cell_type": "code",
   "execution_count": 85,
   "outputs": [
    {
     "data": {
      "text/plain": "array([[-0.008,  0.981,  0.195,  1.718],\n       [-1.   , -0.006, -0.01 ,  0.   ],\n       [-0.009, -0.195,  0.981,  1.12 ],\n       [ 0.   ,  0.   ,  0.   ,  1.   ]])"
     },
     "execution_count": 85,
     "metadata": {},
     "output_type": "execute_result"
    }
   ],
   "source": [
    "np.set_printoptions(precision=3, suppress=True)\n",
    "ext1"
   ],
   "metadata": {
    "collapsed": false,
    "pycharm": {
     "name": "#%%\n"
    }
   }
  },
  {
   "cell_type": "code",
   "execution_count": 90,
   "outputs": [],
   "source": [],
   "metadata": {
    "collapsed": false,
    "pycharm": {
     "name": "#%%\n"
    }
   }
  },
  {
   "cell_type": "code",
   "execution_count": 87,
   "outputs": [],
   "source": [],
   "metadata": {
    "collapsed": false,
    "pycharm": {
     "name": "#%%\n"
    }
   }
  },
  {
   "cell_type": "code",
   "execution_count": 27,
   "outputs": [
    {
     "data": {
      "text/plain": "array([[ 18.36098678,  22.27193186,  -1.17964227,  34.        ],\n       [ 23.61544058,  28.63543877,   1.07865641,  57.        ],\n       [ 18.47636053,  22.24693162,  -1.16846125,  34.        ],\n       ...,\n       [ 54.14718759, -58.2765401 ,  11.84631328,  63.        ],\n       [ 54.04730885, -58.53217118,  11.98414589,  63.        ],\n       [ 53.89733437, -59.48843391,  12.44430544,  63.        ]])"
     },
     "execution_count": 27,
     "metadata": {},
     "output_type": "execute_result"
    }
   ],
   "source": [],
   "metadata": {
    "collapsed": false,
    "pycharm": {
     "name": "#%%\n"
    }
   }
  },
  {
   "cell_type": "code",
   "execution_count": 102,
   "outputs": [],
   "source": [
    "def write_pcd2(num, points):\n",
    "    with open(rf\"D:\\Desktop\\Project_file\\张子千\\audi\\新建文件夹\\t{num}.pcd\", 'w', encoding='ascii') as pcd_file:\n",
    "        point_num = points.shape[0]\n",
    "        heads = [\n",
    "            '# .PCD v0.7 - Point Cloud Data file format',\n",
    "            'VERSION 0.7',\n",
    "            'FIELDS x y z i',\n",
    "            'SIZE 4 4 4 4',\n",
    "            'TYPE F F F F',\n",
    "            'COUNT 1 1 1 1',\n",
    "            f'WIDTH {point_num}',\n",
    "            'HEIGHT 1',\n",
    "            'VIEWPOINT 0 0 0 1 0 0 0',\n",
    "            f'POINTS {point_num}',\n",
    "            'DATA ascii'\n",
    "        ]\n",
    "        pcd_file.write('\\n'.join(heads))\n",
    "        for i in range(point_num):\n",
    "            string_point = '\\n' + str(points[i, 0]) + ' ' + str(points[i, 1]) + ' ' + str(points[i, 2]) + ' ' + str(points[i, 3])\n",
    "            pcd_file.write(string_point)"
   ],
   "metadata": {
    "collapsed": false,
    "pycharm": {
     "name": "#%%\n"
    }
   }
  },
  {
   "cell_type": "code",
   "execution_count": 89,
   "outputs": [],
   "source": [
    "files = [f1, f2, f3, f4, f5]\n",
    "for i in range(5):\n",
    "    datas = np.load(files[i])\n",
    "    lidar = config['lidars'][views[i]]['view']\n",
    "    ext = get_transform_to_global(lidar)\n",
    "    points = np.around(parse_points(datas, ext), 3)\n",
    "    write_pcd2(points)"
   ],
   "metadata": {
    "collapsed": false,
    "pycharm": {
     "name": "#%%\n"
    }
   }
  },
  {
   "cell_type": "code",
   "execution_count": 111,
   "outputs": [],
   "source": [
    "c1 = r\"D:\\Desktop\\Project_file\\张子千\\audi\\a2d2-preview\\camera_lidar\\20180810_150607\\camera\\cam_front_center\\20180810150607_camera_frontcenter_000000083.json\"\n",
    "c2 = r\"D:\\Desktop\\Project_file\\张子千\\audi\\a2d2-preview\\camera_lidar\\20180810_150607\\camera\\cam_front_left\\20180810150607_camera_frontleft_000000083.json\"\n",
    "c3 = r\"D:\\Desktop\\Project_file\\张子千\\audi\\a2d2-preview\\camera_lidar\\20180810_150607\\camera\\cam_front_right\\20180810150607_camera_frontright_000000083.json\"\n",
    "c4 = r\"D:\\Desktop\\Project_file\\张子千\\audi\\a2d2-preview\\camera_lidar\\20180810_150607\\camera\\cam_side_left\\20180810150607_camera_sideleft_000000060.json\"\n",
    "c5 = r\"D:\\Desktop\\Project_file\\张子千\\audi\\a2d2-preview\\camera_lidar\\20180810_150607\\camera\\cam_side_right\\20180810150607_camera_sideright_000000060.json\"\n",
    "c6 = r\"D:\\Desktop\\Project_file\\张子千\\audi\\a2d2-preview\\camera_lidar\\20180810_150607\\camera\\cam_rear_center\\20180810150607_camera_rearcenter_000000060.json\"\n",
    "cs = [c1, c2, c3, c4, c5, c6]\n",
    "def parse_ext(file):\n",
    "    with open(file, 'r') as tf:\n",
    "        cfg = json.load(tf)\n",
    "        ext_t = get_transform_to_global(cfg['pcld_view'])\n",
    "        return ext_t"
   ],
   "metadata": {
    "collapsed": false,
    "pycharm": {
     "name": "#%%\n"
    }
   }
  },
  {
   "cell_type": "code",
   "execution_count": 112,
   "outputs": [],
   "source": [
    "files = [f1, f2, f3, f4, f5, f6]\n",
    "points = np.array([[0, 0, 0, 1]])\n",
    "for i in range(6):\n",
    "    datas = np.load(files[i])\n",
    "    ext = parse_ext(cs[i])\n",
    "    point = parse_points(datas, ext)\n",
    "    points = np.around(np.vstack((points, point)), 3)\n",
    "    write_pcd(points)"
   ],
   "metadata": {
    "collapsed": false,
    "pycharm": {
     "name": "#%%\n"
    }
   }
  },
  {
   "cell_type": "code",
   "execution_count": 109,
   "outputs": [],
   "source": [
    "data = {\n",
    "    \"3d_img0\":{\n",
    "    \"camera_internal\": {\n",
    "                    \"fx\": 1844.1774422790927,\n",
    "                    \"fy\": 1841.5212239377258,\n",
    "                    \"cx\": 964.42990523863864,\n",
    "                    \"cy\": 679.5331911948183\n",
    "                },\n",
    "    \"camera_external\": ext_t.flatten().tolist()\n",
    "    }}\n",
    "with open(r\"D:\\Desktop\\Project_file\\张子千\\audi\\新建文件夹\\config.json\", 'w') as cf:\n",
    "    json.dump(data, cf)"
   ],
   "metadata": {
    "collapsed": false,
    "pycharm": {
     "name": "#%%\n"
    }
   }
  },
  {
   "cell_type": "code",
   "execution_count": null,
   "outputs": [],
   "source": [],
   "metadata": {
    "collapsed": false,
    "pycharm": {
     "name": "#%%\n"
    }
   }
  }
 ],
 "metadata": {
  "kernelspec": {
   "display_name": "Python 3",
   "language": "python",
   "name": "python3"
  },
  "language_info": {
   "codemirror_mode": {
    "name": "ipython",
    "version": 2
   },
   "file_extension": ".py",
   "mimetype": "text/x-python",
   "name": "python",
   "nbconvert_exporter": "python",
   "pygments_lexer": "ipython2",
   "version": "2.7.6"
  }
 },
 "nbformat": 4,
 "nbformat_minor": 0
}