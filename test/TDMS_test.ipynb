{
 "cells": [
  {
   "cell_type": "code",
   "execution_count": 11,
   "metadata": {
    "collapsed": true
   },
   "outputs": [],
   "source": [
    "import matplotlib.pyplot as plt\n",
    "from nptdms import TdmsFile\n",
    "import numpy as np\n",
    "import pandas as pd"
   ]
  },
  {
   "cell_type": "code",
   "execution_count": 20,
   "outputs": [
    {
     "name": "stdout",
     "output_type": "stream",
     "text": [
      "group_1\n",
      "channel_1\n",
      "[ 1.  2.  3.  4.  5.  6.  7.  8.  9. 10.]\n"
     ]
    }
   ],
   "source": [
    "with TdmsFile.open(r'D:\\Desktop\\BasicProject\\my_file.tdms') as tdms_file:\n",
    "    for group in tdms_file.groups():      # TdmsFile可以按组名索引来访问TDMS文件中的组，使用groups()方法直接访问所有组\n",
    "        group_name = group.name\n",
    "        print(group_name)\n",
    "    for channel in group.channels():      # TdmsGroup 可以通过通道名称来索引来访问这个组中的一个通道，使用 channels()方法直接访问所有通道\n",
    "        channel_name = channel.name\n",
    "        print(channel_name)\n",
    "    channel = tdms_file['group_1']['channel_1']  # 根据索引读取通道\n",
    "    all_channel_data = channel[:]                  # 将此通道中所有的数据作为numpy数组获取\n",
    "    num = np.array(all_channel_data)\n",
    "    print(num)\n",
    "\n"
   ],
   "metadata": {
    "collapsed": false,
    "pycharm": {
     "name": "#%%\n"
    }
   }
  },
  {
   "cell_type": "code",
   "execution_count": 21,
   "outputs": [],
   "source": [
    "tdms_file = TdmsFile.read(r\"C:\\Users\\EDY\\Downloads\\exampleMeasurements.tdms\")"
   ],
   "metadata": {
    "collapsed": false,
    "pycharm": {
     "name": "#%%\n"
    }
   }
  },
  {
   "cell_type": "code",
   "execution_count": 27,
   "outputs": [
    {
     "data": {
      "text/plain": "nptdms.tdms.TdmsFile"
     },
     "execution_count": 27,
     "metadata": {},
     "output_type": "execute_result"
    }
   ],
   "source": [
    "type(tdms_file)"
   ],
   "metadata": {
    "collapsed": false,
    "pycharm": {
     "name": "#%%\n"
    }
   }
  },
  {
   "cell_type": "code",
   "execution_count": 31,
   "outputs": [
    {
     "name": "stdout",
     "output_type": "stream",
     "text": [
      "EHM\n",
      "[<TdmsGroup with path /'EHM'>]\n"
     ]
    }
   ],
   "source": [
    "all_groups = tdms_file.groups()\n",
    "for group in all_groups:\n",
    "    print(group.name)\n",
    "print(all_groups)"
   ],
   "metadata": {
    "collapsed": false,
    "pycharm": {
     "name": "#%%\n"
    }
   }
  },
  {
   "cell_type": "code",
   "execution_count": 32,
   "outputs": [
    {
     "name": "stdout",
     "output_type": "stream",
     "text": [
      "<TdmsChannel with path /'EHM'/'VaGroundV'>\n",
      "<TdmsChannel with path /'EHM'/'VbGroundV'>\n",
      "<TdmsChannel with path /'EHM'/'VcGroundV'>\n",
      "<TdmsChannel with path /'EHM'/'VaVbV'>\n",
      "<TdmsChannel with path /'EHM'/'VbVcV'>\n",
      "<TdmsChannel with path /'EHM'/'VcVaV'>\n",
      "<TdmsChannel with path /'EHM'/'CurrentA'>\n",
      "<TdmsChannel with path /'EHM'/'CurrentB'>\n",
      "<TdmsChannel with path /'EHM'/'CurrentC'>\n",
      "<TdmsChannel with path /'EHM'/'SensoPowerV'>\n",
      "<TdmsChannel with path /'EHM'/'TorqueNm'>\n",
      "<TdmsChannel with path /'EHM'/'LoadN'>\n",
      "<TdmsChannel with path /'EHM'/'TemperatureC'>\n",
      "<TdmsChannel with path /'EHM'/'HallSensor'>\n",
      "<TdmsChannel with path /'EHM'/'SoundPressurePa'>\n",
      "<TdmsChannel with path /'EHM'/'AccelX'>\n",
      "<TdmsChannel with path /'EHM'/'AccelY'>\n",
      "<TdmsChannel with path /'EHM'/'AccelZ'>\n"
     ]
    }
   ],
   "source": [
    "all_group_channels = group.channels()\n",
    "for channel in all_group_channels:\n",
    "    print(channel)"
   ],
   "metadata": {
    "collapsed": false,
    "pycharm": {
     "name": "#%%\n"
    }
   }
  },
  {
   "cell_type": "code",
   "execution_count": 33,
   "outputs": [
    {
     "data": {
      "text/plain": "array([ 0.00433087, -0.00256777, -0.00536799, ..., -0.00800729,\n        0.00939131,  0.01466393])"
     },
     "execution_count": 33,
     "metadata": {},
     "output_type": "execute_result"
    }
   ],
   "source": [
    "all_data = tdms_file['EHM']['AccelX'][:]\n",
    "all_data"
   ],
   "metadata": {
    "collapsed": false,
    "pycharm": {
     "name": "#%%\n"
    }
   }
  },
  {
   "cell_type": "code",
   "execution_count": 35,
   "outputs": [
    {
     "data": {
      "text/plain": "array([ 0.00436544, -0.01236439, -0.017277  , ..., -0.00970602,\n        0.00852346,  0.01237035])"
     },
     "execution_count": 35,
     "metadata": {},
     "output_type": "execute_result"
    }
   ],
   "source": [
    "all_data2 = tdms_file['EHM']['AccelY'][:]\n",
    "all_data2"
   ],
   "metadata": {
    "collapsed": false,
    "pycharm": {
     "name": "#%%\n"
    }
   }
  },
  {
   "cell_type": "code",
   "execution_count": 17,
   "outputs": [
    {
     "ename": "RuntimeError",
     "evalue": "Cannot read data after the underlying TDMS reader is closed",
     "output_type": "error",
     "traceback": [
      "\u001B[1;31m---------------------------------------------------------------------------\u001B[0m",
      "\u001B[1;31mRuntimeError\u001B[0m                              Traceback (most recent call last)",
      "Input \u001B[1;32mIn [17]\u001B[0m, in \u001B[0;36m<cell line: 2>\u001B[1;34m()\u001B[0m\n\u001B[0;32m      1\u001B[0m channel \u001B[38;5;241m=\u001B[39m tdms_file[group_name][channel_name]  \u001B[38;5;66;03m# 根据索引读取通道\u001B[39;00m\n\u001B[1;32m----> 2\u001B[0m all_channel_data \u001B[38;5;241m=\u001B[39m \u001B[43mchannel\u001B[49m\u001B[43m[\u001B[49m\u001B[43m:\u001B[49m\u001B[43m]\u001B[49m                  \u001B[38;5;66;03m# 将此通道中所有的数据作为numpy数组获取\u001B[39;00m\n\u001B[0;32m      3\u001B[0m num \u001B[38;5;241m=\u001B[39m np\u001B[38;5;241m.\u001B[39marray(all_channel_data)\n\u001B[0;32m      4\u001B[0m num\n",
      "File \u001B[1;32m~\\AppData\\Local\\Programs\\Python\\Python39\\lib\\site-packages\\nptdms\\tdms.py:481\u001B[0m, in \u001B[0;36mTdmsChannel.__getitem__\u001B[1;34m(self, index)\u001B[0m\n\u001B[0;32m    479\u001B[0m     \u001B[38;5;28;01mreturn\u001B[39;00m \u001B[38;5;28mself\u001B[39m\u001B[38;5;241m.\u001B[39mread_data()\n\u001B[0;32m    480\u001B[0m \u001B[38;5;28;01melif\u001B[39;00m \u001B[38;5;28misinstance\u001B[39m(index, \u001B[38;5;28mslice\u001B[39m):\n\u001B[1;32m--> 481\u001B[0m     \u001B[38;5;28;01mreturn\u001B[39;00m \u001B[38;5;28;43mself\u001B[39;49m\u001B[38;5;241;43m.\u001B[39;49m\u001B[43m_read_slice\u001B[49m\u001B[43m(\u001B[49m\u001B[43mindex\u001B[49m\u001B[38;5;241;43m.\u001B[39;49m\u001B[43mstart\u001B[49m\u001B[43m,\u001B[49m\u001B[43m \u001B[49m\u001B[43mindex\u001B[49m\u001B[38;5;241;43m.\u001B[39;49m\u001B[43mstop\u001B[49m\u001B[43m,\u001B[49m\u001B[43m \u001B[49m\u001B[43mindex\u001B[49m\u001B[38;5;241;43m.\u001B[39;49m\u001B[43mstep\u001B[49m\u001B[43m)\u001B[49m\n\u001B[0;32m    482\u001B[0m \u001B[38;5;28;01melif\u001B[39;00m \u001B[38;5;28misinstance\u001B[39m(index, \u001B[38;5;28mint\u001B[39m):\n\u001B[0;32m    483\u001B[0m     \u001B[38;5;28;01mreturn\u001B[39;00m \u001B[38;5;28mself\u001B[39m\u001B[38;5;241m.\u001B[39m_read_at_index(index)\n",
      "File \u001B[1;32m~\\AppData\\Local\\Programs\\Python\\Python39\\lib\\site-packages\\nptdms\\tdms.py:735\u001B[0m, in \u001B[0;36mTdmsChannel._read_slice\u001B[1;34m(self, start, stop, step)\u001B[0m\n\u001B[0;32m    733\u001B[0m \u001B[38;5;66;03m# Read data and handle step size\u001B[39;00m\n\u001B[0;32m    734\u001B[0m \u001B[38;5;28;01mif\u001B[39;00m step \u001B[38;5;241m>\u001B[39m \u001B[38;5;241m0\u001B[39m:\n\u001B[1;32m--> 735\u001B[0m     read_data \u001B[38;5;241m=\u001B[39m \u001B[38;5;28;43mself\u001B[39;49m\u001B[38;5;241;43m.\u001B[39;49m\u001B[43mread_data\u001B[49m\u001B[43m(\u001B[49m\u001B[43mstart\u001B[49m\u001B[43m,\u001B[49m\u001B[43m \u001B[49m\u001B[43mstop\u001B[49m\u001B[43m \u001B[49m\u001B[38;5;241;43m-\u001B[39;49m\u001B[43m \u001B[49m\u001B[43mstart\u001B[49m\u001B[43m)\u001B[49m\n\u001B[0;32m    736\u001B[0m     \u001B[38;5;28;01mreturn\u001B[39;00m read_data[::step] \u001B[38;5;28;01mif\u001B[39;00m step \u001B[38;5;241m>\u001B[39m \u001B[38;5;241m1\u001B[39m \u001B[38;5;28;01melse\u001B[39;00m read_data\n\u001B[0;32m    737\u001B[0m \u001B[38;5;28;01melse\u001B[39;00m:\n",
      "File \u001B[1;32m~\\AppData\\Local\\Programs\\Python\\Python39\\lib\\site-packages\\nptdms\\tdms.py:600\u001B[0m, in \u001B[0;36mTdmsChannel.read_data\u001B[1;34m(self, offset, length, scaled)\u001B[0m\n\u001B[0;32m    587\u001B[0m \u001B[38;5;124;03m\"\"\" Reads data for this channel from the TDMS file and returns it as a numpy array\u001B[39;00m\n\u001B[0;32m    588\u001B[0m \n\u001B[0;32m    589\u001B[0m \u001B[38;5;124;03mIndexing into the channel with a slice should be preferred over using\u001B[39;00m\n\u001B[1;32m   (...)\u001B[0m\n\u001B[0;32m    597\u001B[0m \u001B[38;5;124;03m    For DAQmx data a dictionary of scaler id to raw scaler data will be returned.\u001B[39;00m\n\u001B[0;32m    598\u001B[0m \u001B[38;5;124;03m\"\"\"\u001B[39;00m\n\u001B[0;32m    599\u001B[0m \u001B[38;5;28;01mif\u001B[39;00m \u001B[38;5;28mself\u001B[39m\u001B[38;5;241m.\u001B[39m_raw_data \u001B[38;5;129;01mis\u001B[39;00m \u001B[38;5;28;01mNone\u001B[39;00m:\n\u001B[1;32m--> 600\u001B[0m     raw_data \u001B[38;5;241m=\u001B[39m \u001B[38;5;28;43mself\u001B[39;49m\u001B[38;5;241;43m.\u001B[39;49m\u001B[43m_read_channel_data\u001B[49m\u001B[43m(\u001B[49m\u001B[43moffset\u001B[49m\u001B[43m,\u001B[49m\u001B[43m \u001B[49m\u001B[43mlength\u001B[49m\u001B[43m)\u001B[49m\n\u001B[0;32m    601\u001B[0m \u001B[38;5;28;01melse\u001B[39;00m:\n\u001B[0;32m    602\u001B[0m     raw_data \u001B[38;5;241m=\u001B[39m slice_raw_data(\u001B[38;5;28mself\u001B[39m\u001B[38;5;241m.\u001B[39m_raw_data, offset, length)\n",
      "File \u001B[1;32m~\\AppData\\Local\\Programs\\Python\\Python39\\lib\\site-packages\\nptdms\\tdms.py:802\u001B[0m, in \u001B[0;36mTdmsChannel._read_channel_data\u001B[1;34m(self, offset, length)\u001B[0m\n\u001B[0;32m    798\u001B[0m     channel_data \u001B[38;5;241m=\u001B[39m get_data_receiver(\u001B[38;5;28mself\u001B[39m, num_values, \u001B[38;5;28mself\u001B[39m\u001B[38;5;241m.\u001B[39m_raw_timestamps, \u001B[38;5;28mself\u001B[39m\u001B[38;5;241m.\u001B[39m_memmap_dir)\n\u001B[0;32m    800\u001B[0m \u001B[38;5;28;01mwith\u001B[39;00m Timer(log, \u001B[38;5;124m\"\u001B[39m\u001B[38;5;124mRead data for channel\u001B[39m\u001B[38;5;124m\"\u001B[39m):\n\u001B[0;32m    801\u001B[0m     \u001B[38;5;66;03m# Now actually read all the data\u001B[39;00m\n\u001B[1;32m--> 802\u001B[0m     \u001B[38;5;28;01mfor\u001B[39;00m chunk \u001B[38;5;129;01min\u001B[39;00m \u001B[38;5;28mself\u001B[39m\u001B[38;5;241m.\u001B[39m_reader\u001B[38;5;241m.\u001B[39mread_raw_data_for_channel(\u001B[38;5;28mself\u001B[39m\u001B[38;5;241m.\u001B[39mpath, offset, length):\n\u001B[0;32m    803\u001B[0m         \u001B[38;5;28;01mif\u001B[39;00m chunk\u001B[38;5;241m.\u001B[39mdata \u001B[38;5;129;01mis\u001B[39;00m \u001B[38;5;129;01mnot\u001B[39;00m \u001B[38;5;28;01mNone\u001B[39;00m:\n\u001B[0;32m    804\u001B[0m             channel_data\u001B[38;5;241m.\u001B[39mappend_data(chunk\u001B[38;5;241m.\u001B[39mdata)\n",
      "File \u001B[1;32m~\\AppData\\Local\\Programs\\Python\\Python39\\lib\\site-packages\\nptdms\\reader.py:132\u001B[0m, in \u001B[0;36mTdmsReader.read_raw_data_for_channel\u001B[1;34m(self, channel_path, offset, length)\u001B[0m\n\u001B[0;32m    122\u001B[0m \u001B[38;5;28;01mdef\u001B[39;00m \u001B[38;5;21mread_raw_data_for_channel\u001B[39m(\u001B[38;5;28mself\u001B[39m, channel_path, offset\u001B[38;5;241m=\u001B[39m\u001B[38;5;241m0\u001B[39m, length\u001B[38;5;241m=\u001B[39m\u001B[38;5;28;01mNone\u001B[39;00m):\n\u001B[0;32m    123\u001B[0m     \u001B[38;5;124;03m\"\"\" Read raw data for a single channel, chunk by chunk\u001B[39;00m\n\u001B[0;32m    124\u001B[0m \n\u001B[0;32m    125\u001B[0m \u001B[38;5;124;03m    :param channel_path: The path of the channel object to read data for\u001B[39;00m\n\u001B[1;32m   (...)\u001B[0m\n\u001B[0;32m    130\u001B[0m \u001B[38;5;124;03m    :returns: A generator that yields RawChannelDataChunk objects\u001B[39;00m\n\u001B[0;32m    131\u001B[0m \u001B[38;5;124;03m    \"\"\"\u001B[39;00m\n\u001B[1;32m--> 132\u001B[0m     \u001B[38;5;28;43mself\u001B[39;49m\u001B[38;5;241;43m.\u001B[39;49m\u001B[43m_ensure_open\u001B[49m\u001B[43m(\u001B[49m\u001B[43m)\u001B[49m\n\u001B[0;32m    133\u001B[0m     \u001B[38;5;28;01mif\u001B[39;00m \u001B[38;5;28mself\u001B[39m\u001B[38;5;241m.\u001B[39m_segments \u001B[38;5;129;01mis\u001B[39;00m \u001B[38;5;28;01mNone\u001B[39;00m:\n\u001B[0;32m    134\u001B[0m         \u001B[38;5;28;01mraise\u001B[39;00m \u001B[38;5;167;01mRuntimeError\u001B[39;00m(\u001B[38;5;124m\"\u001B[39m\u001B[38;5;124mCannot read data unless metadata has first been read\u001B[39m\u001B[38;5;124m\"\u001B[39m)\n",
      "File \u001B[1;32m~\\AppData\\Local\\Programs\\Python\\Python39\\lib\\site-packages\\nptdms\\reader.py:393\u001B[0m, in \u001B[0;36mTdmsReader._ensure_open\u001B[1;34m(self)\u001B[0m\n\u001B[0;32m    391\u001B[0m \u001B[38;5;28;01mdef\u001B[39;00m \u001B[38;5;21m_ensure_open\u001B[39m(\u001B[38;5;28mself\u001B[39m):\n\u001B[0;32m    392\u001B[0m     \u001B[38;5;28;01mif\u001B[39;00m \u001B[38;5;28mself\u001B[39m\u001B[38;5;241m.\u001B[39m_file \u001B[38;5;129;01mis\u001B[39;00m \u001B[38;5;28;01mNone\u001B[39;00m:\n\u001B[1;32m--> 393\u001B[0m         \u001B[38;5;28;01mraise\u001B[39;00m \u001B[38;5;167;01mRuntimeError\u001B[39;00m(\n\u001B[0;32m    394\u001B[0m             \u001B[38;5;124m\"\u001B[39m\u001B[38;5;124mCannot read data after the underlying TDMS reader is closed\u001B[39m\u001B[38;5;124m\"\u001B[39m)\n",
      "\u001B[1;31mRuntimeError\u001B[0m: Cannot read data after the underlying TDMS reader is closed"
     ]
    }
   ],
   "source": [
    "channel = tdms_file[group_name][channel_name]  # 根据索引读取通道\n",
    "all_channel_data = channel[:]                  # 将此通道中所有的数据作为numpy数组获取\n",
    "num = np.array(all_channel_data)\n",
    "num                              # 维度查看\n"
   ],
   "metadata": {
    "collapsed": false,
    "pycharm": {
     "name": "#%%\n"
    }
   }
  },
  {
   "cell_type": "code",
   "execution_count": 13,
   "outputs": [],
   "source": [
    "from nptdms import TdmsWriter, RootObject, GroupObject, ChannelObject\n",
    "\n",
    "root_object = RootObject(properties={\n",
    "    \"prop1\": \"foo\",\n",
    "    \"prop2\": 3,\n",
    "})\n",
    "group_object = GroupObject(\"group_1\", properties={\n",
    "    \"prop1\": 1.2345,\n",
    "    \"prop2\": False,\n",
    "})\n",
    "data = np.array([1.0, 2.0, 3.0, 4.0, 5.0])\n",
    "channel_object = ChannelObject(\"group_1\", \"channel_1\", data, properties={})\n",
    "\n",
    "with TdmsWriter(r\"D:\\Desktop\\BasicProject\\my_file.tdms\") as tdms_writer:\n",
    "    # Write first segment\n",
    "    tdms_writer.write_segment([\n",
    "        root_object,\n",
    "        group_object,\n",
    "        channel_object])\n",
    "    # Write another segment with more data for the same channel\n",
    "    more_data = np.array([6.0, 7.0, 8.0, 9.0, 10.0])\n",
    "    channel_object = ChannelObject(\"group_1\", \"channel_1\", more_data, properties={})\n",
    "    tdms_writer.write_segment([channel_object])"
   ],
   "metadata": {
    "collapsed": false,
    "pycharm": {
     "name": "#%%\n"
    }
   }
  },
  {
   "cell_type": "code",
   "execution_count": 48,
   "outputs": [],
   "source": [],
   "metadata": {
    "collapsed": false,
    "pycharm": {
     "name": "#%%\n"
    }
   }
  },
  {
   "cell_type": "code",
   "execution_count": 1,
   "outputs": [],
   "source": [
    "import math"
   ],
   "metadata": {
    "collapsed": false,
    "pycharm": {
     "name": "#%%\n"
    }
   }
  },
  {
   "cell_type": "code",
   "execution_count": 3,
   "outputs": [
    {
     "data": {
      "text/plain": "1.5707963267948966"
     },
     "execution_count": 3,
     "metadata": {},
     "output_type": "execute_result"
    }
   ],
   "source": [
    "x = 0\n",
    "y = 1\n",
    "math.atan2(y, x)"
   ],
   "metadata": {
    "collapsed": false,
    "pycharm": {
     "name": "#%%\n"
    }
   }
  },
  {
   "cell_type": "code",
   "execution_count": null,
   "outputs": [],
   "source": [],
   "metadata": {
    "collapsed": false,
    "pycharm": {
     "name": "#%%\n"
    }
   }
  }
 ],
 "metadata": {
  "kernelspec": {
   "display_name": "Python 3",
   "language": "python",
   "name": "python3"
  },
  "language_info": {
   "codemirror_mode": {
    "name": "ipython",
    "version": 2
   },
   "file_extension": ".py",
   "mimetype": "text/x-python",
   "name": "python",
   "nbconvert_exporter": "python",
   "pygments_lexer": "ipython2",
   "version": "2.7.6"
  }
 },
 "nbformat": 4,
 "nbformat_minor": 0
}