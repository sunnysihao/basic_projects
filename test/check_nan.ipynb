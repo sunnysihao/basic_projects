{
 "cells": [
  {
   "cell_type": "code",
   "execution_count": 3,
   "metadata": {
    "collapsed": true
   },
   "outputs": [],
   "source": [
    "import os\n",
    "import json\n",
    "from tqdm import tqdm\n",
    "def list_files(in_path: str):\n",
    "    file_list = []\n",
    "    for root, _, files in os.walk(in_path):\n",
    "        for file in files:\n",
    "            if os.path.splitext(file)[-1] == '.json':\n",
    "                file_list.append(os.path.join(root, file))\n",
    "            else:\n",
    "                continue\n",
    "    return file_list\n",
    "def load_json(json_path: str):\n",
    "    with open(json_path, 'r', encoding='utf-8') as f:\n",
    "        content = f.read()\n",
    "        json_content = json.loads(content)\n",
    "    return json_content"
   ]
  },
  {
   "cell_type": "code",
   "execution_count": 4,
   "outputs": [],
   "source": [
    "in_path = r\"D:\\Desktop\\BasicProject\\王满顺\\经纬恒润\\私有化\\1020\\下载结果_json_41_318_20221020142341\""
   ],
   "metadata": {
    "collapsed": false,
    "pycharm": {
     "name": "#%%\n"
    }
   }
  },
  {
   "cell_type": "code",
   "execution_count": 5,
   "outputs": [],
   "source": [
    "def write_json(in_path: str):\n",
    "    no_attr = []\n",
    "    empty_label = []\n",
    "    missing_pcd_file = []\n",
    "    has_NaN_errors = []\n",
    "    for file in tqdm(list_files(in_path)):\n",
    "        json_content = load_json(file)\n",
    "        data_id = json_content['data_id']\n",
    "        boxs = json_content['result']['data']\n",
    "        for box in boxs:  # 读取每个3D框数据\n",
    "            frame = box['frame'] + 1\n",
    "            x, y, z = box['center3D'].values()\n",
    "            nx, ny, nz = box['size3D'].values()\n",
    "            rx, ry, rz = box['rotation3D'].values()\n",
    "            int_id = box['trackName']\n",
    "            track_id = box['trackId']\n",
    "            class_type = box['classType']\n",
    "            if not x or not y or not z or not nx or not ny or not nz:\n",
    "                null_str = f\"作业ID:{data_id}-第{frame}帧-{int_id}号框有null值\\n\"\n",
    "                print(null_str)"
   ],
   "metadata": {
    "collapsed": false,
    "pycharm": {
     "name": "#%%\n"
    }
   }
  },
  {
   "cell_type": "code",
   "execution_count": 7,
   "outputs": [
    {
     "name": "stderr",
     "output_type": "stream",
     "text": [
      "100%|██████████| 18/18 [00:00<00:00, 200.54it/s]\n"
     ]
    }
   ],
   "source": [
    "write_json(in_path)"
   ],
   "metadata": {
    "collapsed": false,
    "pycharm": {
     "name": "#%%\n"
    }
   }
  },
  {
   "cell_type": "code",
   "execution_count": 7,
   "outputs": [],
   "source": [
    "import glob\n",
    "import os"
   ],
   "metadata": {
    "collapsed": false,
    "pycharm": {
     "name": "#%%\n"
    }
   }
  },
  {
   "cell_type": "code",
   "execution_count": 11,
   "outputs": [
    {
     "data": {
      "text/plain": "['D:\\\\Desktop\\\\BasicProject\\\\谢秋梅./.\\\\000000.json',\n 'D:\\\\Desktop\\\\BasicProject\\\\谢秋梅./.\\\\KATECH_3D_윤소희01-20221025022945 (1).json']"
     },
     "execution_count": 11,
     "metadata": {},
     "output_type": "execute_result"
    }
   ],
   "source": [
    "pl = glob.glob(os.path.join(r\"D:\\Desktop\\BasicProject\\谢秋梅\" + '././', \"*.json\"))\n",
    "pl"
   ],
   "metadata": {
    "collapsed": false,
    "pycharm": {
     "name": "#%%\n"
    }
   }
  },
  {
   "cell_type": "code",
   "execution_count": 2,
   "outputs": [
    {
     "name": "stdout",
     "output_type": "stream",
     "text": [
      "y\n"
     ]
    }
   ],
   "source": [
    "c = True\n",
    "if c:\n",
    "    print('y')"
   ],
   "metadata": {
    "collapsed": false,
    "pycharm": {
     "name": "#%%\n"
    }
   }
  },
  {
   "cell_type": "code",
   "execution_count": null,
   "outputs": [],
   "source": [],
   "metadata": {
    "collapsed": false,
    "pycharm": {
     "name": "#%%\n"
    }
   }
  }
 ],
 "metadata": {
  "kernelspec": {
   "display_name": "Python 3",
   "language": "python",
   "name": "python3"
  },
  "language_info": {
   "codemirror_mode": {
    "name": "ipython",
    "version": 2
   },
   "file_extension": ".py",
   "mimetype": "text/x-python",
   "name": "python",
   "nbconvert_exporter": "python",
   "pygments_lexer": "ipython2",
   "version": "2.7.6"
  }
 },
 "nbformat": 4,
 "nbformat_minor": 0
}