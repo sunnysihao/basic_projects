{
 "cells": [
  {
   "cell_type": "code",
   "execution_count": 2,
   "metadata": {
    "collapsed": true
   },
   "outputs": [
    {
     "name": "stdout",
     "output_type": "stream",
     "text": [
      "[[-49303 193820 -50440]\n",
      " [-50399 193718 -50242]]\n",
      "[[4.64847017e+05 4.39053074e+06 1.24253299e+01]\n",
      " [4.64846908e+05 4.39053073e+06 1.24451299e+01]]\n",
      "[[18176 17664 13824]\n",
      " [18176 17920 14848]\n",
      " [21504 20736 16640]\n",
      " ...\n",
      " [34304 34560 33280]\n",
      " [25088 22016 19456]\n",
      " [17920 17920 17920]]\n"
     ]
    }
   ],
   "source": [
    "# _*_ coding=: utf-8 _*_\n",
    "import laspy\n",
    "import numpy as np\n",
    "\n",
    "las=laspy.read(r\"D:\\Desktop\\sx\\1cloud_AA.las\")\n",
    "#获取文件头\n",
    "header=las.header\n",
    "#点类型\n",
    "point_format=las.point_format\n",
    "#属性字段名\n",
    "dimension_name=point_format.dimension_names\n",
    "#点集外边框\n",
    "mins=header.mins\n",
    "maxs=header.maxs\n",
    "#点个数\n",
    "point_num=header.point_count\n",
    "#获取坐标和颜色\n",
    "las_x=np.array(las.x)\n",
    "las_y= np.array(las.y)\n",
    "las_z= np.array(las.z)\n",
    "\n",
    "las_X=np.array(las.X)\n",
    "las_Y= np.array(las.Y)\n",
    "las_Z= np.array(las.Z)\n",
    "\n",
    "las_r= np.array(las.red)\n",
    "las_g= np.array(las.green)\n",
    "las_b= np.array(las.blue)\n",
    "#堆叠\n",
    "points=np.stack([las_x,las_y,las_z],axis=1)  #type(points)--->numpy.ndarray\n",
    "colors=np.stack([las_r,las_g,las_b],axis=1)  #type(colors)--->numpy.ndarray\n",
    "points_U=np.stack([las_X,las_Y,las_Z],axis=1)\n",
    "print(points_U[0:2])\n",
    "\n",
    "print(points[0:2])\n",
    "print(colors)"
   ]
  },
  {
   "cell_type": "code",
   "execution_count": 3,
   "outputs": [
    {
     "data": {
      "text/plain": "<LasHeader(1.2, <PointFormat(2, 0 bytes of extra dims)>)>"
     },
     "execution_count": 3,
     "metadata": {},
     "output_type": "execute_result"
    }
   ],
   "source": [
    "las.header"
   ],
   "metadata": {
    "collapsed": false,
    "pycharm": {
     "name": "#%%\n"
    }
   }
  },
  {
   "cell_type": "code",
   "execution_count": 8,
   "outputs": [
    {
     "data": {
      "text/plain": "464851.9475802512"
     },
     "execution_count": 8,
     "metadata": {},
     "output_type": "execute_result"
    }
   ],
   "source": [
    "las.header.x_offset"
   ],
   "metadata": {
    "collapsed": false,
    "pycharm": {
     "name": "#%%\n"
    }
   }
  },
  {
   "cell_type": "code",
   "execution_count": 10,
   "outputs": [
    {
     "data": {
      "text/plain": "4390511.359946078"
     },
     "execution_count": 10,
     "metadata": {},
     "output_type": "execute_result"
    }
   ],
   "source": [
    "las.header.y_offset"
   ],
   "metadata": {
    "collapsed": false,
    "pycharm": {
     "name": "#%%\n"
    }
   }
  },
  {
   "cell_type": "code",
   "execution_count": 11,
   "outputs": [
    {
     "data": {
      "text/plain": "17.469329864210184"
     },
     "execution_count": 11,
     "metadata": {},
     "output_type": "execute_result"
    }
   ],
   "source": [
    "las.header.z_offset"
   ],
   "metadata": {
    "collapsed": false,
    "pycharm": {
     "name": "#%%\n"
    }
   }
  },
  {
   "cell_type": "code",
   "execution_count": 13,
   "outputs": [
    {
     "data": {
      "text/plain": "0.0001"
     },
     "execution_count": 13,
     "metadata": {},
     "output_type": "execute_result"
    }
   ],
   "source": [
    "las.header.x_scale"
   ],
   "metadata": {
    "collapsed": false,
    "pycharm": {
     "name": "#%%\n"
    }
   }
  },
  {
   "cell_type": "code",
   "execution_count": null,
   "outputs": [],
   "source": [],
   "metadata": {
    "collapsed": false,
    "pycharm": {
     "name": "#%%\n"
    }
   }
  }
 ],
 "metadata": {
  "kernelspec": {
   "display_name": "Python 3",
   "language": "python",
   "name": "python3"
  },
  "language_info": {
   "codemirror_mode": {
    "name": "ipython",
    "version": 2
   },
   "file_extension": ".py",
   "mimetype": "text/x-python",
   "name": "python",
   "nbconvert_exporter": "python",
   "pygments_lexer": "ipython2",
   "version": "2.7.6"
  }
 },
 "nbformat": 4,
 "nbformat_minor": 0
}