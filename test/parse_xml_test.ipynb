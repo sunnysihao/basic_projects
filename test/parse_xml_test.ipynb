{
 "cells": [
  {
   "cell_type": "code",
   "execution_count": 1,
   "metadata": {
    "collapsed": true
   },
   "outputs": [],
   "source": [
    "import xmltodict\n",
    "def load_json(xml_path):\n",
    "    #获取xml文件\n",
    "    xml_file = open(xml_path, 'r')\n",
    "    #读取xml文件内容\n",
    "    xml_str = xml_file.read()\n",
    "    #将读取的xml内容转为json\n",
    "    json = xmltodict.parse(xml_str)\n",
    "    return json"
   ]
  },
  {
   "cell_type": "code",
   "execution_count": 2,
   "outputs": [],
   "source": [
    "xml_file = r\"D:\\Data\\we_chat_files\\WeChat Files\\wxid_pzn3n31pjyvc29\\FileStorage\\File\\2022-11\\171958018693476352_1668580931070_1.xml\""
   ],
   "metadata": {
    "collapsed": false,
    "pycharm": {
     "name": "#%%\n"
    }
   }
  },
  {
   "cell_type": "code",
   "execution_count": 3,
   "outputs": [
    {
     "data": {
      "text/plain": "{'annotation': {'folder': 'folder',\n  'filename': '171958018693476352_1668580931070_1.png',\n  'size': {'width': '1280', 'height': '720', 'depth': '3'},\n  'object': {'name': 'head',\n   'pose': 'Unspecified',\n   'truncated': '0',\n   'difficult': '0',\n   'bndbox': {'xmin': '1757',\n    'ymin': '1271',\n    'xmax': '1942',\n    'ymax': '1439'}}}}"
     },
     "execution_count": 3,
     "metadata": {},
     "output_type": "execute_result"
    }
   ],
   "source": [
    "js = load_json(xml_file)\n",
    "js"
   ],
   "metadata": {
    "collapsed": false,
    "pycharm": {
     "name": "#%%\n"
    }
   }
  },
  {
   "cell_type": "code",
   "execution_count": 5,
   "outputs": [
    {
     "data": {
      "text/plain": "{'name': 'head',\n 'pose': 'Unspecified',\n 'truncated': '0',\n 'difficult': '0',\n 'bndbox': {'xmin': '1757', 'ymin': '1271', 'xmax': '1942', 'ymax': '1439'}}"
     },
     "execution_count": 5,
     "metadata": {},
     "output_type": "execute_result"
    }
   ],
   "source": [
    "boxes = js['annotation']['object']\n",
    "boxes"
   ],
   "metadata": {
    "collapsed": false,
    "pycharm": {
     "name": "#%%\n"
    }
   }
  },
  {
   "cell_type": "code",
   "execution_count": 6,
   "outputs": [
    {
     "ename": "KeyError",
     "evalue": "0",
     "output_type": "error",
     "traceback": [
      "\u001B[1;31m---------------------------------------------------------------------------\u001B[0m",
      "\u001B[1;31mKeyError\u001B[0m                                  Traceback (most recent call last)",
      "Input \u001B[1;32mIn [6]\u001B[0m, in \u001B[0;36m<cell line: 1>\u001B[1;34m()\u001B[0m\n\u001B[1;32m----> 1\u001B[0m \u001B[43mboxes\u001B[49m\u001B[43m[\u001B[49m\u001B[38;5;241;43m0\u001B[39;49m\u001B[43m]\u001B[49m\n",
      "\u001B[1;31mKeyError\u001B[0m: 0"
     ]
    }
   ],
   "source": [
    "boxes[0]"
   ],
   "metadata": {
    "collapsed": false,
    "pycharm": {
     "name": "#%%\n"
    }
   }
  },
  {
   "cell_type": "code",
   "execution_count": null,
   "outputs": [],
   "source": [],
   "metadata": {
    "collapsed": false,
    "pycharm": {
     "name": "#%%\n"
    }
   }
  }
 ],
 "metadata": {
  "kernelspec": {
   "display_name": "Python 3",
   "language": "python",
   "name": "python3"
  },
  "language_info": {
   "codemirror_mode": {
    "name": "ipython",
    "version": 2
   },
   "file_extension": ".py",
   "mimetype": "text/x-python",
   "name": "python",
   "nbconvert_exporter": "python",
   "pygments_lexer": "ipython2",
   "version": "2.7.6"
  }
 },
 "nbformat": 4,
 "nbformat_minor": 0
}