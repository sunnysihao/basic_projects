{
 "cells": [
  {
   "cell_type": "code",
   "execution_count": 14,
   "metadata": {
    "collapsed": true
   },
   "outputs": [],
   "source": [
    "import xmltodict\n",
    "def load_json(xml_path):\n",
    "    #获取xml文件\n",
    "    xml_file = open(xml_path, 'r')\n",
    "    #读取xml文件内容\n",
    "    xml_str = xml_file.read()\n",
    "    #将读取的xml内容转为json\n",
    "    json = xmltodict.parse(xml_str)\n",
    "    return json"
   ]
  },
  {
   "cell_type": "code",
   "execution_count": 15,
   "outputs": [],
   "source": [
    "xml_file = r\"C:\\Users\\EDY\\Downloads\\2-1.xml\""
   ],
   "metadata": {
    "collapsed": false,
    "pycharm": {
     "name": "#%%\n"
    }
   }
  },
  {
   "cell_type": "code",
   "execution_count": 16,
   "outputs": [
    {
     "data": {
      "text/plain": "{'annotation': {'folder': 'yolo绀轰緥',\n  'filename': '1116img-1093.jpg',\n  'path': '/home/sally/data/yolo绀轰緥/2/2-1.jpg',\n  'source': {'database': 'Unknown'},\n  'size': {'width': '1920', 'height': '1080', 'depth': '3'},\n  'segmented': '0',\n  'object': [{'name': 'blackcar',\n    'pose': 'Unspecified',\n    'truncated': '0',\n    'difficult': '0',\n    'bndbox': {'xmin': '876', 'ymin': '168', 'xmax': '1023', 'ymax': '329'}},\n   {'name': 'stone',\n    'pose': 'Unspecified',\n    'truncated': '0',\n    'difficult': '0',\n    'bndbox': {'xmin': '157', 'ymin': '534', 'xmax': '202', 'ymax': '576'}},\n   {'name': 'stone',\n    'pose': 'Unspecified',\n    'truncated': '0',\n    'difficult': '0',\n    'bndbox': {'xmin': '484', 'ymin': '885', 'xmax': '524', 'ymax': '927'}},\n   {'name': 'hole',\n    'pose': 'Unspecified',\n    'truncated': '0',\n    'difficult': '0',\n    'bndbox': {'xmin': '1549',\n     'ymin': '295',\n     'xmax': '1604',\n     'ymax': '346'}}]}}"
     },
     "execution_count": 16,
     "metadata": {},
     "output_type": "execute_result"
    }
   ],
   "source": [
    "js = load_json(xml_file)\n",
    "js"
   ],
   "metadata": {
    "collapsed": false,
    "pycharm": {
     "name": "#%%\n"
    }
   }
  },
  {
   "cell_type": "code",
   "execution_count": 5,
   "outputs": [
    {
     "data": {
      "text/plain": "{'name': 'head',\n 'pose': 'Unspecified',\n 'truncated': '0',\n 'difficult': '0',\n 'bndbox': {'xmin': '1757', 'ymin': '1271', 'xmax': '1942', 'ymax': '1439'}}"
     },
     "execution_count": 5,
     "metadata": {},
     "output_type": "execute_result"
    }
   ],
   "source": [
    "boxes = js['annotation']['object']\n",
    "boxes"
   ],
   "metadata": {
    "collapsed": false,
    "pycharm": {
     "name": "#%%\n"
    }
   }
  },
  {
   "cell_type": "code",
   "execution_count": 6,
   "outputs": [
    {
     "ename": "KeyError",
     "evalue": "0",
     "output_type": "error",
     "traceback": [
      "\u001B[1;31m---------------------------------------------------------------------------\u001B[0m",
      "\u001B[1;31mKeyError\u001B[0m                                  Traceback (most recent call last)",
      "Input \u001B[1;32mIn [6]\u001B[0m, in \u001B[0;36m<cell line: 1>\u001B[1;34m()\u001B[0m\n\u001B[1;32m----> 1\u001B[0m \u001B[43mboxes\u001B[49m\u001B[43m[\u001B[49m\u001B[38;5;241;43m0\u001B[39;49m\u001B[43m]\u001B[49m\n",
      "\u001B[1;31mKeyError\u001B[0m: 0"
     ]
    }
   ],
   "source": [
    "boxes[0]"
   ],
   "metadata": {
    "collapsed": false,
    "pycharm": {
     "name": "#%%\n"
    }
   }
  },
  {
   "cell_type": "code",
   "execution_count": 8,
   "outputs": [],
   "source": [
    "import os\n",
    "from json import loads\n",
    "from dicttoxml import dicttoxml\n",
    "from xml.dom.minidom import parseString\n",
    "\n",
    "\n",
    "def jsonToXml(json_path, xml_path):\n",
    "    #@abstract: transfer json file to xml file\n",
    "    #json_path: complete path of the json file\n",
    "    #xml_path: complete path of the xml file\n",
    "    with open(json_path,'r',encoding='UTF-8')as json_file:\n",
    "        load_dict=loads(json_file.read())\n",
    "    #print(load_dict)\n",
    "    my_item_func = lambda x: 'Annotation'\n",
    "    xml = dicttoxml(load_dict,custom_root='Annotations',item_func=my_item_func,attr_type=False)\n",
    "    dom = parseString(xml)\n",
    "    #print(dom.toprettyxml())\n",
    "    #print(type(dom.toprettyxml()))\n",
    "    with open(xml_path,'w',encoding='UTF-8')as xml_file:\n",
    "        xml_file.write(dom.toprettyxml())\n",
    "\n",
    "def json_to_xml(json_dir, xml_dir):\n",
    "    #transfer all json file which in the json_dir to xml_dir\n",
    "    if(os.path.exists(xml_dir)==False):\n",
    "        os.makedirs(xml_dir)\n",
    "    dir = os.listdir(json_dir)\n",
    "    for file in dir:\n",
    "        file_list=file.split(\".\")\n",
    "        if(file_list[-1] == 'json'):\n",
    "            jsonToXml(os.path.join(json_dir,file),os.path.join(xml_dir,file_list[0]+'.xml'))\n",
    "# if __name__ == '__main__':\n",
    "#     #trandfer singal file\n",
    "#     j_path = \"F:/work/jsontoxml/json/test.json\"\n",
    "#     x_path = \"F:/work/jsontoxml/json/test.xml\"\n",
    "#     jsonToXml(j_path,x_path)\n",
    "#\n",
    "#     #transfer multi files\n",
    "#     j_dir = \"F:/work/jsontoxml/json/\"\n",
    "#     x_dir = \"F:/work/jsontoxml/xml/\"\n",
    "#     json_to_xml(j_dir, x_dir)"
   ],
   "metadata": {
    "collapsed": false,
    "pycharm": {
     "name": "#%%\n"
    }
   }
  },
  {
   "cell_type": "code",
   "execution_count": 9,
   "outputs": [],
   "source": [
    "json_file = r\"D:\\Desktop\\新建文件夹\\e.json\"\n",
    "with open(json_file,'r',encoding='UTF-8')as jf:\n",
    "    load_dict=loads(jf.read())\n",
    "    #print(load_dict)\n",
    "my_item_func = lambda x: 'Annotation'\n",
    "xml = dicttoxml(load_dict,custom_root='Annotations',item_func=my_item_func,attr_type=False)\n",
    "dom = parseString(xml)"
   ],
   "metadata": {
    "collapsed": false,
    "pycharm": {
     "name": "#%%\n"
    }
   }
  },
  {
   "cell_type": "code",
   "execution_count": 11,
   "outputs": [
    {
     "name": "stdout",
     "output_type": "stream",
     "text": [
      "<xml.dom.minidom.Document object at 0x000001D4EB589040>\n"
     ]
    }
   ],
   "source": [
    "print(dom)"
   ],
   "metadata": {
    "collapsed": false,
    "pycharm": {
     "name": "#%%\n"
    }
   }
  },
  {
   "cell_type": "code",
   "execution_count": 12,
   "outputs": [],
   "source": [
    "xml_path = r\"D:\\Desktop\\新建文件夹\\e.xml\"\n",
    "with open(xml_path,'w',encoding='UTF-8')as xml_file:\n",
    "    xml_file.write(dom.toprettyxml())"
   ],
   "metadata": {
    "collapsed": false,
    "pycharm": {
     "name": "#%%\n"
    }
   }
  },
  {
   "cell_type": "code",
   "execution_count": 13,
   "outputs": [
    {
     "data": {
      "text/plain": "{'frames': [{'class': 'car',\n   'id': 1016,\n   'size': [4.153562545776367, 1.8965932130813599, 1.6392385959625244],\n   'theta': -4.759373940791432,\n   'type': 'cube',\n   'vehicle_coord': [50.79252624511719,\n    9.56585693359375,\n    -0.06381894648075104]},\n  {'class': 'car',\n   'id': 1016,\n   'size': [4.153562545776367, 1.8965932130813599, 1.6392385959625244],\n   'theta': -4.759373940791432,\n   'type': 'cube',\n   'vehicle_coord': [50.79252624511719,\n    9.56585693359375,\n    -0.06381894648075104]},\n  {'class': 'car',\n   'id': 1029,\n   'size': [5.151744842529297, 2.239483594894409, 1.8674793243408203],\n   'theta': 76.37277112933751,\n   'type': 'cube',\n   'vehicle_coord': [28.615684509277344,\n    -24.717628479003906,\n    0.9379884004592896]},\n  {'class': 'car',\n   'id': 961,\n   'size': [4.289102554321289, 2.0366597175598145, 1.6247390508651733],\n   'theta': -5.0270080732292115,\n   'type': 'cube',\n   'vehicle_coord': [-14.653205871582031,\n    2.6157455444335938,\n    1.0077205896377563]},\n  {'class': 'car',\n   'id': 1020,\n   'size': [4.174004554748535, 1.987411379814148, 1.591306447982788],\n   'theta': -2.6242089949212564,\n   'type': 'cube',\n   'vehicle_coord': [-43.75495147705078, -2.638671875, 1.3308889865875244]},\n  {'class': 'car',\n   'id': 961,\n   'size': [4.289102554321289, 2.0366597175598145, 1.6247390508651733],\n   'theta': -5.0270080732292115,\n   'type': 'cube',\n   'vehicle_coord': [-14.653205871582031,\n    2.6157455444335938,\n    1.0077205896377563]},\n  {'class': 'car',\n   'id': 1036,\n   'size': [4.1224870681762695, 1.9154407978057861, 1.5976641178131104],\n   'theta': -3.5269277767651612,\n   'type': 'cube',\n   'vehicle_coord': [-38.28969192504883,\n    -20.137649536132812,\n    1.3176543712615967]},\n  {'class': 'car',\n   'id': 1020,\n   'size': [4.174004554748535, 1.987411379814148, 1.591306447982788],\n   'theta': -2.6242089949212564,\n   'type': 'cube',\n   'vehicle_coord': [-43.75495147705078, -2.638671875, 1.3308889865875244]},\n  {'class': 'car',\n   'id': 1033,\n   'size': [4.4427809715271, 1.9882962703704834, 1.547945261001587],\n   'theta': 78.52939738335351,\n   'type': 'cube',\n   'vehicle_coord': [-15.832134246826172,\n    -21.24127197265625,\n    0.42222028970718384]},\n  {'class': 'car',\n   'id': 1032,\n   'size': [4.218295574188232, 1.9124243259429932, 1.4289621114730835],\n   'theta': -24.97863950680761,\n   'type': 'cube',\n   'vehicle_coord': [-21.04269027709961,\n    -15.233745574951172,\n    0.5890139937400818]}],\n 'images': [{'cam': 'J',\n   'class': 'car',\n   'height': 32.9150390625,\n   'id': 1016,\n   'type': 'rect',\n   'width': 40.209716796875,\n   'x': 715.5149536132812,\n   'y': 597.285888671875},\n  {'cam': 'G',\n   'class': 'car',\n   'height': 45.532958984375,\n   'id': 1016,\n   'type': 'rect',\n   'width': 63.996337890625,\n   'x': 1688.0362548828125,\n   'y': 560.3533325195312},\n  {'cam': 'H',\n   'class': 'car',\n   'height': 64.060302734375,\n   'id': 1029,\n   'type': 'rect',\n   'width': 128.2952880859375,\n   'x': 767.7794189453125,\n   'y': 508.6087646484375},\n  {'cam': 'I',\n   'class': 'car',\n   'height': 79.21142578125,\n   'id': None,\n   'type': 'rect',\n   'width': 129.47427368164062,\n   'x': 137.93338012695312,\n   'y': 511.3350830078125},\n  {'cam': 'I',\n   'class': 'car',\n   'height': 55.367340087890625,\n   'id': None,\n   'type': 'rect',\n   'width': 67.069580078125,\n   'x': 853.0008544921875,\n   'y': 480.8199920654297},\n  {'cam': 'I',\n   'class': 'truck',\n   'height': 105.5594482421875,\n   'id': None,\n   'type': 'rect',\n   'width': 417.9954833984375,\n   'x': 227.64654541015625,\n   'y': 449.0548095703125},\n  {'cam': 'I',\n   'class': 'truck',\n   'height': 40.82843017578125,\n   'id': None,\n   'type': 'rect',\n   'width': 35.4932861328125,\n   'x': 730.6288452148438,\n   'y': 465.84375},\n  {'cam': 'I',\n   'class': 'car',\n   'height': 307.2808837890625,\n   'id': 961,\n   'type': 'rect',\n   'width': 494.622802734375,\n   'x': 1249.1553955078125,\n   'y': 472.96600341796875},\n  {'cam': 'I',\n   'class': 'car',\n   'height': 77.58975219726562,\n   'id': 1020,\n   'type': 'rect',\n   'width': 97.731689453125,\n   'x': 834.0308227539062,\n   'y': 507.6274871826172},\n  {'cam': 'E',\n   'class': 'car',\n   'height': 172.7938232421875,\n   'id': 961,\n   'type': 'rect',\n   'width': 301.32366943359375,\n   'x': 72.65621948242188,\n   'y': 457.183349609375},\n  {'cam': 'F',\n   'class': 'car',\n   'height': 41.35205078125,\n   'id': None,\n   'type': 'rect',\n   'width': 82.31884765625,\n   'x': 1266.58154296875,\n   'y': 522.6840209960938},\n  {'cam': 'F',\n   'class': 'car',\n   'height': 86.3046875,\n   'id': None,\n   'type': 'rect',\n   'width': 273.4125671386719,\n   'x': 253.56642150878906,\n   'y': 538.65625},\n  {'cam': 'F',\n   'class': 'car',\n   'height': 34.6842041015625,\n   'id': None,\n   'type': 'rect',\n   'width': 44.614013671875,\n   'x': 1756.572021484375,\n   'y': 513.4802856445312},\n  {'cam': 'F',\n   'class': 'truck',\n   'height': 61.727294921875,\n   'id': None,\n   'type': 'rect',\n   'width': 197.533935546875,\n   'x': 1364.69921875,\n   'y': 487.8221435546875},\n  {'cam': 'F',\n   'class': 'car',\n   'height': 49.9722900390625,\n   'id': 1036,\n   'type': 'rect',\n   'width': 87.268798828125,\n   'x': 1158.23046875,\n   'y': 515.5330810546875},\n  {'cam': 'F',\n   'class': 'car',\n   'height': 58.176513671875,\n   'id': 1020,\n   'type': 'rect',\n   'width': 83.5029296875,\n   'x': 1783.4422607421875,\n   'y': 506.49627685546875},\n  {'cam': 'F',\n   'class': 'car',\n   'height': 78.409912109375,\n   'id': 1033,\n   'type': 'rect',\n   'width': 195.65576171875,\n   'x': 538.1685180664062,\n   'y': 535.4713134765625},\n  {'cam': 'F',\n   'class': 'car',\n   'height': 72.158447265625,\n   'id': 1032,\n   'type': 'rect',\n   'width': 164.748046875,\n   'x': 957.37109375,\n   'y': 520.4274291992188},\n  {'cam': 'F',\n   'class': 'car',\n   'height': 44.2701416015625,\n   'id': None,\n   'type': 'rect',\n   'width': 95.82373046875,\n   'x': 1334.4417724609375,\n   'y': 517.227294921875}]}"
     },
     "execution_count": 13,
     "metadata": {},
     "output_type": "execute_result"
    }
   ],
   "source": [
    "load_dict"
   ],
   "metadata": {
    "collapsed": false,
    "pycharm": {
     "name": "#%%\n"
    }
   }
  },
  {
   "cell_type": "code",
   "execution_count": null,
   "outputs": [],
   "source": [],
   "metadata": {
    "collapsed": false,
    "pycharm": {
     "name": "#%%\n"
    }
   }
  }
 ],
 "metadata": {
  "kernelspec": {
   "display_name": "Python 3",
   "language": "python",
   "name": "python3"
  },
  "language_info": {
   "codemirror_mode": {
    "name": "ipython",
    "version": 2
   },
   "file_extension": ".py",
   "mimetype": "text/x-python",
   "name": "python",
   "nbconvert_exporter": "python",
   "pygments_lexer": "ipython2",
   "version": "2.7.6"
  }
 },
 "nbformat": 4,
 "nbformat_minor": 0
}