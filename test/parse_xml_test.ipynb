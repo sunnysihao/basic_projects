{
 "cells": [
  {
   "cell_type": "code",
   "execution_count": 47,
   "metadata": {
    "collapsed": true
   },
   "outputs": [],
   "source": [
    "import xmltodict\n",
    "import json\n",
    "def load_json(xml_path):\n",
    "    #获取xml文件\n",
    "    xml_file = open(xml_path, 'r', encoding='utf-8')\n",
    "    #读取xml文件内容\n",
    "    xml_str = xml_file.read()\n",
    "    #将读取的xml内容转为json\n",
    "    json = xmltodict.parse(xml_str)\n",
    "    return json"
   ]
  },
  {
   "cell_type": "code",
   "execution_count": 48,
   "outputs": [],
   "source": [
    "xml_file = r\"D:\\Desktop\\新建文件夹\\45.xml\""
   ],
   "metadata": {
    "collapsed": false,
    "pycharm": {
     "name": "#%%\n"
    }
   }
  },
  {
   "cell_type": "code",
   "execution_count": 49,
   "outputs": [
    {
     "data": {
      "text/plain": "{'Annotations': {'folder': 'yolo绀轰緥',\n  'filename': '1116img-1093.jpg',\n  'path': '/home/sally/data/yolo绀轰緥/2/2-1.jpg',\n  'source': {'database': 'Unknown'},\n  'size': {'width': '1920', 'height': '1080', 'depth': '3'},\n  'segmented': '0',\n  'object': {'object': [{'name': 'blackcar',\n     'pose': 'Unspecified',\n     'truncated': '0',\n     'difficult': '0',\n     'bndbox': {'xmin': '876', 'ymin': '168', 'xmax': '1023', 'ymax': '329'}},\n    {'name': 'stone',\n     'pose': 'Unspecified',\n     'truncated': '0',\n     'difficult': '0',\n     'bndbox': {'xmin': '157', 'ymin': '534', 'xmax': '202', 'ymax': '576'}},\n    {'name': 'stone',\n     'pose': 'Unspecified',\n     'truncated': '0',\n     'difficult': '0',\n     'bndbox': {'xmin': '484', 'ymin': '885', 'xmax': '524', 'ymax': '927'}},\n    {'name': 'hole',\n     'pose': 'Unspecified',\n     'truncated': '0',\n     'difficult': '0',\n     'bndbox': {'xmin': '1549',\n      'ymin': '295',\n      'xmax': '1604',\n      'ymax': '346'}}]}}}"
     },
     "execution_count": 49,
     "metadata": {},
     "output_type": "execute_result"
    }
   ],
   "source": [
    "js = load_json(xml_file)\n",
    "js"
   ],
   "metadata": {
    "collapsed": false,
    "pycharm": {
     "name": "#%%\n"
    }
   }
  },
  {
   "cell_type": "code",
   "execution_count": 50,
   "outputs": [],
   "source": [
    "with open(r\"D:\\Desktop\\新建文件夹\\45.json\", 'w') as xf:\n",
    "    json.dump(js, xf)"
   ],
   "metadata": {
    "collapsed": false,
    "pycharm": {
     "name": "#%%\n"
    }
   }
  },
  {
   "cell_type": "code",
   "execution_count": 5,
   "outputs": [
    {
     "data": {
      "text/plain": "{'name': 'head',\n 'pose': 'Unspecified',\n 'truncated': '0',\n 'difficult': '0',\n 'bndbox': {'xmin': '1757', 'ymin': '1271', 'xmax': '1942', 'ymax': '1439'}}"
     },
     "execution_count": 5,
     "metadata": {},
     "output_type": "execute_result"
    }
   ],
   "source": [
    "boxes = js['annotation']['object']\n",
    "boxes"
   ],
   "metadata": {
    "collapsed": false,
    "pycharm": {
     "name": "#%%\n"
    }
   }
  },
  {
   "cell_type": "code",
   "execution_count": 6,
   "outputs": [
    {
     "ename": "KeyError",
     "evalue": "0",
     "output_type": "error",
     "traceback": [
      "\u001B[1;31m---------------------------------------------------------------------------\u001B[0m",
      "\u001B[1;31mKeyError\u001B[0m                                  Traceback (most recent call last)",
      "Input \u001B[1;32mIn [6]\u001B[0m, in \u001B[0;36m<cell line: 1>\u001B[1;34m()\u001B[0m\n\u001B[1;32m----> 1\u001B[0m \u001B[43mboxes\u001B[49m\u001B[43m[\u001B[49m\u001B[38;5;241;43m0\u001B[39;49m\u001B[43m]\u001B[49m\n",
      "\u001B[1;31mKeyError\u001B[0m: 0"
     ]
    }
   ],
   "source": [
    "boxes[0]"
   ],
   "metadata": {
    "collapsed": false,
    "pycharm": {
     "name": "#%%\n"
    }
   }
  },
  {
   "cell_type": "code",
   "execution_count": 22,
   "outputs": [],
   "source": [
    "import os\n",
    "from json import loads\n",
    "from dicttoxml import dicttoxml\n",
    "from xml.dom.minidom import parseString\n",
    "\n",
    "\n",
    "def jsonToXml(json_path, xml_path):\n",
    "    #@abstract: transfer json file to xml file\n",
    "    #json_path: complete path of the json file\n",
    "    #xml_path: complete path of the xml file\n",
    "    with open(json_path,'r',encoding='UTF-8')as json_file:\n",
    "        load_dict=loads(json_file.read())\n",
    "    #print(load_dict)\n",
    "    my_item_func = lambda x: 'Annotation'\n",
    "    xml = dicttoxml(load_dict,custom_root='Annotations',item_func=my_item_func,attr_type=False)\n",
    "    dom = parseString(xml)\n",
    "    #print(dom.toprettyxml())\n",
    "    #print(type(dom.toprettyxml()))\n",
    "    with open(xml_path,'w',encoding='UTF-8')as xml_file:\n",
    "        xml_file.write(dom.toprettyxml())\n",
    "\n",
    "def json_to_xml(json_dir, xml_dir):\n",
    "    #transfer all json file which in the json_dir to xml_dir\n",
    "    if(os.path.exists(xml_dir)==False):\n",
    "        os.makedirs(xml_dir)\n",
    "    dir = os.listdir(json_dir)\n",
    "    for file in dir:\n",
    "        file_list=file.split(\".\")\n",
    "        if(file_list[-1] == 'json'):\n",
    "            jsonToXml(os.path.join(json_dir,file),os.path.join(xml_dir,file_list[0]+'.xml'))\n",
    "# if __name__ == '__main__':\n",
    "#     #trandfer singal file\n",
    "#     j_path = \"F:/work/jsontoxml/json/test.json\"\n",
    "#     x_path = \"F:/work/jsontoxml/json/test.xml\"\n",
    "#     jsonToXml(j_path,x_path)\n",
    "#\n",
    "#     #transfer multi files\n",
    "#     j_dir = \"F:/work/jsontoxml/json/\"\n",
    "#     x_dir = \"F:/work/jsontoxml/xml/\"\n",
    "#     json_to_xml(j_dir, x_dir)"
   ],
   "metadata": {
    "collapsed": false,
    "pycharm": {
     "name": "#%%\n"
    }
   }
  },
  {
   "cell_type": "code",
   "execution_count": 28,
   "outputs": [],
   "source": [
    "json_file = r\"D:\\Desktop\\新建文件夹\\2-1.json\"\n",
    "with open(json_file,'r',encoding='UTF-8')as jf:\n",
    "    load_dict=loads(jf.read())\n",
    "    #print(load_dict)\n",
    "my_item_func = lambda x: 'Annotation'\n",
    "xml = dicttoxml(load_dict,custom_root='Annotations',item_func=my_item_func,attr_type=False)\n",
    "dom = parseString(xml)"
   ],
   "metadata": {
    "collapsed": false,
    "pycharm": {
     "name": "#%%\n"
    }
   }
  },
  {
   "cell_type": "code",
   "execution_count": 11,
   "outputs": [
    {
     "name": "stdout",
     "output_type": "stream",
     "text": [
      "<xml.dom.minidom.Document object at 0x000001D4EB589040>\n"
     ]
    }
   ],
   "source": [
    "print(dom)"
   ],
   "metadata": {
    "collapsed": false,
    "pycharm": {
     "name": "#%%\n"
    }
   }
  },
  {
   "cell_type": "code",
   "execution_count": 55,
   "outputs": [],
   "source": [
    "xml_path = r\"D:\\Desktop\\新建文件夹\\666.xml\"\n",
    "with open(xml_path,'w',encoding='UTF-8')as xml_file:\n",
    "    xml_file.write(dom.toprettyxml())"
   ],
   "metadata": {
    "collapsed": false,
    "pycharm": {
     "name": "#%%\n"
    }
   }
  },
  {
   "cell_type": "code",
   "execution_count": 53,
   "outputs": [],
   "source": [
    "load_dict = [\n",
    "    {\n",
    "    \"folder\": \"yolo绀轰緥\",\n",
    "    \"filename\": \"1116img-1093.jpg\",\n",
    "    \"path\": \"/home/sally/data/yolo绀轰緥/2/2-1.jpg\",\n",
    "    \"source\": {\n",
    "      \"database\": \"Unknown\"\n",
    "    },\n",
    "    \"size\": {\n",
    "      \"width\": \"1920\",\n",
    "      \"height\": \"1080\",\n",
    "      \"depth\": \"3\"\n",
    "    },\n",
    "    \"segmented\": \"0\"},\n",
    "    [\n",
    "      {\n",
    "        \"name\": \"blackcar\",\n",
    "        \"pose\": \"Unspecified\",\n",
    "        \"truncated\": \"0\",\n",
    "        \"difficult\": \"0\",\n",
    "        \"bndbox\": {\n",
    "          \"xmin\": \"876\",\n",
    "          \"ymin\": \"168\",\n",
    "          \"xmax\": \"1023\",\n",
    "          \"ymax\": \"329\"\n",
    "        }\n",
    "      },\n",
    "      {\n",
    "        \"name\": \"stone\",\n",
    "        \"pose\": \"Unspecified\",\n",
    "        \"truncated\": \"0\",\n",
    "        \"difficult\": \"0\",\n",
    "        \"bndbox\": {\n",
    "          \"xmin\": \"157\",\n",
    "          \"ymin\": \"534\",\n",
    "          \"xmax\": \"202\",\n",
    "          \"ymax\": \"576\"\n",
    "        }\n",
    "      },\n",
    "      {\n",
    "        \"name\": \"stone\",\n",
    "        \"pose\": \"Unspecified\",\n",
    "        \"truncated\": \"0\",\n",
    "        \"difficult\": \"0\",\n",
    "        \"bndbox\": {\n",
    "          \"xmin\": \"484\",\n",
    "          \"ymin\": \"885\",\n",
    "          \"xmax\": \"524\",\n",
    "          \"ymax\": \"927\"\n",
    "        }\n",
    "      },\n",
    "      {\n",
    "        \"name\": \"hole\",\n",
    "        \"pose\": \"Unspecified\",\n",
    "        \"truncated\": \"0\",\n",
    "        \"difficult\": \"0\",\n",
    "        \"bndbox\": {\n",
    "          \"xmin\": \"1549\",\n",
    "          \"ymin\": \"295\",\n",
    "          \"xmax\": \"1604\",\n",
    "          \"ymax\": \"346\"\n",
    "        }\n",
    "      }\n",
    "    ]\n",
    "    ]\n"
   ],
   "metadata": {
    "collapsed": false,
    "pycharm": {
     "name": "#%%\n"
    }
   }
  },
  {
   "cell_type": "code",
   "execution_count": 58,
   "outputs": [
    {
     "ename": "ExpatError",
     "evalue": "junk after document element: line 1, column 263",
     "output_type": "error",
     "traceback": [
      "\u001B[1;31m---------------------------------------------------------------------------\u001B[0m",
      "\u001B[1;31mExpatError\u001B[0m                                Traceback (most recent call last)",
      "Input \u001B[1;32mIn [58]\u001B[0m, in \u001B[0;36m<cell line: 3>\u001B[1;34m()\u001B[0m\n\u001B[0;32m      1\u001B[0m my_item_func \u001B[38;5;241m=\u001B[39m \u001B[38;5;28;01mlambda\u001B[39;00m x: \u001B[38;5;124m'\u001B[39m\u001B[38;5;124mobject\u001B[39m\u001B[38;5;124m'\u001B[39m\n\u001B[0;32m      2\u001B[0m xml \u001B[38;5;241m=\u001B[39m dicttoxml(load_dict,root\u001B[38;5;241m=\u001B[39m\u001B[38;5;28;01mFalse\u001B[39;00m,item_func\u001B[38;5;241m=\u001B[39mmy_item_func,attr_type\u001B[38;5;241m=\u001B[39m\u001B[38;5;28;01mFalse\u001B[39;00m)\n\u001B[1;32m----> 3\u001B[0m dom \u001B[38;5;241m=\u001B[39m \u001B[43mparseString\u001B[49m\u001B[43m(\u001B[49m\u001B[43mxml\u001B[49m\u001B[43m)\u001B[49m\n",
      "File \u001B[1;32m~\\AppData\\Local\\Programs\\Python\\Python39\\lib\\xml\\dom\\minidom.py:1998\u001B[0m, in \u001B[0;36mparseString\u001B[1;34m(string, parser)\u001B[0m\n\u001B[0;32m   1996\u001B[0m \u001B[38;5;28;01mif\u001B[39;00m parser \u001B[38;5;129;01mis\u001B[39;00m \u001B[38;5;28;01mNone\u001B[39;00m:\n\u001B[0;32m   1997\u001B[0m     \u001B[38;5;28;01mfrom\u001B[39;00m \u001B[38;5;21;01mxml\u001B[39;00m\u001B[38;5;21;01m.\u001B[39;00m\u001B[38;5;21;01mdom\u001B[39;00m \u001B[38;5;28;01mimport\u001B[39;00m expatbuilder\n\u001B[1;32m-> 1998\u001B[0m     \u001B[38;5;28;01mreturn\u001B[39;00m \u001B[43mexpatbuilder\u001B[49m\u001B[38;5;241;43m.\u001B[39;49m\u001B[43mparseString\u001B[49m\u001B[43m(\u001B[49m\u001B[43mstring\u001B[49m\u001B[43m)\u001B[49m\n\u001B[0;32m   1999\u001B[0m \u001B[38;5;28;01melse\u001B[39;00m:\n\u001B[0;32m   2000\u001B[0m     \u001B[38;5;28;01mfrom\u001B[39;00m \u001B[38;5;21;01mxml\u001B[39;00m\u001B[38;5;21;01m.\u001B[39;00m\u001B[38;5;21;01mdom\u001B[39;00m \u001B[38;5;28;01mimport\u001B[39;00m pulldom\n",
      "File \u001B[1;32m~\\AppData\\Local\\Programs\\Python\\Python39\\lib\\xml\\dom\\expatbuilder.py:925\u001B[0m, in \u001B[0;36mparseString\u001B[1;34m(string, namespaces)\u001B[0m\n\u001B[0;32m    923\u001B[0m \u001B[38;5;28;01melse\u001B[39;00m:\n\u001B[0;32m    924\u001B[0m     builder \u001B[38;5;241m=\u001B[39m ExpatBuilder()\n\u001B[1;32m--> 925\u001B[0m \u001B[38;5;28;01mreturn\u001B[39;00m \u001B[43mbuilder\u001B[49m\u001B[38;5;241;43m.\u001B[39;49m\u001B[43mparseString\u001B[49m\u001B[43m(\u001B[49m\u001B[43mstring\u001B[49m\u001B[43m)\u001B[49m\n",
      "File \u001B[1;32m~\\AppData\\Local\\Programs\\Python\\Python39\\lib\\xml\\dom\\expatbuilder.py:223\u001B[0m, in \u001B[0;36mExpatBuilder.parseString\u001B[1;34m(self, string)\u001B[0m\n\u001B[0;32m    221\u001B[0m parser \u001B[38;5;241m=\u001B[39m \u001B[38;5;28mself\u001B[39m\u001B[38;5;241m.\u001B[39mgetParser()\n\u001B[0;32m    222\u001B[0m \u001B[38;5;28;01mtry\u001B[39;00m:\n\u001B[1;32m--> 223\u001B[0m     \u001B[43mparser\u001B[49m\u001B[38;5;241;43m.\u001B[39;49m\u001B[43mParse\u001B[49m\u001B[43m(\u001B[49m\u001B[43mstring\u001B[49m\u001B[43m,\u001B[49m\u001B[43m \u001B[49m\u001B[38;5;28;43;01mTrue\u001B[39;49;00m\u001B[43m)\u001B[49m\n\u001B[0;32m    224\u001B[0m     \u001B[38;5;28mself\u001B[39m\u001B[38;5;241m.\u001B[39m_setup_subset(string)\n\u001B[0;32m    225\u001B[0m \u001B[38;5;28;01mexcept\u001B[39;00m ParseEscape:\n",
      "\u001B[1;31mExpatError\u001B[0m: junk after document element: line 1, column 263"
     ]
    }
   ],
   "source": [
    "my_item_func = lambda x: 'object'\n",
    "xml = dicttoxml(load_dict,custom_root='Annotations',item_func=my_item_func,attr_type=False)\n",
    "dom = parseString(xml)"
   ],
   "metadata": {
    "collapsed": false,
    "pycharm": {
     "name": "#%%\n"
    }
   }
  },
  {
   "cell_type": "code",
   "execution_count": null,
   "outputs": [],
   "source": [],
   "metadata": {
    "collapsed": false,
    "pycharm": {
     "name": "#%%\n"
    }
   }
  }
 ],
 "metadata": {
  "kernelspec": {
   "display_name": "Python 3",
   "language": "python",
   "name": "python3"
  },
  "language_info": {
   "codemirror_mode": {
    "name": "ipython",
    "version": 2
   },
   "file_extension": ".py",
   "mimetype": "text/x-python",
   "name": "python",
   "nbconvert_exporter": "python",
   "pygments_lexer": "ipython2",
   "version": "2.7.6"
  }
 },
 "nbformat": 4,
 "nbformat_minor": 0
}