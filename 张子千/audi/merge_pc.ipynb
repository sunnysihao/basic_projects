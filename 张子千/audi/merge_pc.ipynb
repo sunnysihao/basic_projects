{
 "cells": [
  {
   "cell_type": "code",
   "execution_count": 11,
   "metadata": {
    "collapsed": true
   },
   "outputs": [],
   "source": [
    "import json\n",
    "import pprint\n",
    "import numpy as np\n",
    "import numpy.linalg as la"
   ]
  },
  {
   "cell_type": "code",
   "execution_count": 12,
   "outputs": [],
   "source": [
    "with open (r'D:\\Desktop\\Project_file\\张子千\\audi\\a2d2-preview\\cams_lidars.json', 'r') as f:\n",
    "    config = json.load(f)"
   ],
   "metadata": {
    "collapsed": false,
    "pycharm": {
     "name": "#%%\n"
    }
   }
  },
  {
   "cell_type": "code",
   "execution_count": 13,
   "outputs": [],
   "source": [
    "EPSILON = 1.0e-10 # norm should not be small\n",
    "def get_axes_of_a_view(view):\n",
    "    x_axis = view['x-axis']\n",
    "    y_axis = view['y-axis']\n",
    "\n",
    "    x_axis_norm = la.norm(x_axis)\n",
    "    y_axis_norm = la.norm(y_axis)\n",
    "\n",
    "    if (x_axis_norm < EPSILON or y_axis_norm < EPSILON):\n",
    "        raise ValueError(\"Norm of input vector(s) too small.\")\n",
    "\n",
    "    # normalize the axes\n",
    "    x_axis = x_axis / x_axis_norm\n",
    "    y_axis = y_axis / y_axis_norm\n",
    "\n",
    "    # make a new y-axis which lies in the original x-y plane, but is orthogonal to x-axis\n",
    "    y_axis = y_axis - x_axis * np.dot(y_axis, x_axis)\n",
    "\n",
    "    # create orthogonal z-axis\n",
    "    z_axis = np.cross(x_axis, y_axis)\n",
    "\n",
    "    # calculate and check y-axis and z-axis norms\n",
    "    y_axis_norm = la.norm(y_axis)\n",
    "    z_axis_norm = la.norm(z_axis)\n",
    "\n",
    "    if (y_axis_norm < EPSILON) or (z_axis_norm < EPSILON):\n",
    "        raise ValueError(\"Norm of view axis vector(s) too small.\")\n",
    "\n",
    "    # make x/y/z-axes orthonormal\n",
    "    y_axis = y_axis / y_axis_norm\n",
    "    z_axis = z_axis / z_axis_norm\n",
    "\n",
    "    return x_axis, y_axis, z_axis\n",
    "def get_origin_of_a_view(view):\n",
    "    return view['origin']\n",
    "def get_transform_to_global(view):\n",
    "    # get axes\n",
    "    x_axis, y_axis, z_axis = get_axes_of_a_view(view)\n",
    "\n",
    "    # get origin\n",
    "    origin = get_origin_of_a_view(view)\n",
    "    transform_to_global = np.eye(4)\n",
    "\n",
    "    # rotation\n",
    "    transform_to_global[0:3, 0] = x_axis\n",
    "    transform_to_global[0:3, 1] = y_axis\n",
    "    transform_to_global[0:3, 2] = z_axis\n",
    "\n",
    "    # origin\n",
    "    transform_to_global[0:3, 3] = origin\n",
    "\n",
    "    return transform_to_global"
   ],
   "metadata": {
    "collapsed": false,
    "pycharm": {
     "name": "#%%\n"
    }
   }
  },
  {
   "cell_type": "code",
   "execution_count": 14,
   "outputs": [],
   "source": [
    "def parse_points(datas, ext):\n",
    "    i = datas['pcloud_attr.reflectance']\n",
    "    point = datas['pcloud_points']\n",
    "    one = np.ones(len(point))\n",
    "    points = np.hstack((point, one.reshape((-1,1)))) @ ext.T\n",
    "    return np.hstack((points[:,0:3]), i.reshape((-1, 1)))\n",
    "def write_pcd(points, file):\n",
    "    with open(file, 'w', encoding='ascii') as pcd_file:\n",
    "        point_num = points.shape[0]\n",
    "        heads = [\n",
    "            '# .PCD v0.7 - Point Cloud Data file format',\n",
    "            'VERSION 0.7',\n",
    "            'FIELDS x y z i',\n",
    "            'SIZE 4 4 4 4',\n",
    "            'TYPE F F F F',\n",
    "            'COUNT 1 1 1 1',\n",
    "            f'WIDTH {point_num}',\n",
    "            'HEIGHT 1',\n",
    "            'VIEWPOINT 0 0 0 1 0 0 0',\n",
    "            f'POINTS {point_num}',\n",
    "            'DATA ascii'\n",
    "        ]\n",
    "        pcd_file.write('\\n'.join(heads))\n",
    "        for i in range(point_num):\n",
    "            string_point = '\\n' + str(points[i, 0]) + ' ' + str(points[i, 1]) + ' ' + str(points[i, 2]) + ' ' + str(points[i, 3])\n",
    "            pcd_file.write(string_point)\n"
   ],
   "metadata": {
    "collapsed": false,
    "pycharm": {
     "name": "#%%\n"
    }
   }
  },
  {
   "cell_type": "code",
   "execution_count": 9,
   "outputs": [],
   "source": [],
   "metadata": {
    "collapsed": false,
    "pycharm": {
     "name": "#%%\n"
    }
   }
  },
  {
   "cell_type": "code",
   "execution_count": 10,
   "outputs": [
    {
     "data": {
      "text/plain": "array([[-7.84089207e-03,  9.80720312e-01,  1.95259288e-01,\n         1.71840000e+00],\n       [-9.99927583e-01, -5.90689701e-03, -1.04850857e-02,\n         3.81639165e-17],\n       [-9.12956007e-03, -1.95327360e-01,  9.80695607e-01,\n         1.12014061e+00],\n       [ 0.00000000e+00,  0.00000000e+00,  0.00000000e+00,\n         1.00000000e+00]])"
     },
     "execution_count": 10,
     "metadata": {},
     "output_type": "execute_result"
    }
   ],
   "source": [],
   "metadata": {
    "collapsed": false,
    "pycharm": {
     "name": "#%%\n"
    }
   }
  },
  {
   "cell_type": "code",
   "execution_count": null,
   "outputs": [],
   "source": [],
   "metadata": {
    "collapsed": false,
    "pycharm": {
     "name": "#%%\n"
    }
   }
  }
 ],
 "metadata": {
  "kernelspec": {
   "display_name": "Python 3",
   "language": "python",
   "name": "python3"
  },
  "language_info": {
   "codemirror_mode": {
    "name": "ipython",
    "version": 2
   },
   "file_extension": ".py",
   "mimetype": "text/x-python",
   "name": "python",
   "nbconvert_exporter": "python",
   "pygments_lexer": "ipython2",
   "version": "2.7.6"
  }
 },
 "nbformat": 4,
 "nbformat_minor": 0
}