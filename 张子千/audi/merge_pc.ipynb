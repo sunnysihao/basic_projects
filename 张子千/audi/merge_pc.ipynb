{
 "cells": [
  {
   "cell_type": "code",
   "execution_count": 3,
   "metadata": {
    "collapsed": true
   },
   "outputs": [],
   "source": []
  },
  {
   "cell_type": "code",
   "execution_count": 4,
   "outputs": [],
   "source": [],
   "metadata": {
    "collapsed": false,
    "pycharm": {
     "name": "#%%\n"
    }
   }
  },
  {
   "cell_type": "code",
   "execution_count": 5,
   "outputs": [],
   "source": [
    "import json\n",
    "import pprint\n",
    "import numpy as np\n",
    "import numpy.linalg as la\n",
    "with open (r'D:\\Desktop\\Project_file\\张子千\\audi\\a2d2-preview\\cams_lidars.json', 'r') as f:\n",
    "    config = json.load(f)\n",
    "EPSILON = 1.0e-10 # norm should not be small\n",
    "def get_axes_of_a_view(view):\n",
    "    x_axis = view['x-axis']\n",
    "    y_axis = view['y-axis']\n",
    "\n",
    "    x_axis_norm = la.norm(x_axis)\n",
    "    y_axis_norm = la.norm(y_axis)\n",
    "\n",
    "    if (x_axis_norm < EPSILON or y_axis_norm < EPSILON):\n",
    "        raise ValueError(\"Norm of input vector(s) too small.\")\n",
    "\n",
    "    # normalize the axes\n",
    "    x_axis = x_axis / x_axis_norm\n",
    "    y_axis = y_axis / y_axis_norm\n",
    "\n",
    "    # make a new y-axis which lies in the original x-y plane, but is orthogonal to x-axis\n",
    "    y_axis = y_axis - x_axis * np.dot(y_axis, x_axis)\n",
    "\n",
    "    # create orthogonal z-axis\n",
    "    z_axis = np.cross(x_axis, y_axis)\n",
    "\n",
    "    # calculate and check y-axis and z-axis norms\n",
    "    y_axis_norm = la.norm(y_axis)\n",
    "    z_axis_norm = la.norm(z_axis)\n",
    "\n",
    "    if (y_axis_norm < EPSILON) or (z_axis_norm < EPSILON):\n",
    "        raise ValueError(\"Norm of view axis vector(s) too small.\")\n",
    "\n",
    "    # make x/y/z-axes orthonormal\n",
    "    y_axis = y_axis / y_axis_norm\n",
    "    z_axis = z_axis / z_axis_norm\n",
    "\n",
    "    return x_axis, y_axis, z_axis\n",
    "def get_origin_of_a_view(view):\n",
    "    return view['origin']\n",
    "def get_transform_to_global(view):\n",
    "    # get axes\n",
    "    x_axis, y_axis, z_axis = get_axes_of_a_view(view)\n",
    "\n",
    "    # get origin\n",
    "    origin = get_origin_of_a_view(view)\n",
    "    transform_to_global = np.eye(4)\n",
    "\n",
    "    # rotation\n",
    "    transform_to_global[0:3, 0] = x_axis\n",
    "    transform_to_global[0:3, 1] = y_axis\n",
    "    transform_to_global[0:3, 2] = z_axis\n",
    "\n",
    "    # origin\n",
    "    transform_to_global[0:3, 3] = origin\n",
    "\n",
    "    return transform_to_global\n",
    "\n",
    "lidar_1 = config['lidars']['front_center']['view']\n",
    "lidar_2 = config['lidars']['front_left']['view']\n",
    "lidar_3 = config['lidars']['front_right']['view']\n",
    "lidar_4 = config['lidars']['rear_left']['view']\n",
    "lidar_5 = config['lidars']['rear_right']['view']\n",
    "# lidar_6 = config['lidars']['front_center']['view']\n",
    "\n",
    "ext1 = get_transform_to_global(lidar_1)\n",
    "ext2 = get_transform_to_global(lidar_2)\n",
    "ext3 = get_transform_to_global(lidar_3)\n",
    "ext4 = get_transform_to_global(lidar_4)\n",
    "ext5 = get_transform_to_global(lidar_5)\n",
    "# ext6 = get_transform_to_global(lidar_6)"
   ],
   "metadata": {
    "collapsed": false,
    "pycharm": {
     "name": "#%%\n"
    }
   }
  },
  {
   "cell_type": "code",
   "execution_count": 7,
   "outputs": [],
   "source": [
    "\n"
   ],
   "metadata": {
    "collapsed": false,
    "pycharm": {
     "name": "#%%\n"
    }
   }
  },
  {
   "cell_type": "code",
   "execution_count": 9,
   "outputs": [],
   "source": [],
   "metadata": {
    "collapsed": false,
    "pycharm": {
     "name": "#%%\n"
    }
   }
  },
  {
   "cell_type": "code",
   "execution_count": 10,
   "outputs": [
    {
     "data": {
      "text/plain": "array([[-7.84089207e-03,  9.80720312e-01,  1.95259288e-01,\n         1.71840000e+00],\n       [-9.99927583e-01, -5.90689701e-03, -1.04850857e-02,\n         3.81639165e-17],\n       [-9.12956007e-03, -1.95327360e-01,  9.80695607e-01,\n         1.12014061e+00],\n       [ 0.00000000e+00,  0.00000000e+00,  0.00000000e+00,\n         1.00000000e+00]])"
     },
     "execution_count": 10,
     "metadata": {},
     "output_type": "execute_result"
    }
   ],
   "source": [
    "ext1"
   ],
   "metadata": {
    "collapsed": false,
    "pycharm": {
     "name": "#%%\n"
    }
   }
  },
  {
   "cell_type": "code",
   "execution_count": null,
   "outputs": [],
   "source": [],
   "metadata": {
    "collapsed": false,
    "pycharm": {
     "name": "#%%\n"
    }
   }
  }
 ],
 "metadata": {
  "kernelspec": {
   "display_name": "Python 3",
   "language": "python",
   "name": "python3"
  },
  "language_info": {
   "codemirror_mode": {
    "name": "ipython",
    "version": 2
   },
   "file_extension": ".py",
   "mimetype": "text/x-python",
   "name": "python",
   "nbconvert_exporter": "python",
   "pygments_lexer": "ipython2",
   "version": "2.7.6"
  }
 },
 "nbformat": 4,
 "nbformat_minor": 0
}