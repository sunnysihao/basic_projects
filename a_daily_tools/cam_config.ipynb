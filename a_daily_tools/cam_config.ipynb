{
 "cells": [
  {
   "cell_type": "code",
   "execution_count": 7,
   "metadata": {
    "collapsed": true
   },
   "outputs": [],
   "source": [
    "import os\n",
    "import json\n",
    "import numpy as np\n",
    "from numpy.linalg import inv\n",
    "from scipy.spatial.transform import Rotation as R\n",
    "\n",
    "\n",
    "def load_json(json_path: str):\n",
    "    with open(json_path, 'r', encoding='utf-8') as f:\n",
    "        content = f.read()\n",
    "        json_content = json.loads(content)\n",
    "    return json_content\n",
    "\n",
    "def list_files(in_path: str):\n",
    "    file_list = []\n",
    "    for root, _, files in os.walk(in_path):\n",
    "        for file in files:\n",
    "            if os.path.splitext(file)[-1] == '.json':\n",
    "\n",
    "                file_list.append(os.path.join(root, file))\n",
    "    return file_list"
   ]
  },
  {
   "cell_type": "code",
   "execution_count": 21,
   "outputs": [],
   "source": [
    "# json_file = r\"D:\\Desktop\\BasicProject\\谢秋梅\\24_090159_220614_1\\camera_config\\1.json\"\n",
    "# json_content = load_json(json_file)\n",
    "# param = json_content[4]\n",
    "# cam_in = param['camera_internal']\n",
    "camin = {\n",
    "      \"fx\": 1500.3176269531,\n",
    "      \"fy\": 1500.1853027344,\n",
    "      \"cx\": 960.4075927734,\n",
    "      \"cy\": 540.5059814453\n",
    "    }\n",
    "camext = [\n",
    "      -0.0153653484232299,\n",
    "      0.162059191736981,\n",
    "      0.986661403137566,\n",
    "      0.88854476367085478,\n",
    "      -0.9998160698712597,\n",
    "      -0.01381728440023179,\n",
    "      -0.013300717236006959,\n",
    "      -0.018870255393905744,\n",
    "      0.0114774777290943,\n",
    "      -0.986684296533274,\n",
    "      0.16224169155805387,\n",
    "      1.8720682078547608,\n",
    "      0,\n",
    "      0,\n",
    "      0,\n",
    "      1\n",
    "    ]\n",
    "cam_ext = np.array(camext).reshape(4, 4)\n",
    "data = [\n",
    "    {\n",
    "        \"camera_internal\": camin,\n",
    "        \"camera_external\": inv(cam_ext).flatten().tolist()\n",
    "    }\n",
    "]\n",
    "pcd_path = r\"D:\\Desktop\\BasicProject\\谢秋梅\\24_090159_220614_1\\point_cloud\"\n",
    "config_path=r\"D:\\Desktop\\BasicProject\\谢秋梅\\24_090159_220614_1\\camera_config\"\n",
    "for file in list_files(config_path):\n",
    "    with open(file, 'w', encoding='utf-8') as f:\n",
    "        f.write(json.dumps(data))\n",
    "# with open(r\"D:\\Desktop\\BasicProject\\谢秋梅\\24_090159_220614_1\\t5.json\", 'w', encoding='utf-8') as f:\n",
    "#     f.write(json.dumps(data))"
   ],
   "metadata": {
    "collapsed": false,
    "pycharm": {
     "name": "#%%\n"
    }
   }
  },
  {
   "cell_type": "code",
   "execution_count": null,
   "outputs": [],
   "source": [],
   "metadata": {
    "collapsed": false,
    "pycharm": {
     "name": "#%%\n"
    }
   }
  }
 ],
 "metadata": {
  "kernelspec": {
   "display_name": "Python 3",
   "language": "python",
   "name": "python3"
  },
  "language_info": {
   "codemirror_mode": {
    "name": "ipython",
    "version": 2
   },
   "file_extension": ".py",
   "mimetype": "text/x-python",
   "name": "python",
   "nbconvert_exporter": "python",
   "pygments_lexer": "ipython2",
   "version": "2.7.6"
  }
 },
 "nbformat": 4,
 "nbformat_minor": 0
}