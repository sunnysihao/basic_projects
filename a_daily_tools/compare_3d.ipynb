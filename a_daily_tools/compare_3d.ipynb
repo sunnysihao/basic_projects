{
 "cells": [
  {
   "cell_type": "code",
   "execution_count": 1,
   "id": "4b48489b-f03f-4800-b27d-82f2b369e3bb",
   "metadata": {},
   "outputs": [],
   "source": [
    "import numpy as np\n",
    "import pandas as pd\n",
    "import json\n",
    "import time\n",
    "from tqdm import tqdm"
   ]
  },
  {
   "cell_type": "code",
   "execution_count": 24,
   "outputs": [],
   "source": [
    "import numpy as np\n",
    "\n",
    "\n",
    "EPS = 1e-8\n",
    "\n",
    "\n",
    "def rot_mat(angle):\n",
    "    return np.asarray([\n",
    "        [np.cos(angle), -np.sin(angle)],\n",
    "        [np.sin(angle), np.cos(angle)],\n",
    "    ])\n",
    "\n",
    "\n",
    "def point_cmp(a, b, center):\n",
    "    return np.arctan2(*(a - center)[::-1]) > np.arctan2(*(b - center)[::-1])\n",
    "\n",
    "\n",
    "def check_in_box2d(box, point):\n",
    "    \"\"\"\n",
    "    :params box: (7) [x, y, z, dx, dy, dz, heading]\n",
    "    \"\"\"\n",
    "    MARGIN = 1e-2\n",
    "\n",
    "    # rotate the point in the opposite direction of box\n",
    "    p = rot_mat(-box[6]) @ (point - box[:2])\n",
    "    return (np.abs(p) < box[3:5]/2 + MARGIN).all()\n",
    "\n",
    "\n",
    "def intersection(line1, line2):\n",
    "    # fast exclusion: check_rect_cross\n",
    "    if (\n",
    "        not (line1.min(axis=0) < line2.max(axis=0)).all()\n",
    "        or not (line1.max(axis=0) > line2.min(axis=0)).all()\n",
    "    ):\n",
    "        return None\n",
    "\n",
    "    # check cross standing\n",
    "    points = np.vstack([line1, line2])\n",
    "    points_1 = points - line1[0]\n",
    "    points_2 = points - line2[0]\n",
    "\n",
    "    cross1 = np.cross(points_1[[2, 1]], points_1[[1, 3]])\n",
    "    cross2 = np.cross(points_2[[0, 3]], points_2[[3, 1]])\n",
    "    if cross1.prod() <= 0 or cross2.prod() <= 0:\n",
    "        return None\n",
    "\n",
    "    # calculate intersection of two lines\n",
    "    # s1, s2 = cross1\n",
    "    # s3, s4 = cross2\n",
    "    s1 = cross1[0]\n",
    "    s5 = np.cross(points_1[3], points_1[1])\n",
    "\n",
    "    p0, p1 = line1\n",
    "    q0, q1 = line2\n",
    "\n",
    "    if abs(s5 - s1) > EPS:\n",
    "        x = (s5 * q0[0] - s1 * q1[0]) / (s5 - s1)\n",
    "        y = (s5 * q0[1] - s1 * q1[1]) / (s5 - s1)\n",
    "\n",
    "    else:\n",
    "        a0 = p0[1] - p1[1]\n",
    "        b0 = p1[0] - p0[0]\n",
    "        c0 = p0[0] * p1[1] - p1[0] * p0[1]\n",
    "\n",
    "        a1 = q0[1] - q1[1]\n",
    "        b1 = q1[0] - q0[0]\n",
    "        c1 = q0[0] * q1[1] - q1[0] * q0[1]\n",
    "\n",
    "        D = a0 * b1 - a1 * b0\n",
    "\n",
    "        x = (b0 * c1 - b1 * c0) / D\n",
    "        y = (a1 * c0 - a0 * c1) / D\n",
    "\n",
    "    return np.array([x, y])\n",
    "\n",
    "\n",
    "def box2corners(center, half_size, angle):\n",
    "    corners = np.stack([-half_size, half_size], axis=0)\n",
    "    corners = np.stack([\n",
    "        corners[[0, 1, 1, 0], 0],\n",
    "        corners[[0, 0, 1, 1], 1]\n",
    "    ], axis=1)\n",
    "\n",
    "    corners = corners @ rot_mat(angle).T + center\n",
    "    return corners\n",
    "\n",
    "\n",
    "def box_overlap(box_a: np.ndarray, box_b: np.ndarray):\n",
    "    \"\"\"\n",
    "    :params box_a: [x, y, z, dx, dy, dz, heading]\n",
    "    :params box_b: [x, y, z, dx, dy, dz, heading]\n",
    "    \"\"\"\n",
    "    box_a_corners = box2corners(box_a[:2], box_a[3:5] / 2, box_a[6])\n",
    "    box_b_corners = box2corners(box_b[:2], box_b[3:5] / 2, box_b[6])\n",
    "\n",
    "    box_a_corners = np.vstack([box_a_corners, box_a_corners[:1]])\n",
    "    box_b_corners = np.vstack([box_b_corners, box_b_corners[:1]])\n",
    "\n",
    "    cnt = 0\n",
    "    cross_points = np.zeros((16, 2))\n",
    "    poly_center = np.zeros((2, ))\n",
    "    for i in range(4):\n",
    "        for j in range(4):\n",
    "            cp = intersection(box_a_corners[i: i+2], box_b_corners[j: j+2])\n",
    "            if cp is not None:\n",
    "                cross_points[cnt] = cp\n",
    "                poly_center +=  cp\n",
    "                cnt += 1\n",
    "\n",
    "    # check corners\n",
    "    for k in range(4):\n",
    "        if check_in_box2d(box_a, box_b_corners[k]):\n",
    "            poly_center = poly_center + box_b_corners[k]\n",
    "            cross_points[cnt] = box_b_corners[k]\n",
    "            cnt += 1\n",
    "\n",
    "        if check_in_box2d(box_b, box_a_corners[k]):\n",
    "            poly_center = poly_center + box_a_corners[k]\n",
    "            cross_points[cnt] = box_a_corners[k]\n",
    "            cnt += 1\n",
    "\n",
    "    if cnt < 3:\n",
    "        assert cnt == 0\n",
    "        return 0.0\n",
    "\n",
    "    poly_center /= cnt\n",
    "\n",
    "    # sort the points of polygon\n",
    "    for j in range(cnt - 1):\n",
    "        for i in range(cnt - j - 1):\n",
    "            if point_cmp(cross_points[i], cross_points[i + 1], poly_center):\n",
    "                cross_points[i:i+2] = cross_points[i:i+2][::-1]\n",
    "\n",
    "    # get the overlap areas\n",
    "    vectors = (cross_points[:cnt] - cross_points[0])[1:]\n",
    "    area = np.cross(vectors[:-1], vectors[1:]).sum()\n",
    "\n",
    "    return abs(area) / 2.0\n",
    "\n",
    "\n",
    "def iou_bev(box_a, box_b):\n",
    "    \"\"\"\n",
    "    :params box_a: [x, y, z, dx, dy, dz, heading]\n",
    "    :params box_b: [x, y, z, dx, dy, dz, heading]\n",
    "    \"\"\"\n",
    "    sa = box_a[3] * box_a[4]\n",
    "    sb = box_b[3] * box_b[4]\n",
    "    s_overlap = box_overlap(box_a, box_b)\n",
    "    return s_overlap / max(sa + sb - s_overlap, EPS)\n",
    "\n",
    "\n",
    "def iou_3d(boxes_a: np.ndarray, boxes_b: np.ndarray):\n",
    "    \"\"\"\n",
    "    Args:\n",
    "        boxes_a: (N, 7) [x, y, z, dx, dy, dz, heading]\n",
    "        boxes_b: (M, 7) [x, y, z, dx, dy, dz, heading]\n",
    "\n",
    "    Returns:\n",
    "        ans_iou: iou, iou_a, ous_b\n",
    "    \"\"\"\n",
    "    assert len(boxes_a) == len(boxes_b) == 7\n",
    "\n",
    "    # height overlap\n",
    "    boxes_a_height_max = (boxes_a[2] + boxes_a[5] / 2)\n",
    "    boxes_a_height_min = (boxes_a[2] - boxes_a[5] / 2)\n",
    "    boxes_b_height_max = (boxes_b[2] + boxes_b[5] / 2)\n",
    "    boxes_b_height_min = (boxes_b[2] - boxes_b[5] / 2)\n",
    "\n",
    "    # bev overlap\n",
    "    overlaps_bev = box_overlap(boxes_a, boxes_b)\n",
    "\n",
    "    max_of_min = max(boxes_a_height_min, boxes_b_height_min)\n",
    "    min_of_max = min(boxes_a_height_max, boxes_b_height_max)\n",
    "    overlaps_h = (min_of_max - max_of_min).clip(min=0)\n",
    "\n",
    "    # 3d iou\n",
    "    overlaps_3d = overlaps_bev * overlaps_h\n",
    "\n",
    "    vol_a = (boxes_a[3] * boxes_a[4] * boxes_a[5])\n",
    "    vol_b = (boxes_b[3] * boxes_b[4] * boxes_b[5])\n",
    "\n",
    "    iou3d = overlaps_3d / (vol_a + vol_b - overlaps_3d).clip(min=1e-6)\n",
    "\n",
    "    return iou3d, overlaps_3d / vol_a, overlaps_3d / vol_b\n",
    "\n",
    "\n",
    "def whether_overlap(boxes):\n",
    "    N = len(boxes)\n",
    "    result = np.zeros((N, N))\n",
    "    for i, box1 in enumerate(boxes):\n",
    "        for j in range(i, len(boxes)):\n",
    "            result[i, j] = result[j, i] = iou_3d(box1, boxes[j]) > (0.95, 0.95, 0.95)\n",
    "\n",
    "    np.set_printoptions(suppress=True, precision=3)\n",
    "    sum_r = np.sum(result)\n",
    "    if sum_r <= N:\n",
    "        lap = 0\n",
    "    else:\n",
    "        lap = 1\n",
    "        # print(result)\n",
    "    return lap\n"
   ],
   "metadata": {
    "collapsed": false,
    "pycharm": {
     "name": "#%%\n"
    }
   }
  },
  {
   "cell_type": "code",
   "execution_count": 3,
   "id": "c118d68c-7083-4e96-9dfc-24689f245471",
   "metadata": {},
   "outputs": [],
   "source": [
    "def trans_col(content):\n",
    "    result = None\n",
    "    if type(content) == dict:\n",
    "        cur_c = list(content['center3D'].values()) + list(content['size3D'].values()) + [content['rotation3D']['z']]\n",
    "        result = list(map(lambda x: round(x, 3), cur_c))\n",
    "    elif type(content) == list:\n",
    "        result = []\n",
    "        for c in content:\n",
    "            cur_c = list(c['center3D'].values()) + list(c['size3D'].values()) + [c['rotation3D']['z']]\n",
    "            result.append(list(map(lambda x: round(x, 3), cur_c)))\n",
    "    return result"
   ]
  },
  {
   "cell_type": "code",
   "execution_count": 4,
   "id": "210ee482-3833-418e-a42d-bf4d81000512",
   "metadata": {},
   "outputs": [],
   "source": [
    "# 文件路径\n",
    "model_dataset = r'D:\\Desktop\\导出数据\\model_dataset_result.csv'\n",
    "model_data = r'D:\\Desktop\\导出数据\\model_data_result.csv'\n",
    "data_ann = r'D:\\Desktop\\导出数据\\data_annotation_object.csv'"
   ]
  },
  {
   "cell_type": "code",
   "execution_count": 5,
   "id": "222fd883-879a-4a87-85ef-9198c858ed0d",
   "metadata": {
    "tags": []
   },
   "outputs": [],
   "source": [
    "# 模型标注使用的列\n",
    "useful_cols = ['data_id', 'model_result']\n",
    "# 创建DataFrame\n",
    "dataset_df = pd.read_csv(model_dataset)[useful_cols]\n",
    "data_df = pd.read_csv(model_data)[useful_cols]\n",
    "ann_df = pd.read_csv(data_ann)[['data_id', 'class_attributes', 'created_at', 'created_by']]"
   ]
  },
  {
   "cell_type": "code",
   "execution_count": 6,
   "id": "dcc53499-315a-48a4-b781-2aa9cac7c6c0",
   "metadata": {},
   "outputs": [],
   "source": [
    "# 合并、整理模型表\n",
    "modelrun_df = pd.concat([dataset_df, data_df]).reset_index(drop=True).dropna()\n",
    "modelrun_df['model_result'] = modelrun_df['model_result'].map(lambda x: trans_col(json.loads(x).get('objects', None)))\n",
    "modelrun_df = modelrun_df[modelrun_df['model_result'].map(bool)]\n",
    "\n",
    "# 炸开\n",
    "modelrun_single_df = modelrun_df.explode('model_result')\n",
    "\n",
    "# 去重\n",
    "modelrun_single_df['tag'] = modelrun_single_df['model_result'].map(lambda x: str(x))\n",
    "unique_model_df = modelrun_single_df.drop_duplicates(['tag', 'data_id']).copy()\n",
    "unique_model_df.rename(columns={'tag': 'model_data_tag'}, inplace=True)"
   ]
  },
  {
   "cell_type": "code",
   "execution_count": 7,
   "id": "7b3387a5-9e9e-43af-95a9-06655764930b",
   "metadata": {
    "tags": []
   },
   "outputs": [],
   "source": [
    "# 整理总标注表\n",
    "ann_df['class_attributes'] = ann_df['class_attributes'].map(lambda x: json.loads(x) if type(x) == str else x)\n",
    "# 只需要人工处理过的数据\n",
    "handle_df = ann_df[ann_df['class_attributes'].map(lambda x: 'attrs' in x)].copy()\n",
    "\n",
    "# 区分标注类型\n",
    "handle_df['type'] = handle_df['class_attributes'].map(lambda x: x['objType'])\n",
    "rect_df = handle_df[handle_df['type']=='rect'].copy()\n",
    "box2d_df = handle_df[handle_df['type']=='box2d'].copy()\n",
    "box3d_df = handle_df[handle_df['type']=='3d'].copy()\n",
    "\n",
    "# 对3D框去重\n",
    "box3d_df['final_data'] = box3d_df['class_attributes'].map(lambda x: trans_col(x))\n",
    "box3d_df['tag'] = box3d_df['final_data'].map(lambda x: str(x))\n",
    "unique_3d_df = box3d_df.drop_duplicates(['tag', 'data_id']).copy()\n",
    "\n",
    "# 去除不需要的列、改名\n",
    "unique_3d_df.drop(columns=['type'], inplace=True)\n",
    "unique_3d_df.rename(columns={'tag': 'final_data_tag'}, inplace=True)"
   ]
  },
  {
   "cell_type": "code",
   "execution_count": 13,
   "id": "cebc2e04-7509-4277-8a0e-14c680444564",
   "metadata": {},
   "outputs": [
    {
     "name": "stdout",
     "output_type": "stream",
     "text": [
      "120235 65907.0 4789\n",
      "120233 280501.0 10698\n",
      "120238 53321.0 4020\n",
      "120135 49032.0 144147\n",
      "120232 87739.0 4294\n",
      "120236 108418.0 5403\n",
      "120240 10523.0 1038\n",
      "120234 8972.0 53\n",
      "120239 17981.0 1156\n",
      "120241 19046.0 922\n",
      "120237 98814.0 5041\n"
     ]
    }
   ],
   "source": [
    "# 统计时间\n",
    "people = unique_3d_df['created_by'].unique()\n",
    "for p in people:\n",
    "    p_df = unique_3d_df[unique_3d_df['created_by'] == p].copy()\n",
    "    p_df['time'] = p_df['created_at'].map(lambda x: time.mktime(time.strptime(x, \"%Y-%m-%d %H:%M:%S\")))\n",
    "    p_df.sort_values('time', inplace=True)\n",
    "    times = p_df['time'].unique()\n",
    "    total_time = 0\n",
    "    start, end = 0, 0\n",
    "    for i in range(1, len(times)):\n",
    "        start = times[i-1]\n",
    "        end = times[i]\n",
    "        interval = end - start\n",
    "        if interval <= 1800:\n",
    "            total_time += interval\n",
    "    print(p, total_time, len(p_df))"
   ]
  },
  {
   "cell_type": "code",
   "execution_count": 11,
   "outputs": [
    {
     "data": {
      "text/plain": "        data_id                                   class_attributes  \\\n13045   1998760  {'attrs': {'TYPE': 'SUV'}, 'center3D': {'x': 9...   \n13046   1998760  {'attrs': {'TYPE': 'SEDAN'}, 'center3D': {'x':...   \n13047   1998760  {'attrs': {'TYPE': 'SUV'}, 'center3D': {'x': 2...   \n13048   1998760  {'attrs': {'TYPE': 'TRUCK'}, 'center3D': {'x':...   \n13049   1998760  {'attrs': {'TYPE': 'SUV'}, 'center3D': {'x': 1...   \n...         ...                                                ...   \n464048  7350324  {'attrs': {'TYPE': 'BUS'}, 'center3D': {'x': -...   \n464053  7350325  {'attrs': {'TYPE': 'SEDAN'}, 'center3D': {'x':...   \n464054  7350325  {'attrs': {'TYPE': 'BUS'}, 'center3D': {'x': -...   \n464059  7350327  {'attrs': {'TYPE': 'SEDAN'}, 'center3D': {'x':...   \n464060  7350327  {'attrs': {'TYPE': 'BUS'}, 'center3D': {'x': -...   \n\n                 created_at  created_by  \\\n13045   2022-10-25 00:53:48      120235   \n13046   2022-10-25 00:53:48      120235   \n13047   2022-10-25 00:53:48      120235   \n13048   2022-10-25 00:53:48      120235   \n13049   2022-10-25 00:53:48      120235   \n...                     ...         ...   \n464048  2022-11-10 15:05:24      120237   \n464053  2022-11-10 15:05:49      120237   \n464054  2022-11-10 15:05:49      120237   \n464059  2022-11-10 15:06:42      120237   \n464060  2022-11-10 15:06:42      120237   \n\n                                               final_data  \\\n13045      [9.486, -27.979, 1.08, 4.298, 1.907, 1.3, 1.6]   \n13046   [-6.759, 25.591, 0.791, 4.343, 1.921, 1.399, -...   \n13047   [24.053, -19.336, 1.534, 3.967, 1.73, 1.275, 1...   \n13048   [14.231, -16.111, 1.711, 4.173, 2.417, 2.262, ...   \n13049   [13.247, -19.557, 1.154, 2.739, 1.884, 1.352, ...   \n...                                                   ...   \n464048  [-40.369, 21.32, 1.128, 9.439, 2.794, 3.318, 1...   \n464053  [-37.112, -22.904, 0.319, 3.767, 1.915, 1.581,...   \n464054  [-41.367, 21.531, 1.128, 9.439, 2.794, 3.318, ...   \n464059  [-39.015, -23.146, 0.319, 3.767, 1.915, 1.581,...   \n464060  [-43.31, 22.411, 1.128, 9.439, 2.794, 3.318, 1...   \n\n                                           final_data_tag  \n13045      [9.486, -27.979, 1.08, 4.298, 1.907, 1.3, 1.6]  \n13046   [-6.759, 25.591, 0.791, 4.343, 1.921, 1.399, -...  \n13047   [24.053, -19.336, 1.534, 3.967, 1.73, 1.275, 1...  \n13048   [14.231, -16.111, 1.711, 4.173, 2.417, 2.262, ...  \n13049   [13.247, -19.557, 1.154, 2.739, 1.884, 1.352, ...  \n...                                                   ...  \n464048  [-40.369, 21.32, 1.128, 9.439, 2.794, 3.318, 1...  \n464053  [-37.112, -22.904, 0.319, 3.767, 1.915, 1.581,...  \n464054  [-41.367, 21.531, 1.128, 9.439, 2.794, 3.318, ...  \n464059  [-39.015, -23.146, 0.319, 3.767, 1.915, 1.581,...  \n464060  [-43.31, 22.411, 1.128, 9.439, 2.794, 3.318, 1...  \n\n[181561 rows x 6 columns]",
      "text/html": "<div>\n<style scoped>\n    .dataframe tbody tr th:only-of-type {\n        vertical-align: middle;\n    }\n\n    .dataframe tbody tr th {\n        vertical-align: top;\n    }\n\n    .dataframe thead th {\n        text-align: right;\n    }\n</style>\n<table border=\"1\" class=\"dataframe\">\n  <thead>\n    <tr style=\"text-align: right;\">\n      <th></th>\n      <th>data_id</th>\n      <th>class_attributes</th>\n      <th>created_at</th>\n      <th>created_by</th>\n      <th>final_data</th>\n      <th>final_data_tag</th>\n    </tr>\n  </thead>\n  <tbody>\n    <tr>\n      <th>13045</th>\n      <td>1998760</td>\n      <td>{'attrs': {'TYPE': 'SUV'}, 'center3D': {'x': 9...</td>\n      <td>2022-10-25 00:53:48</td>\n      <td>120235</td>\n      <td>[9.486, -27.979, 1.08, 4.298, 1.907, 1.3, 1.6]</td>\n      <td>[9.486, -27.979, 1.08, 4.298, 1.907, 1.3, 1.6]</td>\n    </tr>\n    <tr>\n      <th>13046</th>\n      <td>1998760</td>\n      <td>{'attrs': {'TYPE': 'SEDAN'}, 'center3D': {'x':...</td>\n      <td>2022-10-25 00:53:48</td>\n      <td>120235</td>\n      <td>[-6.759, 25.591, 0.791, 4.343, 1.921, 1.399, -...</td>\n      <td>[-6.759, 25.591, 0.791, 4.343, 1.921, 1.399, -...</td>\n    </tr>\n    <tr>\n      <th>13047</th>\n      <td>1998760</td>\n      <td>{'attrs': {'TYPE': 'SUV'}, 'center3D': {'x': 2...</td>\n      <td>2022-10-25 00:53:48</td>\n      <td>120235</td>\n      <td>[24.053, -19.336, 1.534, 3.967, 1.73, 1.275, 1...</td>\n      <td>[24.053, -19.336, 1.534, 3.967, 1.73, 1.275, 1...</td>\n    </tr>\n    <tr>\n      <th>13048</th>\n      <td>1998760</td>\n      <td>{'attrs': {'TYPE': 'TRUCK'}, 'center3D': {'x':...</td>\n      <td>2022-10-25 00:53:48</td>\n      <td>120235</td>\n      <td>[14.231, -16.111, 1.711, 4.173, 2.417, 2.262, ...</td>\n      <td>[14.231, -16.111, 1.711, 4.173, 2.417, 2.262, ...</td>\n    </tr>\n    <tr>\n      <th>13049</th>\n      <td>1998760</td>\n      <td>{'attrs': {'TYPE': 'SUV'}, 'center3D': {'x': 1...</td>\n      <td>2022-10-25 00:53:48</td>\n      <td>120235</td>\n      <td>[13.247, -19.557, 1.154, 2.739, 1.884, 1.352, ...</td>\n      <td>[13.247, -19.557, 1.154, 2.739, 1.884, 1.352, ...</td>\n    </tr>\n    <tr>\n      <th>...</th>\n      <td>...</td>\n      <td>...</td>\n      <td>...</td>\n      <td>...</td>\n      <td>...</td>\n      <td>...</td>\n    </tr>\n    <tr>\n      <th>464048</th>\n      <td>7350324</td>\n      <td>{'attrs': {'TYPE': 'BUS'}, 'center3D': {'x': -...</td>\n      <td>2022-11-10 15:05:24</td>\n      <td>120237</td>\n      <td>[-40.369, 21.32, 1.128, 9.439, 2.794, 3.318, 1...</td>\n      <td>[-40.369, 21.32, 1.128, 9.439, 2.794, 3.318, 1...</td>\n    </tr>\n    <tr>\n      <th>464053</th>\n      <td>7350325</td>\n      <td>{'attrs': {'TYPE': 'SEDAN'}, 'center3D': {'x':...</td>\n      <td>2022-11-10 15:05:49</td>\n      <td>120237</td>\n      <td>[-37.112, -22.904, 0.319, 3.767, 1.915, 1.581,...</td>\n      <td>[-37.112, -22.904, 0.319, 3.767, 1.915, 1.581,...</td>\n    </tr>\n    <tr>\n      <th>464054</th>\n      <td>7350325</td>\n      <td>{'attrs': {'TYPE': 'BUS'}, 'center3D': {'x': -...</td>\n      <td>2022-11-10 15:05:49</td>\n      <td>120237</td>\n      <td>[-41.367, 21.531, 1.128, 9.439, 2.794, 3.318, ...</td>\n      <td>[-41.367, 21.531, 1.128, 9.439, 2.794, 3.318, ...</td>\n    </tr>\n    <tr>\n      <th>464059</th>\n      <td>7350327</td>\n      <td>{'attrs': {'TYPE': 'SEDAN'}, 'center3D': {'x':...</td>\n      <td>2022-11-10 15:06:42</td>\n      <td>120237</td>\n      <td>[-39.015, -23.146, 0.319, 3.767, 1.915, 1.581,...</td>\n      <td>[-39.015, -23.146, 0.319, 3.767, 1.915, 1.581,...</td>\n    </tr>\n    <tr>\n      <th>464060</th>\n      <td>7350327</td>\n      <td>{'attrs': {'TYPE': 'BUS'}, 'center3D': {'x': -...</td>\n      <td>2022-11-10 15:06:42</td>\n      <td>120237</td>\n      <td>[-43.31, 22.411, 1.128, 9.439, 2.794, 3.318, 1...</td>\n      <td>[-43.31, 22.411, 1.128, 9.439, 2.794, 3.318, 1...</td>\n    </tr>\n  </tbody>\n</table>\n<p>181561 rows × 6 columns</p>\n</div>"
     },
     "execution_count": 11,
     "metadata": {},
     "output_type": "execute_result"
    }
   ],
   "source": [
    "unique_3d_df"
   ],
   "metadata": {
    "collapsed": false,
    "pycharm": {
     "name": "#%%\n"
    }
   }
  },
  {
   "cell_type": "code",
   "execution_count": 14,
   "id": "05cfc929-df65-43fd-9c8a-8ba62c49bd4b",
   "metadata": {},
   "outputs": [
    {
     "name": "stdout",
     "output_type": "stream",
     "text": [
      "总共: 241675\n",
      "直接用: 137996\n"
     ]
    }
   ],
   "source": [
    "# 联表\n",
    "merge_df = pd.merge(unique_3d_df, unique_model_df, how='inner', on='data_id')\n",
    "# 删除不需要的列\n",
    "merge_df.drop(columns=['class_attributes'], inplace=True)\n",
    "# 分离出完全一样，和不完全一样的数据，完全一样的数据是客户看了，但是没动过的，可以直接算作模型的有效框\n",
    "same_df = merge_df[merge_df['model_data_tag'] == merge_df['final_data_tag']]\n",
    "# 获取这些框的坐标信息\n",
    "same_tags = list((same_df['model_data_tag'] + same_df['data_id'].map(str)).unique())\n",
    "# 模型总共标出来这么多框\n",
    "print('总共:', merge_df['model_data_tag'].nunique())\n",
    "# 有这么多框是动都没动直接拿去用了\n",
    "print('直接用:', len(same_tags))"
   ]
  },
  {
   "cell_type": "code",
   "execution_count": 15,
   "id": "28abf514-3c45-4650-8865-d08e90089fe1",
   "metadata": {
    "tags": []
   },
   "outputs": [],
   "source": [
    "# 聚合之后去除已经出现在same_tags里的框\n",
    "merge_df['model_data_tag'] = merge_df['model_data_tag'] + merge_df['data_id'].map(str)\n",
    "merge_df['final_data'] = merge_df['final_data'].map(lambda x: [x])\n",
    "groupby_df = merge_df.groupby(by=['model_data_tag']).agg({'final_data': 'sum', 'model_result': 'first'})\n",
    "diff_df = groupby_df.drop(same_tags, axis=0)\n",
    "diff_df.reset_index(drop=True, inplace=True)"
   ]
  },
  {
   "cell_type": "code",
   "execution_count": 197,
   "id": "17a26f4e-567d-443f-a989-7bafb73ea18f",
   "metadata": {},
   "outputs": [],
   "source": [
    "# explode_df = diff_df.explode('final_data')"
   ]
  },
  {
   "cell_type": "code",
   "execution_count": 198,
   "id": "9f450bf1-613d-4d3d-8f1e-ba3b35b1ca0b",
   "metadata": {},
   "outputs": [
    {
     "data": {
      "text/html": [
       "<div>\n",
       "<style scoped>\n",
       "    .dataframe tbody tr th:only-of-type {\n",
       "        vertical-align: middle;\n",
       "    }\n",
       "\n",
       "    .dataframe tbody tr th {\n",
       "        vertical-align: top;\n",
       "    }\n",
       "\n",
       "    .dataframe thead th {\n",
       "        text-align: right;\n",
       "    }\n",
       "</style>\n",
       "<table border=\"1\" class=\"dataframe\">\n",
       "  <thead>\n",
       "    <tr style=\"text-align: right;\">\n",
       "      <th></th>\n",
       "      <th>final_data</th>\n",
       "      <th>model_result</th>\n",
       "    </tr>\n",
       "  </thead>\n",
       "  <tbody>\n",
       "    <tr>\n",
       "      <th>0</th>\n",
       "      <td>[28.713, 14.584, 0.214, 3.7, 2.068, 1.17, -2.672]</td>\n",
       "      <td>[-0.001, 23.083, 0.983, 2.782, 2.633, 4.133, -...</td>\n",
       "    </tr>\n",
       "    <tr>\n",
       "      <th>0</th>\n",
       "      <td>[27.228, 5.872, 0.966, 5.473, 2.082, 2.103, -1...</td>\n",
       "      <td>[-0.001, 23.083, 0.983, 2.782, 2.633, 4.133, -...</td>\n",
       "    </tr>\n",
       "    <tr>\n",
       "      <th>1</th>\n",
       "      <td>[-24.965, 0.33, 0.502, 2.204, 1.779, 1.086, -0...</td>\n",
       "      <td>[-0.004, 22.158, 0.729, 2.37, 1.603, 1.522, 1....</td>\n",
       "    </tr>\n",
       "    <tr>\n",
       "      <th>2</th>\n",
       "      <td>[-20.444, -0.073, 0.475, 2.042, 1.965, 1.174, ...</td>\n",
       "      <td>[-0.005, 16.393, 0.499, 4.585, 1.808, 1.354, 3...</td>\n",
       "    </tr>\n",
       "    <tr>\n",
       "      <th>2</th>\n",
       "      <td>[30.315, -0.386, 0.593, 4.419, 2.324, 1.627, -...</td>\n",
       "      <td>[-0.005, 16.393, 0.499, 4.585, 1.808, 1.354, 3...</td>\n",
       "    </tr>\n",
       "    <tr>\n",
       "      <th>...</th>\n",
       "      <td>...</td>\n",
       "      <td>...</td>\n",
       "    </tr>\n",
       "    <tr>\n",
       "      <th>103706</th>\n",
       "      <td>[-43.248, 3.207, 0.384, 4.26, 1.797, 1.301, 0....</td>\n",
       "      <td>[9.998, 3.488, 0.924, 4.323, 1.915, 1.792, 0.015]</td>\n",
       "    </tr>\n",
       "    <tr>\n",
       "      <th>103707</th>\n",
       "      <td>[4.322, -2.217, 0.851, 5.035, 2.054, 1.98, 0.409]</td>\n",
       "      <td>[9.999, -27.328, -0.098, 1.966, 0.604, 0.862, ...</td>\n",
       "    </tr>\n",
       "    <tr>\n",
       "      <th>103707</th>\n",
       "      <td>[-11.248, -4.731, 0.649, 4.681, 1.971, 1.392, ...</td>\n",
       "      <td>[9.999, -27.328, -0.098, 1.966, 0.604, 0.862, ...</td>\n",
       "    </tr>\n",
       "    <tr>\n",
       "      <th>103707</th>\n",
       "      <td>[-13.376, 1.089, 0.924, 5.727, 2.203, 1.605, 0...</td>\n",
       "      <td>[9.999, -27.328, -0.098, 1.966, 0.604, 0.862, ...</td>\n",
       "    </tr>\n",
       "    <tr>\n",
       "      <th>103708</th>\n",
       "      <td>[36.723, 0.373, 0.408, 3.194, 1.606, 1.454, 0.27]</td>\n",
       "      <td>[9.999, -6.347, 1.288, 4.927, 2.526, 3.087, 2....</td>\n",
       "    </tr>\n",
       "  </tbody>\n",
       "</table>\n",
       "<p>543371 rows × 2 columns</p>\n",
       "</div>"
      ],
      "text/plain": [
       "                                               final_data  \\\n",
       "0       [28.713, 14.584, 0.214, 3.7, 2.068, 1.17, -2.672]   \n",
       "0       [27.228, 5.872, 0.966, 5.473, 2.082, 2.103, -1...   \n",
       "1       [-24.965, 0.33, 0.502, 2.204, 1.779, 1.086, -0...   \n",
       "2       [-20.444, -0.073, 0.475, 2.042, 1.965, 1.174, ...   \n",
       "2       [30.315, -0.386, 0.593, 4.419, 2.324, 1.627, -...   \n",
       "...                                                   ...   \n",
       "103706  [-43.248, 3.207, 0.384, 4.26, 1.797, 1.301, 0....   \n",
       "103707  [4.322, -2.217, 0.851, 5.035, 2.054, 1.98, 0.409]   \n",
       "103707  [-11.248, -4.731, 0.649, 4.681, 1.971, 1.392, ...   \n",
       "103707  [-13.376, 1.089, 0.924, 5.727, 2.203, 1.605, 0...   \n",
       "103708  [36.723, 0.373, 0.408, 3.194, 1.606, 1.454, 0.27]   \n",
       "\n",
       "                                             model_result  \n",
       "0       [-0.001, 23.083, 0.983, 2.782, 2.633, 4.133, -...  \n",
       "0       [-0.001, 23.083, 0.983, 2.782, 2.633, 4.133, -...  \n",
       "1       [-0.004, 22.158, 0.729, 2.37, 1.603, 1.522, 1....  \n",
       "2       [-0.005, 16.393, 0.499, 4.585, 1.808, 1.354, 3...  \n",
       "2       [-0.005, 16.393, 0.499, 4.585, 1.808, 1.354, 3...  \n",
       "...                                                   ...  \n",
       "103706  [9.998, 3.488, 0.924, 4.323, 1.915, 1.792, 0.015]  \n",
       "103707  [9.999, -27.328, -0.098, 1.966, 0.604, 0.862, ...  \n",
       "103707  [9.999, -27.328, -0.098, 1.966, 0.604, 0.862, ...  \n",
       "103707  [9.999, -27.328, -0.098, 1.966, 0.604, 0.862, ...  \n",
       "103708  [9.999, -6.347, 1.288, 4.927, 2.526, 3.087, 2....  \n",
       "\n",
       "[543371 rows x 2 columns]"
      ]
     },
     "execution_count": 198,
     "metadata": {},
     "output_type": "execute_result"
    }
   ],
   "source": [
    "drop_list = []\n",
    "for idx, cur_row in explode_df.iterrows():\n",
    "    # if cur_row['final_data']"
   ]
  },
  {
   "cell_type": "code",
   "execution_count": 25,
   "id": "fa080c12-e47f-4b0d-b084-131613daccff",
   "metadata": {
    "tags": []
   },
   "outputs": [
    {
     "ename": "AssertionError",
     "evalue": "",
     "output_type": "error",
     "traceback": [
      "\u001B[1;31m---------------------------------------------------------------------------\u001B[0m",
      "\u001B[1;31mAssertionError\u001B[0m                            Traceback (most recent call last)",
      "Input \u001B[1;32mIn [25]\u001B[0m, in \u001B[0;36m<cell line: 4>\u001B[1;34m()\u001B[0m\n\u001B[0;32m     11\u001B[0m \u001B[38;5;28;01mfor\u001B[39;00m box1 \u001B[38;5;129;01min\u001B[39;00m total_list:\n\u001B[0;32m     12\u001B[0m     boxes \u001B[38;5;241m=\u001B[39m [np\u001B[38;5;241m.\u001B[39marray(box1), np\u001B[38;5;241m.\u001B[39marray(model_result)]\n\u001B[1;32m---> 13\u001B[0m     lap \u001B[38;5;241m=\u001B[39m \u001B[43mwhether_overlap\u001B[49m\u001B[43m(\u001B[49m\u001B[43mboxes\u001B[49m\u001B[43m)\u001B[49m\n\u001B[0;32m     14\u001B[0m     \u001B[38;5;28;01mif\u001B[39;00m lap:\n\u001B[0;32m     15\u001B[0m         iou_count \u001B[38;5;241m+\u001B[39m\u001B[38;5;241m=\u001B[39m \u001B[38;5;241m1\u001B[39m\n",
      "Input \u001B[1;32mIn [24]\u001B[0m, in \u001B[0;36mwhether_overlap\u001B[1;34m(boxes)\u001B[0m\n\u001B[0;32m    190\u001B[0m \u001B[38;5;28;01mfor\u001B[39;00m i, box1 \u001B[38;5;129;01min\u001B[39;00m \u001B[38;5;28menumerate\u001B[39m(boxes):\n\u001B[0;32m    191\u001B[0m     \u001B[38;5;28;01mfor\u001B[39;00m j \u001B[38;5;129;01min\u001B[39;00m \u001B[38;5;28mrange\u001B[39m(i, \u001B[38;5;28mlen\u001B[39m(boxes)):\n\u001B[1;32m--> 192\u001B[0m         result[i, j] \u001B[38;5;241m=\u001B[39m result[j, i] \u001B[38;5;241m=\u001B[39m \u001B[43miou_3d\u001B[49m\u001B[43m(\u001B[49m\u001B[43mbox1\u001B[49m\u001B[43m,\u001B[49m\u001B[43m \u001B[49m\u001B[43mboxes\u001B[49m\u001B[43m[\u001B[49m\u001B[43mj\u001B[49m\u001B[43m]\u001B[49m\u001B[43m)\u001B[49m \u001B[38;5;241m>\u001B[39m (\u001B[38;5;241m0.95\u001B[39m, \u001B[38;5;241m0.95\u001B[39m, \u001B[38;5;241m0.95\u001B[39m)\n\u001B[0;32m    194\u001B[0m np\u001B[38;5;241m.\u001B[39mset_printoptions(suppress\u001B[38;5;241m=\u001B[39m\u001B[38;5;28;01mTrue\u001B[39;00m, precision\u001B[38;5;241m=\u001B[39m\u001B[38;5;241m3\u001B[39m)\n\u001B[0;32m    195\u001B[0m sum_r \u001B[38;5;241m=\u001B[39m np\u001B[38;5;241m.\u001B[39msum(result)\n",
      "Input \u001B[1;32mIn [24]\u001B[0m, in \u001B[0;36miou_3d\u001B[1;34m(boxes_a, boxes_b)\u001B[0m\n\u001B[0;32m    167\u001B[0m boxes_b_height_min \u001B[38;5;241m=\u001B[39m (boxes_b[\u001B[38;5;241m2\u001B[39m] \u001B[38;5;241m-\u001B[39m boxes_b[\u001B[38;5;241m5\u001B[39m] \u001B[38;5;241m/\u001B[39m \u001B[38;5;241m2\u001B[39m)\n\u001B[0;32m    169\u001B[0m \u001B[38;5;66;03m# bev overlap\u001B[39;00m\n\u001B[1;32m--> 170\u001B[0m overlaps_bev \u001B[38;5;241m=\u001B[39m \u001B[43mbox_overlap\u001B[49m\u001B[43m(\u001B[49m\u001B[43mboxes_a\u001B[49m\u001B[43m,\u001B[49m\u001B[43m \u001B[49m\u001B[43mboxes_b\u001B[49m\u001B[43m)\u001B[49m\n\u001B[0;32m    172\u001B[0m max_of_min \u001B[38;5;241m=\u001B[39m \u001B[38;5;28mmax\u001B[39m(boxes_a_height_min, boxes_b_height_min)\n\u001B[0;32m    173\u001B[0m min_of_max \u001B[38;5;241m=\u001B[39m \u001B[38;5;28mmin\u001B[39m(boxes_a_height_max, boxes_b_height_max)\n",
      "Input \u001B[1;32mIn [24]\u001B[0m, in \u001B[0;36mbox_overlap\u001B[1;34m(box_a, box_b)\u001B[0m\n\u001B[0;32m    120\u001B[0m         cnt \u001B[38;5;241m+\u001B[39m\u001B[38;5;241m=\u001B[39m \u001B[38;5;241m1\u001B[39m\n\u001B[0;32m    122\u001B[0m \u001B[38;5;28;01mif\u001B[39;00m cnt \u001B[38;5;241m<\u001B[39m \u001B[38;5;241m3\u001B[39m:\n\u001B[1;32m--> 123\u001B[0m     \u001B[38;5;28;01massert\u001B[39;00m cnt \u001B[38;5;241m==\u001B[39m \u001B[38;5;241m0\u001B[39m\n\u001B[0;32m    124\u001B[0m     \u001B[38;5;28;01mreturn\u001B[39;00m \u001B[38;5;241m0.0\u001B[39m\n\u001B[0;32m    126\u001B[0m poly_center \u001B[38;5;241m/\u001B[39m\u001B[38;5;241m=\u001B[39m cnt\n",
      "\u001B[1;31mAssertionError\u001B[0m: "
     ]
    }
   ],
   "source": [
    "# m被用上的模型框\n",
    "m = 0\n",
    "iou_count = 0\n",
    "for _, cur_row in diff_df.iterrows():\n",
    "    # 总标注结果：双层列表[[7元素], [7元素], ...]\n",
    "    total_list = cur_row['final_data']\n",
    "    # 模型结果：7元素列表\n",
    "    model_result = cur_row['model_result']\n",
    "\n",
    "    # 调用计算IOU的函数\n",
    "    for box1 in total_list:\n",
    "        boxes = [np.array(box1), np.array(model_result)]\n",
    "        lap = whether_overlap(boxes)\n",
    "        if lap:\n",
    "            iou_count += 1\n",
    "        else:\n",
    "            continue\n",
    "print(iou_count)"
   ]
  },
  {
   "cell_type": "code",
   "execution_count": 18,
   "id": "a6f88fbc-eccd-49ec-b61a-a7f3e976921b",
   "metadata": {},
   "outputs": [
    {
     "data": {
      "text/plain": "[-0.001, 23.083, 0.983, 2.782, 2.633, 4.133, -2.149]"
     },
     "execution_count": 18,
     "metadata": {},
     "output_type": "execute_result"
    }
   ],
   "source": [
    "model_result"
   ]
  },
  {
   "cell_type": "code",
   "execution_count": 23,
   "outputs": [
    {
     "data": {
      "text/plain": "(0.0, 0.0, 0.0)"
     },
     "execution_count": 23,
     "metadata": {},
     "output_type": "execute_result"
    }
   ],
   "source": [
    "iou_3d(np.array(box1), np.array(model_result))"
   ],
   "metadata": {
    "collapsed": false,
    "pycharm": {
     "name": "#%%\n"
    }
   }
  },
  {
   "cell_type": "code",
   "execution_count": 19,
   "id": "be054a70-8910-4a95-905b-15a036547461",
   "metadata": {},
   "outputs": [
    {
     "data": {
      "text/plain": "[28.713, 14.584, 0.214, 3.7, 2.068, 1.17, -2.672]"
     },
     "execution_count": 19,
     "metadata": {},
     "output_type": "execute_result"
    }
   ],
   "source": [
    "box1"
   ]
  },
  {
   "cell_type": "code",
   "execution_count": null,
   "id": "391103f9-6b9b-4ab7-ada8-6e341a405884",
   "metadata": {},
   "outputs": [],
   "source": []
  }
 ],
 "metadata": {
  "kernelspec": {
   "display_name": "Python 3 (ipykernel)",
   "language": "python",
   "name": "python3"
  },
  "language_info": {
   "codemirror_mode": {
    "name": "ipython",
    "version": 3
   },
   "file_extension": ".py",
   "mimetype": "text/x-python",
   "name": "python",
   "nbconvert_exporter": "python",
   "pygments_lexer": "ipython3",
   "version": "3.9.13"
  }
 },
 "nbformat": 4,
 "nbformat_minor": 5
}