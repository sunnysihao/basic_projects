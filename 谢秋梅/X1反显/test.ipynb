{
 "cells": [
  {
   "cell_type": "code",
   "execution_count": 1,
   "metadata": {
    "collapsed": true
   },
   "outputs": [],
   "source": [
    "import json\n",
    "import os\n",
    "from tqdm import tqdm\n",
    "import pandas as pd\n",
    "\n",
    "\n",
    "def load_json(json_path: str):\n",
    "    with open(json_path, 'r', encoding='utf-8') as f:\n",
    "        content = f.read()\n",
    "        json_content = json.loads(content)\n",
    "    return json_content\n",
    "\n",
    "\n",
    "def list_files(in_path: str):\n",
    "    file_list = []\n",
    "    for root, _, files in os.walk(in_path):\n",
    "        for file in files:\n",
    "            if os.path.splitext(file)[-1] == '.json':\n",
    "                file_list.append(os.path.join(root, file))\n",
    "    return file_list"
   ]
  },
  {
   "cell_type": "code",
   "execution_count": 3,
   "outputs": [],
   "source": [
    "jf = r\"C:\\Users\\EDY\\Downloads\\LiDAR Fusion Trial-20221209025421\\LiDAR Fusion Trial-20221209025421\\result\\09-540108.json\"\n",
    "jc = load_json(jf)[0]\n",
    "sf = r\"D:\\Desktop\\case-padaset-new-trial\\fx_test\\result\\09-540108.json\""
   ],
   "metadata": {
    "collapsed": false,
    "pycharm": {
     "name": "#%%\n"
    }
   }
  },
  {
   "cell_type": "code",
   "execution_count": 7,
   "outputs": [],
   "source": [
    "objects = []\n",
    "boxes = jc['objects']\n",
    "for box in boxes:\n",
    "    track_id = box['trackId']\n",
    "    track_name = box['trackName']\n",
    "    contour = box['contour']\n",
    "    pointN = contour['pointN']\n",
    "    size = contour['size3D']\n",
    "    center = contour['center3D']\n",
    "    rotation = contour['rotation3D']\n",
    "    model_class = box['modelClass']\n",
    "\n",
    "    obj = {\n",
    "        \"type\": \"3D_BOX\",  # 2D_BOX 2D_RECT\n",
    "        \"trackId\": track_id,\n",
    "        \"trackName\": track_name,\n",
    "        \"classValues\": [],\n",
    "        \"contour\": {\n",
    "            \"points\": [],\n",
    "            \"pointN\": pointN,\n",
    "            \"size3D\": size,\n",
    "            \"center3D\": center,\n",
    "            \"rotation3D\": rotation\n",
    "        },\n",
    "        \"modelClass\": model_class\n",
    "\n",
    "    }\n",
    "    objects.append(obj)\n",
    "result_json = {\n",
    "    \"version\": \"1.0\",\n",
    "    \"sourceType\": \"EXTERNAL_GROUND_TRUTH \",\n",
    "    \"objects\": objects\n",
    "}\n",
    "with open(sf, 'w', encoding='utf-8') as f:\n",
    "    json.dump(result_json, f, ensure_ascii=False)"
   ],
   "metadata": {
    "collapsed": false,
    "pycharm": {
     "name": "#%%\n"
    }
   }
  },
  {
   "cell_type": "code",
   "execution_count": null,
   "outputs": [],
   "source": [],
   "metadata": {
    "collapsed": false,
    "pycharm": {
     "name": "#%%\n"
    }
   }
  }
 ],
 "metadata": {
  "kernelspec": {
   "display_name": "Python 3",
   "language": "python",
   "name": "python3"
  },
  "language_info": {
   "codemirror_mode": {
    "name": "ipython",
    "version": 2
   },
   "file_extension": ".py",
   "mimetype": "text/x-python",
   "name": "python",
   "nbconvert_exporter": "python",
   "pygments_lexer": "ipython2",
   "version": "2.7.6"
  }
 },
 "nbformat": 4,
 "nbformat_minor": 0
}