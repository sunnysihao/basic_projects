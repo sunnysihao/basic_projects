{
 "cells": [
  {
   "cell_type": "code",
   "execution_count": 19,
   "metadata": {
    "collapsed": true
   },
   "outputs": [],
   "source": [
    "import pandas as pd\n",
    "import json"
   ]
  },
  {
   "cell_type": "code",
   "execution_count": 6,
   "outputs": [
    {
     "ename": "KeyError",
     "evalue": "('dataset_id', 'attributes')",
     "output_type": "error",
     "traceback": [
      "\u001B[1;31m---------------------------------------------------------------------------\u001B[0m",
      "\u001B[1;31mKeyError\u001B[0m                                  Traceback (most recent call last)",
      "File \u001B[1;32m~\\AppData\\Local\\Programs\\Python\\Python39\\lib\\site-packages\\pandas\\core\\indexes\\base.py:3621\u001B[0m, in \u001B[0;36mIndex.get_loc\u001B[1;34m(self, key, method, tolerance)\u001B[0m\n\u001B[0;32m   3620\u001B[0m \u001B[38;5;28;01mtry\u001B[39;00m:\n\u001B[1;32m-> 3621\u001B[0m     \u001B[38;5;28;01mreturn\u001B[39;00m \u001B[38;5;28;43mself\u001B[39;49m\u001B[38;5;241;43m.\u001B[39;49m\u001B[43m_engine\u001B[49m\u001B[38;5;241;43m.\u001B[39;49m\u001B[43mget_loc\u001B[49m\u001B[43m(\u001B[49m\u001B[43mcasted_key\u001B[49m\u001B[43m)\u001B[49m\n\u001B[0;32m   3622\u001B[0m \u001B[38;5;28;01mexcept\u001B[39;00m \u001B[38;5;167;01mKeyError\u001B[39;00m \u001B[38;5;28;01mas\u001B[39;00m err:\n",
      "File \u001B[1;32m~\\AppData\\Local\\Programs\\Python\\Python39\\lib\\site-packages\\pandas\\_libs\\index.pyx:136\u001B[0m, in \u001B[0;36mpandas._libs.index.IndexEngine.get_loc\u001B[1;34m()\u001B[0m\n",
      "File \u001B[1;32m~\\AppData\\Local\\Programs\\Python\\Python39\\lib\\site-packages\\pandas\\_libs\\index.pyx:163\u001B[0m, in \u001B[0;36mpandas._libs.index.IndexEngine.get_loc\u001B[1;34m()\u001B[0m\n",
      "File \u001B[1;32mpandas\\_libs\\hashtable_class_helper.pxi:5198\u001B[0m, in \u001B[0;36mpandas._libs.hashtable.PyObjectHashTable.get_item\u001B[1;34m()\u001B[0m\n",
      "File \u001B[1;32mpandas\\_libs\\hashtable_class_helper.pxi:5206\u001B[0m, in \u001B[0;36mpandas._libs.hashtable.PyObjectHashTable.get_item\u001B[1;34m()\u001B[0m\n",
      "\u001B[1;31mKeyError\u001B[0m: ('dataset_id', 'attributes')",
      "\nThe above exception was the direct cause of the following exception:\n",
      "\u001B[1;31mKeyError\u001B[0m                                  Traceback (most recent call last)",
      "Input \u001B[1;32mIn [6]\u001B[0m, in \u001B[0;36m<cell line: 2>\u001B[1;34m()\u001B[0m\n\u001B[0;32m      1\u001B[0m csv \u001B[38;5;241m=\u001B[39m \u001B[38;5;124mr\u001B[39m\u001B[38;5;124m\"\u001B[39m\u001B[38;5;124mD:\u001B[39m\u001B[38;5;124m\\\u001B[39m\u001B[38;5;124mDesktop\u001B[39m\u001B[38;5;124m\\\u001B[39m\u001B[38;5;124mbasic_projects\u001B[39m\u001B[38;5;124m\\\u001B[39m\u001B[38;5;124m韩国\u001B[39m\u001B[38;5;124m\\\u001B[39m\u001B[38;5;124mdataset_class.csv\u001B[39m\u001B[38;5;124m\"\u001B[39m\n\u001B[1;32m----> 2\u001B[0m df \u001B[38;5;241m=\u001B[39m \u001B[43mpd\u001B[49m\u001B[38;5;241;43m.\u001B[39;49m\u001B[43mread_csv\u001B[49m\u001B[43m(\u001B[49m\u001B[43mcsv\u001B[49m\u001B[43m)\u001B[49m\u001B[43m[\u001B[49m\u001B[38;5;124;43m'\u001B[39;49m\u001B[38;5;124;43mdataset_id\u001B[39;49m\u001B[38;5;124;43m'\u001B[39;49m\u001B[43m,\u001B[49m\u001B[43m \u001B[49m\u001B[38;5;124;43m'\u001B[39;49m\u001B[38;5;124;43mattributes\u001B[39;49m\u001B[38;5;124;43m'\u001B[39;49m\u001B[43m]\u001B[49m\n",
      "File \u001B[1;32m~\\AppData\\Local\\Programs\\Python\\Python39\\lib\\site-packages\\pandas\\core\\frame.py:3505\u001B[0m, in \u001B[0;36mDataFrame.__getitem__\u001B[1;34m(self, key)\u001B[0m\n\u001B[0;32m   3503\u001B[0m \u001B[38;5;28;01mif\u001B[39;00m \u001B[38;5;28mself\u001B[39m\u001B[38;5;241m.\u001B[39mcolumns\u001B[38;5;241m.\u001B[39mnlevels \u001B[38;5;241m>\u001B[39m \u001B[38;5;241m1\u001B[39m:\n\u001B[0;32m   3504\u001B[0m     \u001B[38;5;28;01mreturn\u001B[39;00m \u001B[38;5;28mself\u001B[39m\u001B[38;5;241m.\u001B[39m_getitem_multilevel(key)\n\u001B[1;32m-> 3505\u001B[0m indexer \u001B[38;5;241m=\u001B[39m \u001B[38;5;28;43mself\u001B[39;49m\u001B[38;5;241;43m.\u001B[39;49m\u001B[43mcolumns\u001B[49m\u001B[38;5;241;43m.\u001B[39;49m\u001B[43mget_loc\u001B[49m\u001B[43m(\u001B[49m\u001B[43mkey\u001B[49m\u001B[43m)\u001B[49m\n\u001B[0;32m   3506\u001B[0m \u001B[38;5;28;01mif\u001B[39;00m is_integer(indexer):\n\u001B[0;32m   3507\u001B[0m     indexer \u001B[38;5;241m=\u001B[39m [indexer]\n",
      "File \u001B[1;32m~\\AppData\\Local\\Programs\\Python\\Python39\\lib\\site-packages\\pandas\\core\\indexes\\base.py:3623\u001B[0m, in \u001B[0;36mIndex.get_loc\u001B[1;34m(self, key, method, tolerance)\u001B[0m\n\u001B[0;32m   3621\u001B[0m     \u001B[38;5;28;01mreturn\u001B[39;00m \u001B[38;5;28mself\u001B[39m\u001B[38;5;241m.\u001B[39m_engine\u001B[38;5;241m.\u001B[39mget_loc(casted_key)\n\u001B[0;32m   3622\u001B[0m \u001B[38;5;28;01mexcept\u001B[39;00m \u001B[38;5;167;01mKeyError\u001B[39;00m \u001B[38;5;28;01mas\u001B[39;00m err:\n\u001B[1;32m-> 3623\u001B[0m     \u001B[38;5;28;01mraise\u001B[39;00m \u001B[38;5;167;01mKeyError\u001B[39;00m(key) \u001B[38;5;28;01mfrom\u001B[39;00m \u001B[38;5;21;01merr\u001B[39;00m\n\u001B[0;32m   3624\u001B[0m \u001B[38;5;28;01mexcept\u001B[39;00m \u001B[38;5;167;01mTypeError\u001B[39;00m:\n\u001B[0;32m   3625\u001B[0m     \u001B[38;5;66;03m# If we have a listlike key, _check_indexing_error will raise\u001B[39;00m\n\u001B[0;32m   3626\u001B[0m     \u001B[38;5;66;03m#  InvalidIndexError. Otherwise we fall through and re-raise\u001B[39;00m\n\u001B[0;32m   3627\u001B[0m     \u001B[38;5;66;03m#  the TypeError.\u001B[39;00m\n\u001B[0;32m   3628\u001B[0m     \u001B[38;5;28mself\u001B[39m\u001B[38;5;241m.\u001B[39m_check_indexing_error(key)\n",
      "\u001B[1;31mKeyError\u001B[0m: ('dataset_id', 'attributes')"
     ]
    }
   ],
   "source": [
    "csv = r\"D:\\Desktop\\basic_projects\\韩国\\dataset_class.csv\"\n",
    "df = pd.read_csv(csv)"
   ],
   "metadata": {
    "collapsed": false,
    "pycharm": {
     "name": "#%%\n"
    }
   }
  },
  {
   "cell_type": "code",
   "execution_count": 3,
   "outputs": [
    {
     "data": {
      "text/plain": "            id   team_id  dataset_id             name    color     tool_type  \\\n0       201112   90004.0       90004              Car  #8177f5  BOUNDING_BOX   \n1       201113   90007.0       90005              car  #7dfaf2        CUBOID   \n2       201114  120003.0       90008           class1  #f87d7d        CUBOID   \n3       201115  120004.0       90011              Car  #7dfaf2        CUBOID   \n4       201116  120004.0       90011           Person  #7ff0b3        CUBOID   \n...        ...       ...         ...              ...      ...           ...   \n27040  1221425   90341.0     1080202  culture_product  #f87d7d       POLYGON   \n27041  1221426   90341.0     1110210  culture_product  #f87d7d       POLYGON   \n27042  1221427  120277.0     1080203  culture produce  #7dfaf2       POLYGON   \n27043  1221428  120277.0     1110214  culture produce  #7dfaf2       POLYGON   \n27044  1221429  120277.0     1110217  culture produce  #7dfaf2       POLYGON   \n\n                                       tool_type_options  \\\n0      {\"defaultHeight\": \"\", \"isConstraints\": false, ...   \n1      {\"defaultHeight\": \"\", \"isConstraints\": false, ...   \n2      {\"height\": [null, null], \"isConstraints\": fals...   \n3      {\"defaultHeight\": \"\", \"isConstraints\": false, ...   \n4      {\"defaultHeight\": \"\", \"isConstraints\": false, ...   \n...                                                  ...   \n27040  {\"imageArea\": [null, null], \"imageLength\": [nu...   \n27041  {\"imageArea\": [null, null], \"imageLength\": [nu...   \n27042  {\"imageArea\": [null, null], \"imageLength\": [nu...   \n27043  {\"imageArea\": [null, null], \"imageLength\": [nu...   \n27044  {\"imageArea\": [null, null], \"imageLength\": [nu...   \n\n                                              attributes  is_deleted  \\\n0      [{\"id\": \"31eb5de9-063b-4ddf-9426-a2a4d1c8fa78\"...           0   \n1                                                     []           0   \n2      [{\"id\": \"00a93372-3711-4d1b-99df-3b9f4f5e22fe\"...           0   \n3      [{\"id\": \"1e31046b-bb01-4564-9c98-bf5f501ed3b5\"...           0   \n4      [{\"id\": \"2a8c468f-ae05-495e-87df-487c185d6363\"...           0   \n...                                                  ...         ...   \n27040                                                 []           0   \n27041                                                 []           0   \n27042                                                 []           0   \n27043                                                 []           0   \n27044                                                 []           0   \n\n                created_at  created_by updated_at  updated_by  \n0      2022-06-17 01:31:06       90004        NaN         NaN  \n1      2022-06-17 01:40:33       90007        NaN         NaN  \n2      2022-06-17 02:08:43      120003        NaN         NaN  \n3      2022-06-17 03:54:29      120004        NaN         NaN  \n4      2022-06-17 03:56:11      120004        NaN         NaN  \n...                    ...         ...        ...         ...  \n27040  2022-12-09 05:54:52      150021        NaN         NaN  \n27041  2022-12-09 06:03:37      150021        NaN         NaN  \n27042  2022-12-09 06:08:50      120278        NaN         NaN  \n27043  2022-12-09 06:15:40      120278        NaN         NaN  \n27044  2022-12-09 06:19:03      120278        NaN         NaN  \n\n[27045 rows x 13 columns]",
      "text/html": "<div>\n<style scoped>\n    .dataframe tbody tr th:only-of-type {\n        vertical-align: middle;\n    }\n\n    .dataframe tbody tr th {\n        vertical-align: top;\n    }\n\n    .dataframe thead th {\n        text-align: right;\n    }\n</style>\n<table border=\"1\" class=\"dataframe\">\n  <thead>\n    <tr style=\"text-align: right;\">\n      <th></th>\n      <th>id</th>\n      <th>team_id</th>\n      <th>dataset_id</th>\n      <th>name</th>\n      <th>color</th>\n      <th>tool_type</th>\n      <th>tool_type_options</th>\n      <th>attributes</th>\n      <th>is_deleted</th>\n      <th>created_at</th>\n      <th>created_by</th>\n      <th>updated_at</th>\n      <th>updated_by</th>\n    </tr>\n  </thead>\n  <tbody>\n    <tr>\n      <th>0</th>\n      <td>201112</td>\n      <td>90004.0</td>\n      <td>90004</td>\n      <td>Car</td>\n      <td>#8177f5</td>\n      <td>BOUNDING_BOX</td>\n      <td>{\"defaultHeight\": \"\", \"isConstraints\": false, ...</td>\n      <td>[{\"id\": \"31eb5de9-063b-4ddf-9426-a2a4d1c8fa78\"...</td>\n      <td>0</td>\n      <td>2022-06-17 01:31:06</td>\n      <td>90004</td>\n      <td>NaN</td>\n      <td>NaN</td>\n    </tr>\n    <tr>\n      <th>1</th>\n      <td>201113</td>\n      <td>90007.0</td>\n      <td>90005</td>\n      <td>car</td>\n      <td>#7dfaf2</td>\n      <td>CUBOID</td>\n      <td>{\"defaultHeight\": \"\", \"isConstraints\": false, ...</td>\n      <td>[]</td>\n      <td>0</td>\n      <td>2022-06-17 01:40:33</td>\n      <td>90007</td>\n      <td>NaN</td>\n      <td>NaN</td>\n    </tr>\n    <tr>\n      <th>2</th>\n      <td>201114</td>\n      <td>120003.0</td>\n      <td>90008</td>\n      <td>class1</td>\n      <td>#f87d7d</td>\n      <td>CUBOID</td>\n      <td>{\"height\": [null, null], \"isConstraints\": fals...</td>\n      <td>[{\"id\": \"00a93372-3711-4d1b-99df-3b9f4f5e22fe\"...</td>\n      <td>0</td>\n      <td>2022-06-17 02:08:43</td>\n      <td>120003</td>\n      <td>NaN</td>\n      <td>NaN</td>\n    </tr>\n    <tr>\n      <th>3</th>\n      <td>201115</td>\n      <td>120004.0</td>\n      <td>90011</td>\n      <td>Car</td>\n      <td>#7dfaf2</td>\n      <td>CUBOID</td>\n      <td>{\"defaultHeight\": \"\", \"isConstraints\": false, ...</td>\n      <td>[{\"id\": \"1e31046b-bb01-4564-9c98-bf5f501ed3b5\"...</td>\n      <td>0</td>\n      <td>2022-06-17 03:54:29</td>\n      <td>120004</td>\n      <td>NaN</td>\n      <td>NaN</td>\n    </tr>\n    <tr>\n      <th>4</th>\n      <td>201116</td>\n      <td>120004.0</td>\n      <td>90011</td>\n      <td>Person</td>\n      <td>#7ff0b3</td>\n      <td>CUBOID</td>\n      <td>{\"defaultHeight\": \"\", \"isConstraints\": false, ...</td>\n      <td>[{\"id\": \"2a8c468f-ae05-495e-87df-487c185d6363\"...</td>\n      <td>0</td>\n      <td>2022-06-17 03:56:11</td>\n      <td>120004</td>\n      <td>NaN</td>\n      <td>NaN</td>\n    </tr>\n    <tr>\n      <th>...</th>\n      <td>...</td>\n      <td>...</td>\n      <td>...</td>\n      <td>...</td>\n      <td>...</td>\n      <td>...</td>\n      <td>...</td>\n      <td>...</td>\n      <td>...</td>\n      <td>...</td>\n      <td>...</td>\n      <td>...</td>\n      <td>...</td>\n    </tr>\n    <tr>\n      <th>27040</th>\n      <td>1221425</td>\n      <td>90341.0</td>\n      <td>1080202</td>\n      <td>culture_product</td>\n      <td>#f87d7d</td>\n      <td>POLYGON</td>\n      <td>{\"imageArea\": [null, null], \"imageLength\": [nu...</td>\n      <td>[]</td>\n      <td>0</td>\n      <td>2022-12-09 05:54:52</td>\n      <td>150021</td>\n      <td>NaN</td>\n      <td>NaN</td>\n    </tr>\n    <tr>\n      <th>27041</th>\n      <td>1221426</td>\n      <td>90341.0</td>\n      <td>1110210</td>\n      <td>culture_product</td>\n      <td>#f87d7d</td>\n      <td>POLYGON</td>\n      <td>{\"imageArea\": [null, null], \"imageLength\": [nu...</td>\n      <td>[]</td>\n      <td>0</td>\n      <td>2022-12-09 06:03:37</td>\n      <td>150021</td>\n      <td>NaN</td>\n      <td>NaN</td>\n    </tr>\n    <tr>\n      <th>27042</th>\n      <td>1221427</td>\n      <td>120277.0</td>\n      <td>1080203</td>\n      <td>culture produce</td>\n      <td>#7dfaf2</td>\n      <td>POLYGON</td>\n      <td>{\"imageArea\": [null, null], \"imageLength\": [nu...</td>\n      <td>[]</td>\n      <td>0</td>\n      <td>2022-12-09 06:08:50</td>\n      <td>120278</td>\n      <td>NaN</td>\n      <td>NaN</td>\n    </tr>\n    <tr>\n      <th>27043</th>\n      <td>1221428</td>\n      <td>120277.0</td>\n      <td>1110214</td>\n      <td>culture produce</td>\n      <td>#7dfaf2</td>\n      <td>POLYGON</td>\n      <td>{\"imageArea\": [null, null], \"imageLength\": [nu...</td>\n      <td>[]</td>\n      <td>0</td>\n      <td>2022-12-09 06:15:40</td>\n      <td>120278</td>\n      <td>NaN</td>\n      <td>NaN</td>\n    </tr>\n    <tr>\n      <th>27044</th>\n      <td>1221429</td>\n      <td>120277.0</td>\n      <td>1110217</td>\n      <td>culture produce</td>\n      <td>#7dfaf2</td>\n      <td>POLYGON</td>\n      <td>{\"imageArea\": [null, null], \"imageLength\": [nu...</td>\n      <td>[]</td>\n      <td>0</td>\n      <td>2022-12-09 06:19:03</td>\n      <td>120278</td>\n      <td>NaN</td>\n      <td>NaN</td>\n    </tr>\n  </tbody>\n</table>\n<p>27045 rows × 13 columns</p>\n</div>"
     },
     "execution_count": 3,
     "metadata": {},
     "output_type": "execute_result"
    }
   ],
   "source": [
    "df"
   ],
   "metadata": {
    "collapsed": false,
    "pycharm": {
     "name": "#%%\n"
    }
   }
  },
  {
   "cell_type": "code",
   "execution_count": 32,
   "outputs": [
    {
     "data": {
      "text/plain": "         id  team_id  dataset_id   name    color tool_type  \\\n261  201385  90104.0      120186    Car  #f39c12    CUBOID   \n262  201386  90104.0      120186    Van  #2ecc71    CUBOID   \n263  201387  90104.0      120186  Truck  #d1ccc0    CUBOID   \n\n                                     tool_type_options  \\\n261  {\"height\": [null, null], \"isConstraints\": fals...   \n262  {\"defaultHeight\": \"\", \"isConstraints\": false, ...   \n263  {\"defaultHeight\": \"\", \"isConstraints\": false, ...   \n\n                                            attributes  is_deleted  \\\n261  [{\"id\": \"f359e99e-d98b-4306-8639-22a65ed2eab0\"...           0   \n262  [{\"id\": \"dcd302ef-2b88-492b-954f-88406067caa0\"...           0   \n263  [{\"id\": \"9c83bdc1-8014-490a-a4f0-65e798783529\"...           0   \n\n              created_at  created_by updated_at  updated_by  \n261  2022-09-20 01:55:44       90102        NaN         NaN  \n262  2022-09-20 01:55:44       90102        NaN         NaN  \n263  2022-09-20 01:55:44       90102        NaN         NaN  ",
      "text/html": "<div>\n<style scoped>\n    .dataframe tbody tr th:only-of-type {\n        vertical-align: middle;\n    }\n\n    .dataframe tbody tr th {\n        vertical-align: top;\n    }\n\n    .dataframe thead th {\n        text-align: right;\n    }\n</style>\n<table border=\"1\" class=\"dataframe\">\n  <thead>\n    <tr style=\"text-align: right;\">\n      <th></th>\n      <th>id</th>\n      <th>team_id</th>\n      <th>dataset_id</th>\n      <th>name</th>\n      <th>color</th>\n      <th>tool_type</th>\n      <th>tool_type_options</th>\n      <th>attributes</th>\n      <th>is_deleted</th>\n      <th>created_at</th>\n      <th>created_by</th>\n      <th>updated_at</th>\n      <th>updated_by</th>\n    </tr>\n  </thead>\n  <tbody>\n    <tr>\n      <th>261</th>\n      <td>201385</td>\n      <td>90104.0</td>\n      <td>120186</td>\n      <td>Car</td>\n      <td>#f39c12</td>\n      <td>CUBOID</td>\n      <td>{\"height\": [null, null], \"isConstraints\": fals...</td>\n      <td>[{\"id\": \"f359e99e-d98b-4306-8639-22a65ed2eab0\"...</td>\n      <td>0</td>\n      <td>2022-09-20 01:55:44</td>\n      <td>90102</td>\n      <td>NaN</td>\n      <td>NaN</td>\n    </tr>\n    <tr>\n      <th>262</th>\n      <td>201386</td>\n      <td>90104.0</td>\n      <td>120186</td>\n      <td>Van</td>\n      <td>#2ecc71</td>\n      <td>CUBOID</td>\n      <td>{\"defaultHeight\": \"\", \"isConstraints\": false, ...</td>\n      <td>[{\"id\": \"dcd302ef-2b88-492b-954f-88406067caa0\"...</td>\n      <td>0</td>\n      <td>2022-09-20 01:55:44</td>\n      <td>90102</td>\n      <td>NaN</td>\n      <td>NaN</td>\n    </tr>\n    <tr>\n      <th>263</th>\n      <td>201387</td>\n      <td>90104.0</td>\n      <td>120186</td>\n      <td>Truck</td>\n      <td>#d1ccc0</td>\n      <td>CUBOID</td>\n      <td>{\"defaultHeight\": \"\", \"isConstraints\": false, ...</td>\n      <td>[{\"id\": \"9c83bdc1-8014-490a-a4f0-65e798783529\"...</td>\n      <td>0</td>\n      <td>2022-09-20 01:55:44</td>\n      <td>90102</td>\n      <td>NaN</td>\n      <td>NaN</td>\n    </tr>\n  </tbody>\n</table>\n</div>"
     },
     "execution_count": 32,
     "metadata": {},
     "output_type": "execute_result"
    }
   ],
   "source": [
    "c = df[(df['dataset_id'] == 120186)]\n",
    "c"
   ],
   "metadata": {
    "collapsed": false,
    "pycharm": {
     "name": "#%%\n"
    }
   }
  },
  {
   "cell_type": "code",
   "execution_count": 35,
   "outputs": [
    {
     "data": {
      "text/plain": "'[{\"id\": \"f359e99e-d98b-4306-8639-22a65ed2eab0\", \"name\": \"Occlusion\", \"options\": [{\"attributes\": [], \"id\": \"5a302fb9-e3ba-495f-9831-b3898294d554\", \"name\": \"Yes\"}, {\"attributes\": [], \"id\": \"b3b384fa-1620-4fa4-bd47-b0e82238b7bb\", \"name\": \"No\"}], \"required\": false, \"type\": \"RADIO\"}, {\"id\": \"64b4b2ad-c83f-4f7f-98bc-8627c0bd2cbe\", \"name\": \"Confidence\", \"options\": [{\"attributes\": [], \"id\": \"c7191eb9-693e-4194-a848-81b989694fae\", \"name\": \"High\"}, {\"attributes\": [], \"id\": \"fac24de0-034e-4c1a-a7bb-fcf94d2bc2fe\", \"name\": \"Medium\"}, {\"attributes\": [], \"id\": \"c5fcc2da-6459-4ccb-8e42-9a7d68c81f2d\", \"name\": \"Low\"}], \"required\": false, \"type\": \"RADIO\"}]'"
     },
     "execution_count": 35,
     "metadata": {},
     "output_type": "execute_result"
    }
   ],
   "source": [
    "d = c.iloc[0]['attributes']\n",
    "d"
   ],
   "metadata": {
    "collapsed": false,
    "pycharm": {
     "name": "#%%\n"
    }
   }
  },
  {
   "cell_type": "code",
   "execution_count": 17,
   "outputs": [
    {
     "data": {
      "text/plain": "'[{\"id\": \"31eb5de9-063b-4ddf-9426-a2a4d1c8fa78\", \"name\": \"是否遮挡？\", \"options\": [{\"attributes\": [{\"id\": \"c027317f-844e-4260-9ba0-a949ee3af9b2\", \"name\": \"遮挡比例？\", \"options\": [{\"attributes\": [], \"id\": \"d0bdae04-48f8-4d9b-af56-55f98d13c341\", \"name\": \"10% ~ 30%\"}, {\"attributes\": [], \"id\": \"d6841f98-48f0-4a77-a3d2-2557e069f4a6\", \"name\": \"40% ~ 60%\"}, {\"attributes\": [], \"id\": \"3be37852-64e2-4912-b81f-da8b48bb2a1b\", \"name\": \"60% ~ 90%\"}], \"required\": true, \"type\": \"RADIO\"}], \"id\": \"9f3f578d-0412-4c32-92d2-a29a535129ec\", \"name\": \"是\"}, {\"attributes\": [], \"id\": \"4e9e38a8-4c3a-48eb-bb17-53713255c961\", \"name\": \"否\"}], \"required\": true, \"type\": \"RADIO\"}]'"
     },
     "execution_count": 17,
     "metadata": {},
     "output_type": "execute_result"
    }
   ],
   "source": [
    "a = df.iloc[0]['attributes']\n",
    "a"
   ],
   "metadata": {
    "collapsed": false,
    "pycharm": {
     "name": "#%%\n"
    }
   }
  },
  {
   "cell_type": "code",
   "execution_count": 37,
   "outputs": [
    {
     "data": {
      "text/plain": "[{'id': 'f359e99e-d98b-4306-8639-22a65ed2eab0',\n  'name': 'Occlusion',\n  'options': [{'attributes': [],\n    'id': '5a302fb9-e3ba-495f-9831-b3898294d554',\n    'name': 'Yes'},\n   {'attributes': [],\n    'id': 'b3b384fa-1620-4fa4-bd47-b0e82238b7bb',\n    'name': 'No'}],\n  'required': False,\n  'type': 'RADIO'},\n {'id': '64b4b2ad-c83f-4f7f-98bc-8627c0bd2cbe',\n  'name': 'Confidence',\n  'options': [{'attributes': [],\n    'id': 'c7191eb9-693e-4194-a848-81b989694fae',\n    'name': 'High'},\n   {'attributes': [],\n    'id': 'fac24de0-034e-4c1a-a7bb-fcf94d2bc2fe',\n    'name': 'Medium'},\n   {'attributes': [],\n    'id': 'c5fcc2da-6459-4ccb-8e42-9a7d68c81f2d',\n    'name': 'Low'}],\n  'required': False,\n  'type': 'RADIO'}]"
     },
     "execution_count": 37,
     "metadata": {},
     "output_type": "execute_result"
    }
   ],
   "source": [
    "b = json.loads(d)\n",
    "b"
   ],
   "metadata": {
    "collapsed": false,
    "pycharm": {
     "name": "#%%\n"
    }
   }
  },
  {
   "cell_type": "code",
   "execution_count": 25,
   "outputs": [
    {
     "data": {
      "text/plain": "[{'attributes': [{'id': 'c027317f-844e-4260-9ba0-a949ee3af9b2',\n    'name': '遮挡比例？',\n    'options': [{'attributes': [],\n      'id': 'd0bdae04-48f8-4d9b-af56-55f98d13c341',\n      'name': '10% ~ 30%'},\n     {'attributes': [],\n      'id': 'd6841f98-48f0-4a77-a3d2-2557e069f4a6',\n      'name': '40% ~ 60%'},\n     {'attributes': [],\n      'id': '3be37852-64e2-4912-b81f-da8b48bb2a1b',\n      'name': '60% ~ 90%'}],\n    'required': True,\n    'type': 'RADIO'}],\n  'id': '9f3f578d-0412-4c32-92d2-a29a535129ec',\n  'name': '是'},\n {'attributes': [], 'id': '4e9e38a8-4c3a-48eb-bb17-53713255c961', 'name': '否'}]"
     },
     "execution_count": 25,
     "metadata": {},
     "output_type": "execute_result"
    }
   ],
   "source": [
    "b['options']"
   ],
   "metadata": {
    "collapsed": false,
    "pycharm": {
     "name": "#%%\n"
    }
   }
  },
  {
   "cell_type": "code",
   "execution_count": null,
   "outputs": [],
   "source": [],
   "metadata": {
    "collapsed": false,
    "pycharm": {
     "name": "#%%\n"
    }
   }
  }
 ],
 "metadata": {
  "kernelspec": {
   "display_name": "Python 3",
   "language": "python",
   "name": "python3"
  },
  "language_info": {
   "codemirror_mode": {
    "name": "ipython",
    "version": 2
   },
   "file_extension": ".py",
   "mimetype": "text/x-python",
   "name": "python",
   "nbconvert_exporter": "python",
   "pygments_lexer": "ipython2",
   "version": "2.7.6"
  }
 },
 "nbformat": 4,
 "nbformat_minor": 0
}