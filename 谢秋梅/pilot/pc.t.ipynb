{
 "cells": [
  {
   "cell_type": "code",
   "execution_count": 1,
   "metadata": {
    "collapsed": true
   },
   "outputs": [],
   "source": [
    "import json\n",
    "import numpy as np\n",
    "def load_json(json_file: str):\n",
    "    with open(json_file, 'r', encoding='utf-8') as f:\n",
    "        content = f.read()\n",
    "        json_content = json.loads(content)\n",
    "    return json_content"
   ]
  },
  {
   "cell_type": "code",
   "execution_count": 7,
   "outputs": [],
   "source": [
    "def save_pcd(pc: np.ndarray, file, binary=False):\n",
    "    pc = pc.astype(np.float32)\n",
    "    num_points = len(pc)\n",
    "\n",
    "    with open(file, 'wb' if binary else 'w') as f:\n",
    "        # heads\n",
    "        headers = [\n",
    "            '# .PCD v0.7 - Point Cloud Data file format',\n",
    "            'VERSION 0.7',\n",
    "            'FIELDS x y z rgb',\n",
    "            'SIZE 4 4 4 4',\n",
    "            'TYPE F F F U',\n",
    "            'COUNT 1 1 1 1',\n",
    "            f'WIDTH {num_points}',\n",
    "            'HEIGHT 1',\n",
    "            'VIEWPOINT 0 0 0 1 0 0 0',\n",
    "            f'POINTS {num_points}',\n",
    "            f'DATA {\"binary\" if binary else \"ascii\"}'\n",
    "        ]\n",
    "        header = '\\n'.join(headers) + '\\n'\n",
    "        if binary:\n",
    "            header = bytes(header, 'ascii')\n",
    "        f.write(header)\n",
    "\n",
    "        # points\n",
    "        if binary:\n",
    "            f.write(pc.tobytes())\n",
    "        else:\n",
    "            for i in range(num_points):\n",
    "                x, y, z, i = pc[i]\n",
    "                f.write(f\"{x:.3f} {y:.3f} {z:.3f} {i}\\n\")"
   ],
   "metadata": {
    "collapsed": false,
    "pycharm": {
     "name": "#%%\n"
    }
   }
  },
  {
   "cell_type": "code",
   "execution_count": 2,
   "outputs": [],
   "source": [
    "json_f = r\"C:\\Users\\EDY\\Downloads\\reconstructed_map.json\"\n",
    "jc = load_json(json_f)"
   ],
   "metadata": {
    "collapsed": false,
    "pycharm": {
     "name": "#%%\n"
    }
   }
  },
  {
   "cell_type": "code",
   "execution_count": 5,
   "outputs": [],
   "source": [
    "js = jc['points']"
   ],
   "metadata": {
    "collapsed": false,
    "pycharm": {
     "name": "#%%\n"
    }
   }
  },
  {
   "cell_type": "code",
   "execution_count": 8,
   "outputs": [],
   "source": [
    "pcd_file = r\"C:\\Users\\EDY\\Downloads\\reconstructed_map2.pcd\"\n",
    "x = []\n",
    "y = []\n",
    "z = []\n",
    "rgb_l = []\n",
    "for obj in js:\n",
    "    x.append(float(obj['x']))\n",
    "    y.append(float(obj['y']))\n",
    "    z.append(float(obj['z']))\n",
    "    r = int(obj['r'])\n",
    "    g = int(obj['g'])\n",
    "    b = int(obj['b'])\n",
    "    rgb = int((r << 16) + (g << 8) + b)\n",
    "    rgb_l.append(rgb)\n",
    "\n",
    "x = np.array(x, dtype=np.float32)\n",
    "y = np.array(y, dtype=np.float32)\n",
    "z = np.array(z, dtype=np.float32)\n",
    "rgb_l = np.array(rgb_l, dtype=np.uint32)\n",
    "points = np.stack([x, y, z, rgb_l], axis=1)\n",
    "save_pcd(points, pcd_file)"
   ],
   "metadata": {
    "collapsed": false,
    "pycharm": {
     "name": "#%%\n"
    }
   }
  },
  {
   "cell_type": "code",
   "execution_count": null,
   "outputs": [],
   "source": [],
   "metadata": {
    "collapsed": false,
    "pycharm": {
     "name": "#%%\n"
    }
   }
  }
 ],
 "metadata": {
  "kernelspec": {
   "display_name": "Python 3",
   "language": "python",
   "name": "python3"
  },
  "language_info": {
   "codemirror_mode": {
    "name": "ipython",
    "version": 2
   },
   "file_extension": ".py",
   "mimetype": "text/x-python",
   "name": "python",
   "nbconvert_exporter": "python",
   "pygments_lexer": "ipython2",
   "version": "2.7.6"
  }
 },
 "nbformat": 4,
 "nbformat_minor": 0
}