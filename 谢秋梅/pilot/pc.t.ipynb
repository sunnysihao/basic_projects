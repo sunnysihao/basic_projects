{
 "cells": [
  {
   "cell_type": "code",
   "execution_count": 4,
   "metadata": {
    "collapsed": true
   },
   "outputs": [],
   "source": [
    "import json\n",
    "import numpy as np\n",
    "def load_json(json_file: str):\n",
    "    with open(json_file, 'r', encoding='utf-8') as f:\n",
    "        content = f.read()\n",
    "        json_content = json.loads(content)\n",
    "    return json_content"
   ]
  },
  {
   "cell_type": "code",
   "execution_count": 15,
   "outputs": [],
   "source": [
    "def save_pcd(pc: np.ndarray, file, binary=True):\n",
    "    pc = pc.astype(np.float32)\n",
    "    num_points = len(pc)\n",
    "\n",
    "    with open(file, 'wb' if binary else 'w') as f:\n",
    "        # heads\n",
    "        headers = [\n",
    "            '# .PCD v0.7 - Point Cloud Data file format',\n",
    "            'VERSION 0.7',\n",
    "            'FIELDS x y z',\n",
    "            'SIZE 4 4 4',\n",
    "            'TYPE F F F',\n",
    "            'COUNT 1 1 1',\n",
    "            f'WIDTH {num_points}',\n",
    "            'HEIGHT 1',\n",
    "            'VIEWPOINT 0 0 0 1 0 0 0',\n",
    "            f'POINTS {num_points}',\n",
    "            f'DATA {\"binary\" if binary else \"ascii\"}'\n",
    "        ]\n",
    "        header = '\\n'.join(headers) + '\\n'\n",
    "        if binary:\n",
    "            header = bytes(header, 'ascii')\n",
    "        f.write(header)\n",
    "\n",
    "        # points\n",
    "        if binary:\n",
    "            f.write(pc.tobytes())\n",
    "        else:\n",
    "            for i in range(num_points):\n",
    "                x, y, z = pc[i]\n",
    "                f.write(f\"{x:.3f} {y:.3f} {z:.3f}\\n\")"
   ],
   "metadata": {
    "collapsed": false,
    "pycharm": {
     "name": "#%%\n"
    }
   }
  },
  {
   "cell_type": "code",
   "execution_count": 12,
   "outputs": [],
   "source": [
    "json_f = r\"C:\\Users\\EDY\\Downloads\\pilot_Data-20221108T101954Z-001\\pilot_Data\\sequence_frames_curve_1hz_new\\310.json\"\n",
    "jc = load_json(json_f)"
   ],
   "metadata": {
    "collapsed": false,
    "pycharm": {
     "name": "#%%\n"
    }
   }
  },
  {
   "cell_type": "code",
   "execution_count": 13,
   "outputs": [],
   "source": [
    "js = jc['points']"
   ],
   "metadata": {
    "collapsed": false,
    "pycharm": {
     "name": "#%%\n"
    }
   }
  },
  {
   "cell_type": "code",
   "execution_count": 16,
   "outputs": [],
   "source": [
    "pcd_file = r\"C:\\Users\\EDY\\Downloads\\pilot_Data-20221108T101954Z-001\\pilot_Data\\310.pcd\"\n",
    "x = []\n",
    "y = []\n",
    "z = []\n",
    "for p in js:\n",
    "    x.append(p['x'])\n",
    "    y.append(p['y'])\n",
    "    z.append(p['z'])\n",
    "points0 = np.stack([x, y, z], axis=1)\n",
    "points = np.array(points0, dtype=np.float32)\n",
    "save_pcd(points, pcd_file)"
   ],
   "metadata": {
    "collapsed": false,
    "pycharm": {
     "name": "#%%\n"
    }
   }
  },
  {
   "cell_type": "code",
   "execution_count": null,
   "outputs": [],
   "source": [],
   "metadata": {
    "collapsed": false,
    "pycharm": {
     "name": "#%%\n"
    }
   }
  }
 ],
 "metadata": {
  "kernelspec": {
   "display_name": "Python 3",
   "language": "python",
   "name": "python3"
  },
  "language_info": {
   "codemirror_mode": {
    "name": "ipython",
    "version": 2
   },
   "file_extension": ".py",
   "mimetype": "text/x-python",
   "name": "python",
   "nbconvert_exporter": "python",
   "pygments_lexer": "ipython2",
   "version": "2.7.6"
  }
 },
 "nbformat": 4,
 "nbformat_minor": 0
}