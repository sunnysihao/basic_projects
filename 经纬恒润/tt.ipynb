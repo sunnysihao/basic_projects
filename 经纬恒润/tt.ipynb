{
 "cells": [
  {
   "cell_type": "code",
   "execution_count": 1,
   "metadata": {
    "collapsed": true
   },
   "outputs": [],
   "source": [
    "import os"
   ]
  },
  {
   "cell_type": "code",
   "execution_count": 2,
   "outputs": [
    {
     "name": "stdout",
     "output_type": "stream",
     "text": [
      "D:\\Desktop\\BasicProject\\王满顺\\经纬恒润\\json_41851_90301,90302_20220718180421 ['停车场', '公开道路'] []\n",
      "D:\\Desktop\\BasicProject\\王满顺\\经纬恒润\\json_41851_90301,90302_20220718180421\\停车场 ['3d_url'] []\n",
      "D:\\Desktop\\BasicProject\\王满顺\\经纬恒润\\json_41851_90301,90302_20220718180421\\停车场\\3d_url [] ['LIDAR_UPPER_CLOUD_1652329688842730.json', 'LIDAR_UPPER_CLOUD_1652332505751076.json', 'LIDAR_UPPER_CLOUD_1652332553751308.json', 'LIDAR_UPPER_CLOUD_1652333061751789.json', 'LIDAR_UPPER_CLOUD_1652340363169767.json', 'LIDAR_UPPER_CLOUD_1652340377169784.json', 'LIDAR_UPPER_CLOUD_1652340400169892.json', 'LIDAR_UPPER_CLOUD_1652340463169837.json', 'LIDAR_UPPER_CLOUD_1652342252374241.json', 'LIDAR_UPPER_CLOUD_1652342350374324.json']\n",
      "D:\\Desktop\\BasicProject\\王满顺\\经纬恒润\\json_41851_90301,90302_20220718180421\\公开道路 ['3d_url', 'results'] ['errors.json']\n",
      "D:\\Desktop\\BasicProject\\王满顺\\经纬恒润\\json_41851_90301,90302_20220718180421\\公开道路\\3d_url [] ['LIDAR_UPPER_CLOUD_1651802977047685.json', 'LIDAR_UPPER_CLOUD_1651803237045840.json', 'LIDAR_UPPER_CLOUD_1651803247045868.json', 'LIDAR_UPPER_CLOUD_1651803390046577.json', 'LIDAR_UPPER_CLOUD_1651803551046457.json', 'LIDAR_UPPER_CLOUD_1652161253131259.json', 'LIDAR_UPPER_CLOUD_1652161433131974.json', 'LIDAR_UPPER_CLOUD_1652171117951539.json', 'LIDAR_UPPER_CLOUD_1652171125951608.json', 'LIDAR_UPPER_CLOUD_1652171128951162.json', 'LIDAR_UPPER_CLOUD_1652171132951027.json', 'LIDAR_UPPER_CLOUD_1652171135951702.json', 'LIDAR_UPPER_CLOUD_1652171194951066.json', 'LIDAR_UPPER_CLOUD_1652171261951366.json', 'LIDAR_UPPER_CLOUD_1652172243153189.json', 'LIDAR_UPPER_CLOUD_1652172259153440.json', 'LIDAR_UPPER_CLOUD_1652172263153318.json', 'LIDAR_UPPER_CLOUD_1652172278153286.json', 'LIDAR_UPPER_CLOUD_1652172324153402.json', 'LIDAR_UPPER_CLOUD_1652172402153504.json']\n",
      "D:\\Desktop\\BasicProject\\王满顺\\经纬恒润\\json_41851_90301,90302_20220718180421\\公开道路\\results [] ['LIDAR_UPPER_CLOUD_1651802977047685.json', 'LIDAR_UPPER_CLOUD_1651803237045840.json', 'LIDAR_UPPER_CLOUD_1651803247045868.json', 'LIDAR_UPPER_CLOUD_1651803390046577.json', 'LIDAR_UPPER_CLOUD_1651803551046457.json', 'LIDAR_UPPER_CLOUD_1652161253131259.json', 'LIDAR_UPPER_CLOUD_1652161433131974.json', 'LIDAR_UPPER_CLOUD_1652171117951539.json', 'LIDAR_UPPER_CLOUD_1652171125951608.json', 'LIDAR_UPPER_CLOUD_1652171128951162.json', 'LIDAR_UPPER_CLOUD_1652171132951027.json', 'LIDAR_UPPER_CLOUD_1652171135951702.json', 'LIDAR_UPPER_CLOUD_1652171194951066.json', 'LIDAR_UPPER_CLOUD_1652171261951366.json', 'LIDAR_UPPER_CLOUD_1652172243153189.json', 'LIDAR_UPPER_CLOUD_1652172259153440.json', 'LIDAR_UPPER_CLOUD_1652172263153318.json']\n"
     ]
    }
   ],
   "source": [
    "for root, _, files in os.walk(r\"D:\\Desktop\\BasicProject\\王满顺\\经纬恒润\\json_41851_90301,90302_20220718180421\"):\n",
    "    print(f\"{root} {_} {files}\")"
   ],
   "metadata": {
    "collapsed": false,
    "pycharm": {
     "name": "#%%\n"
    }
   }
  },
  {
   "cell_type": "code",
   "execution_count": null,
   "outputs": [],
   "source": [],
   "metadata": {
    "collapsed": false,
    "pycharm": {
     "name": "#%%\n"
    }
   }
  }
 ],
 "metadata": {
  "kernelspec": {
   "display_name": "Python 3",
   "language": "python",
   "name": "python3"
  },
  "language_info": {
   "codemirror_mode": {
    "name": "ipython",
    "version": 2
   },
   "file_extension": ".py",
   "mimetype": "text/x-python",
   "name": "python",
   "nbconvert_exporter": "python",
   "pygments_lexer": "ipython2",
   "version": "2.7.6"
  }
 },
 "nbformat": 4,
 "nbformat_minor": 0
}