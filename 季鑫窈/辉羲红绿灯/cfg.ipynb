{
 "cells": [
  {
   "cell_type": "code",
   "execution_count": 19,
   "metadata": {
    "collapsed": true
   },
   "outputs": [],
   "source": [
    "import json\n",
    "j = r\"C:\\Users\\EDY\\Downloads\\label\\label\\0a1f94e5-9271-426b-8dd4-09edafeb07a6.json\"\n",
    "with open(j, 'r') as f:\n",
    "    jc = json.load(f)\n",
    "ext = jc['head']['CAMERA_FRONT_FAR_transformation']"
   ]
  },
  {
   "cell_type": "code",
   "execution_count": 9,
   "outputs": [],
   "source": [
    "import numpy as np\n",
    "from numpy.linalg import inv"
   ],
   "metadata": {
    "collapsed": false,
    "pycharm": {
     "name": "#%%\n"
    }
   }
  },
  {
   "cell_type": "code",
   "execution_count": 21,
   "outputs": [],
   "source": [
    "ext = np.array(ext).flatten().tolist()"
   ],
   "metadata": {
    "collapsed": false,
    "pycharm": {
     "name": "#%%\n"
    }
   }
  },
  {
   "cell_type": "code",
   "execution_count": 25,
   "outputs": [],
   "source": [
    "data = [\n",
    "    {\"camera_internal\": {\n",
    "            \"fx\": 3694.636962890625,\n",
    "            \"cx\": 988.44451904296875,\n",
    "            \"cy\": 553.50384521484375,\n",
    "            \"fy\": 3694.636962890625,\n",
    "        },\n",
    "    \"camera_external\": ext}\n",
    "]\n",
    "with open(r\"D:\\Desktop\\Project_file\\季鑫窈\\辉曦智能\\红绿灯新\\20230104\\origin\\辉羲3d_upload\\test\\camera_config\\0a1f94e5-9271-426b-8dd4-09edafeb07a6.json\", 'w') as nf:\n",
    "    json.dump(data, nf)"
   ],
   "metadata": {
    "collapsed": false,
    "pycharm": {
     "name": "#%%\n"
    }
   }
  },
  {
   "cell_type": "code",
   "execution_count": 26,
   "outputs": [],
   "source": [
    "a = [1,32,3,5,6,43,]"
   ],
   "metadata": {
    "collapsed": false,
    "pycharm": {
     "name": "#%%\n"
    }
   }
  },
  {
   "cell_type": "code",
   "execution_count": 27,
   "outputs": [
    {
     "data": {
      "text/plain": "[1, 3, 5, 6, 32, 43]"
     },
     "execution_count": 27,
     "metadata": {},
     "output_type": "execute_result"
    }
   ],
   "source": [
    "sorted(a)"
   ],
   "metadata": {
    "collapsed": false,
    "pycharm": {
     "name": "#%%\n"
    }
   }
  },
  {
   "cell_type": "code",
   "execution_count": null,
   "outputs": [],
   "source": [],
   "metadata": {
    "collapsed": false,
    "pycharm": {
     "name": "#%%\n"
    }
   }
  }
 ],
 "metadata": {
  "kernelspec": {
   "display_name": "Python 3",
   "language": "python",
   "name": "python3"
  },
  "language_info": {
   "codemirror_mode": {
    "name": "ipython",
    "version": 2
   },
   "file_extension": ".py",
   "mimetype": "text/x-python",
   "name": "python",
   "nbconvert_exporter": "python",
   "pygments_lexer": "ipython2",
   "version": "2.7.6"
  }
 },
 "nbformat": 4,
 "nbformat_minor": 0
}