{
 "cells": [
  {
   "cell_type": "code",
   "execution_count": 4,
   "metadata": {
    "collapsed": true
   },
   "outputs": [],
   "source": [
    "import zipfile\n",
    "import json\n",
    "import os\n",
    "import glob\n",
    "\n",
    "z = zipfile.ZipFile(r\"C:\\Users\\EDY\\Downloads\\t1024.zip\", \"r\")\n"
   ]
  },
  {
   "cell_type": "code",
   "execution_count": 2,
   "outputs": [
    {
     "name": "stdout",
     "output_type": "stream",
     "text": [
      "File: t1024-20221222022610/data/ladybug_000009.jpg-1974718.json\n",
      "File: t1024-20221222022610/data/ladybug_000010.jpg-1974719.json\n",
      "File: t1024-20221222022610/data/ladybug_000011.jpg-1974720.json\n",
      "File: t1024-20221222022610/data/ladybug_000012.jpg-1974721.json\n",
      "File: t1024-20221222022610/data/ladybug_000013.jpg-1974722.json\n",
      "File: t1024-20221222022610/data/ladybug_000014.jpg-1974723.json\n",
      "File: t1024-20221222022610/data/ladybug_000015.jpg-1974724.json\n",
      "File: t1024-20221222022610/data/ladybug_000016.jpg-1974725.json\n",
      "File: t1024-20221222022610/data/ladybug_000017.jpg-1974726.json\n",
      "File: t1024-20221222022610/data/ladybug_000018.jpg-1974727.json\n",
      "File: t1024-20221222022610/data/ladybug_000019.jpg-1974728.json\n",
      "File: t1024-20221222022610/data/ladybug_000020.jpg-1974729.json\n",
      "File: t1024-20221222022610/data/ladybug_000021.jpg-1974730.json\n",
      "File: t1024-20221222022610/data/ladybug_000022.jpg-1974731.json\n",
      "File: t1024-20221222022610/result/ladybug_000009.jpg-1974718.json\n",
      "File: t1024-20221222022610/result/ladybug_000022.jpg-1974731.json\n"
     ]
    }
   ],
   "source": [
    "#打印zip文件中的文件列表\n",
    "for filename in z.namelist():\n",
    "    print('File:', filename)\n"
   ],
   "metadata": {
    "collapsed": false,
    "pycharm": {
     "name": "#%%\n"
    }
   }
  },
  {
   "cell_type": "code",
   "execution_count": 5,
   "outputs": [
    {
     "data": {
      "text/plain": "[{'version': '1.0',\n  'dataId': 1974718,\n  'sourceId': 30044,\n  'sourceType': 'DATA_FLOW',\n  'sourceName': 'Without Task',\n  'validity': 'VALID',\n  'classificationValues': [],\n  'objects': [{'id': 'd1141747-3669-4901-bc64-f1d9307ef5cc',\n    'type': 'RECTANGLE',\n    'trackId': '1',\n    'trackName': '1',\n    'classValues': [{'alias': '',\n      'id': '8f2c72ee-1f5f-4e13-b00c-504f89cc3a7a',\n      'isLeaf': True,\n      'name': '',\n      'value': 'small'}],\n    'contour': {'points': [{'x': 625.549353, 'y': 1021.650102},\n      {'x': 869.489449, 'y': 1164.149762}]},\n    'modelConfidence': None,\n    'modelClass': None,\n    'className': 'Track'},\n   {'id': 'e75bbdd0-7c0b-4e46-9ba4-f256672c00ea',\n    'type': 'RECTANGLE',\n    'trackId': '2',\n    'trackName': '2',\n    'classValues': [],\n    'contour': {'points': [{'x': 2248.596324, 'y': 1028.895848},\n      {'x': 2410.417971, 'y': 1246.26821}]},\n    'modelConfidence': None,\n    'modelClass': None,\n    'className': 'Person'},\n   {'id': 'ee965b73-2c2f-47c9-8123-9136eda08421',\n    'type': 'RECTANGLE',\n    'trackId': '3',\n    'trackName': '3',\n    'classValues': [{'alias': '',\n      'id': 'd5a24e5c-37b0-4d84-a006-84653b5f5c72',\n      'isLeaf': True,\n      'name': '',\n      'value': '0'},\n     {'alias': '',\n      'id': '76621ca7-fb4b-4f7c-bc81-13fb0d0d72ab',\n      'isLeaf': True,\n      'name': '',\n      'value': 'yes'}],\n    'contour': {'points': [{'x': 1632.707965, 'y': 1004.743363},\n      {'x': 1734.1484, 'y': 1065.124575}]},\n    'modelConfidence': None,\n    'modelClass': None,\n    'className': 'Car'},\n   {'id': '8dbe84c7-857c-4d28-b3d4-673ccfef7556',\n    'type': 'RECTANGLE',\n    'trackId': '4',\n    'trackName': '4',\n    'classValues': [{'alias': '',\n      'id': 'd5a24e5c-37b0-4d84-a006-84653b5f5c72',\n      'isLeaf': True,\n      'name': '',\n      'value': '1'},\n     {'alias': '',\n      'id': '76621ca7-fb4b-4f7c-bc81-13fb0d0d72ab',\n      'isLeaf': True,\n      'name': '',\n      'value': 'no'}],\n    'contour': {'points': [{'x': 1101.353302, 'y': 1026.480599},\n      {'x': 1268.005446, 'y': 1084.446562}]},\n    'modelConfidence': None,\n    'modelClass': None,\n    'className': 'Car'},\n   {'id': '1a85164d-5183-4fd6-9bab-00d4cf483c4b',\n    'type': 'RECTANGLE',\n    'trackId': '5',\n    'trackName': '5',\n    'classValues': [{'alias': '',\n      'id': 'd5a24e5c-37b0-4d84-a006-84653b5f5c72',\n      'isLeaf': True,\n      'name': '',\n      'value': '2'},\n     {'alias': '',\n      'id': '76621ca7-fb4b-4f7c-bc81-13fb0d0d72ab',\n      'isLeaf': True,\n      'name': '',\n      'value': 'yes'}],\n    'contour': {'points': [{'x': 308.237926, 'y': 1028.438909},\n      {'x': 510.596582, 'y': 1134.51401}]},\n    'modelConfidence': None,\n    'modelClass': None,\n    'className': 'Car'},\n   {'id': '59b88f77-3f48-41cb-b172-bee7c1b8a5fd',\n    'type': 'RECTANGLE',\n    'trackId': '6',\n    'trackName': '6',\n    'classValues': [{'alias': '',\n      'id': 'd5a24e5c-37b0-4d84-a006-84653b5f5c72',\n      'isLeaf': True,\n      'name': '',\n      'value': '0'},\n     {'alias': '',\n      'id': '76621ca7-fb4b-4f7c-bc81-13fb0d0d72ab',\n      'isLeaf': True,\n      'name': '',\n      'value': 'no'}],\n    'contour': {'points': [{'x': 1897.732526, 'y': 986.008868},\n      {'x': 2021.758799, 'y': 1059.445477}]},\n    'modelConfidence': None,\n    'modelClass': None,\n    'className': 'Car'},\n   {'id': 'ed8a7f29-a482-4254-a2fa-fd60ba351574',\n    'type': 'POLYGON',\n    'trackId': '7',\n    'trackName': '7',\n    'classValues': [{'alias': '',\n      'id': '6d61a24f-c906-4703-88d0-ad64f59bb115',\n      'isLeaf': True,\n      'name': '',\n      'value': '0'}],\n    'contour': {'interior': [],\n     'points': [{'x': 2533.595643, 'y': 1002.328114},\n      {'x': 2494.951668, 'y': 1045.802587},\n      {'x': 2502.197413, 'y': 1086.861811},\n      {'x': 2564.993873, 'y': 1089.277059},\n      {'x': 2651.942818, 'y': 1111.014295},\n      {'x': 2729.230769, 'y': 1103.76855},\n      {'x': 2772.705242, 'y': 1060.294078},\n      {'x': 2693.002042, 'y': 1019.234854},\n      {'x': 2603.637849, 'y': 1002.328114},\n      {'x': 2540.841389, 'y': 995.082369}]},\n    'modelConfidence': None,\n    'modelClass': None,\n    'className': 'car0'},\n   {'id': 'e5c3b870-40ce-4d8d-bdf0-e855a9729cb5',\n    'type': 'POLYGON',\n    'trackId': '8',\n    'trackName': '8',\n    'classValues': [],\n    'contour': {'interior': [],\n     'points': [{'x': 1480.547311, 'y': 999.912866},\n      {'x': 1422.581348, 'y': 1019.234854},\n      {'x': 1400.844112, 'y': 1072.37032},\n      {'x': 1480.547311, 'y': 1065.124575},\n      {'x': 1565.081007, 'y': 1036.141593},\n      {'x': 1531.267529, 'y': 1016.819605},\n      {'x': 1475.716814, 'y': 990.251872}]},\n    'modelConfidence': None,\n    'modelClass': None,\n    'className': 'car0'},\n   {'id': 'dec26135-686f-4149-8c21-7622654997e3',\n    'type': 'POLYLINE',\n    'trackId': '9',\n    'trackName': '9',\n    'classValues': [{'alias': '',\n      'id': 'f560f117-0514-48e3-bfe8-96454edcce77',\n      'isLeaf': True,\n      'name': '',\n      'value': 'dash'}],\n    'contour': {'points': [{'x': 3461.051055, 'y': 1164.149762},\n      {'x': 3263.000681, 'y': 1115.844792},\n      {'x': 2924.865895, 'y': 1053.048332},\n      {'x': 2731.646018, 'y': 1004.743363}]},\n    'modelConfidence': None,\n    'modelClass': None,\n    'className': 'line'},\n   {'id': 'bf178851-aa80-4571-b39b-2286cdcce3f2',\n    'type': 'POLYLINE',\n    'trackId': '10',\n    'trackName': '10',\n    'classValues': [{'alias': '',\n      'id': 'f560f117-0514-48e3-bfe8-96454edcce77',\n      'isLeaf': True,\n      'name': '',\n      'value': 'solid'}],\n    'contour': {'points': [{'x': 2451.477195, 'y': 983.006127},\n      {'x': 2417.663717, 'y': 1038.556841},\n      {'x': 2374.189244, 'y': 1077.200817}]},\n    'modelConfidence': None,\n    'modelClass': None,\n    'className': 'line'},\n   {'id': '35644e21-0b2f-41f5-8c09-d39ae0fe87a5',\n    'type': 'POLYLINE',\n    'trackId': '11',\n    'trackName': '11',\n    'classValues': [],\n    'contour': {'points': [{'x': 2115.757658, 'y': 1108.599047},\n      {'x': 2197.876106, 'y': 1043.387338},\n      {'x': 2243.765827, 'y': 1002.328114}]},\n    'modelConfidence': None,\n    'modelClass': None,\n    'className': 'line'}]}]"
     },
     "execution_count": 5,
     "metadata": {},
     "output_type": "execute_result"
    }
   ],
   "source": [
    "#读取zip文件中的第一个文件\n",
    "file = z.namelist()[-2]\n",
    "content = z.read(file)\n",
    "json.loads(content)"
   ],
   "metadata": {
    "collapsed": false,
    "pycharm": {
     "name": "#%%\n"
    }
   }
  },
  {
   "cell_type": "code",
   "execution_count": 6,
   "outputs": [],
   "source": [
    "def unzip_file(zip_src, dst_dir):\n",
    "    r = zipfile.is_zipfile(zip_src)\n",
    "    if r:\n",
    "        fz = zipfile.ZipFile(zip_src, 'r')\n",
    "        for file in fz.namelist():\n",
    "            fz.extract(file, dst_dir)\n",
    "    else:\n",
    "        print('This is not zip')\n",
    "unzip_file(r\"C:\\Users\\EDY\\Downloads\\t1024.zip\", r\"C:\\Users\\EDY\\Downloads\\unzip\")"
   ],
   "metadata": {
    "collapsed": false,
    "pycharm": {
     "name": "#%%\n"
    }
   }
  },
  {
   "cell_type": "code",
   "execution_count": 3,
   "outputs": [],
   "source": [
    "import cv2\n",
    "import numpy as np"
   ],
   "metadata": {
    "collapsed": false,
    "pycharm": {
     "name": "#%%\n"
    }
   }
  },
  {
   "cell_type": "code",
   "execution_count": 14,
   "outputs": [
    {
     "data": {
      "text/plain": "array([[0, 0, 0, ..., 0, 0, 0],\n       [0, 0, 0, ..., 0, 0, 0],\n       [0, 0, 0, ..., 0, 0, 0],\n       ...,\n       [0, 0, 0, ..., 0, 0, 0],\n       [0, 0, 0, ..., 0, 0, 0],\n       [0, 0, 0, ..., 0, 0, 0]])"
     },
     "execution_count": 14,
     "metadata": {},
     "output_type": "execute_result"
    }
   ],
   "source": [
    "mask = np.zeros((1920,1080), dtype=np.int32)\n",
    "cv2.fillPoly(mask, [np.array([[100,100], [100,200], [200, 200], [200, 100]])], 1)"
   ],
   "metadata": {
    "collapsed": false,
    "pycharm": {
     "name": "#%%\n"
    }
   }
  },
  {
   "cell_type": "code",
   "execution_count": 15,
   "outputs": [
    {
     "data": {
      "text/plain": "10201"
     },
     "execution_count": 15,
     "metadata": {},
     "output_type": "execute_result"
    }
   ],
   "source": [
    "np.sum(mask)"
   ],
   "metadata": {
    "collapsed": false,
    "pycharm": {
     "name": "#%%\n"
    }
   }
  },
  {
   "cell_type": "code",
   "execution_count": 12,
   "outputs": [],
   "source": [],
   "metadata": {
    "collapsed": false,
    "pycharm": {
     "name": "#%%\n"
    }
   }
  }
 ],
 "metadata": {
  "kernelspec": {
   "display_name": "Python 3",
   "language": "python",
   "name": "python3"
  },
  "language_info": {
   "codemirror_mode": {
    "name": "ipython",
    "version": 2
   },
   "file_extension": ".py",
   "mimetype": "text/x-python",
   "name": "python",
   "nbconvert_exporter": "python",
   "pygments_lexer": "ipython2",
   "version": "2.7.6"
  }
 },
 "nbformat": 4,
 "nbformat_minor": 0
}