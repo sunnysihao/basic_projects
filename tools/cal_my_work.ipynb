{
 "cells": [
  {
   "cell_type": "code",
   "execution_count": 128,
   "id": "e91ee890-50e6-4a65-abb6-6ab8e1141a39",
   "metadata": {},
   "outputs": [],
   "source": [
    "import os\n",
    "import pandas as pd"
   ]
  },
  {
   "cell_type": "code",
   "execution_count": 129,
   "id": "41a11f7c-4175-4b9b-b858-3a66cafd208c",
   "metadata": {},
   "outputs": [],
   "source": [
    "NAME = '薛少栋'\n",
    "YEAR = 2022\n",
    "MONTH = 12\n",
    "USEFUL_COLS = ['编号', '任务名称', '总计消耗', '最后修改日期']\n",
    "CLIENTS = [\n",
    "    '北大AI', '大唐', '东软', '二郎神视觉', \n",
    "    '辉曦智能', '经纬恒润', ('美团', '三快科技'), '纽劢', '启林', \n",
    "    '识渊', '中石油', '纵目'\n",
    "]"
   ]
  },
  {
   "cell_type": "code",
   "execution_count": 130,
   "id": "365f48be-26ed-46f6-8427-ce4b017723b7",
   "metadata": {},
   "outputs": [],
   "source": [
    "def find_client(title):\n",
    "    result = None\n",
    "    for c in CLIENTS:\n",
    "        if type(c) == str:\n",
    "            if c in title:\n",
    "                result = c\n",
    "        else:\n",
    "            for part_c in c:\n",
    "                if part_c in title:\n",
    "                    result = c[0]\n",
    "    return result"
   ]
  },
  {
   "cell_type": "code",
   "execution_count": 131,
   "id": "d7c0db1e-2e2e-4b39-b5a3-378f1cee8f39",
   "metadata": {},
   "outputs": [],
   "source": [
    "def fill_unsure(raw_df, fill_list, col_num=len(USEFUL_COLS)):\n",
    "    locs = raw_df[raw_df.isna().any(axis=1)].index\n",
    "    for i in range(len(fill_list)):\n",
    "        raw_df.iloc[locs[i], col_num] = fill_list[i]"
   ]
  },
  {
   "cell_type": "code",
   "execution_count": 132,
   "id": "b975379d-e9f5-45f9-9771-eb899b6e4dfc",
   "metadata": {
    "tags": []
   },
   "outputs": [],
   "source": [
    "def list_dir(cur_path: str):\n",
    "    \"\"\"\n",
    "    列举文件根目录下各文件路径的函数。\n",
    "    :param cur_path: 根目录。\n",
    "    :return: 根目录下所有子目录里的所有文件。\n",
    "    \"\"\"\n",
    "    file_paths = []\n",
    "    for root, dirs, files in os.walk(cur_path):\n",
    "        for file in files:\n",
    "            file_paths.append(os.path.join(root, file))\n",
    "    return file_paths"
   ]
  },
  {
   "cell_type": "code",
   "execution_count": 133,
   "id": "0937666f-14c9-4d4a-bb2f-e2388c1b3691",
   "metadata": {
    "tags": []
   },
   "outputs": [
    {
     "data": {
      "text/html": [
       "<div>\n",
       "<style scoped>\n",
       "    .dataframe tbody tr th:only-of-type {\n",
       "        vertical-align: middle;\n",
       "    }\n",
       "\n",
       "    .dataframe tbody tr th {\n",
       "        vertical-align: top;\n",
       "    }\n",
       "\n",
       "    .dataframe thead th {\n",
       "        text-align: right;\n",
       "    }\n",
       "</style>\n",
       "<table border=\"1\" class=\"dataframe\">\n",
       "  <thead>\n",
       "    <tr style=\"text-align: right;\">\n",
       "      <th></th>\n",
       "      <th>编号</th>\n",
       "      <th>任务名称</th>\n",
       "      <th>总计消耗</th>\n",
       "      <th>最后修改日期</th>\n",
       "      <th>客户</th>\n",
       "    </tr>\n",
       "  </thead>\n",
       "  <tbody>\n",
       "    <tr>\n",
       "      <th>11</th>\n",
       "      <td>8880</td>\n",
       "      <td>&gt;线下通错软件有新需求</td>\n",
       "      <td>2.0</td>\n",
       "      <td>2022-12-02</td>\n",
       "      <td>None</td>\n",
       "    </tr>\n",
       "  </tbody>\n",
       "</table>\n",
       "</div>"
      ],
      "text/plain": [
       "      编号         任务名称  总计消耗     最后修改日期    客户\n",
       "11  8880  >线下通错软件有新需求   2.0 2022-12-02  None"
      ]
     },
     "execution_count": 133,
     "metadata": {},
     "output_type": "execute_result"
    }
   ],
   "source": [
    "works = list_dir('2022_12')\n",
    "total_df = pd.concat([pd.read_csv(w, index_col=False)[:-1] for w in works])[USEFUL_COLS]\n",
    "total_df['最后修改日期'] = pd.to_datetime(total_df['最后修改日期'])\n",
    "monthly_df = total_df[(total_df['最后修改日期'].dt.year == YEAR) & (total_df['最后修改日期'].dt.month == MONTH)].copy()\n",
    "monthly_df['客户'] = monthly_df['任务名称'].map(find_client)\n",
    "monthly_df[monthly_df['客户'].isna()]"
   ]
  },
  {
   "cell_type": "code",
   "execution_count": 134,
   "id": "fbbe7a14-a1ad-4d01-a421-45170c853055",
   "metadata": {},
   "outputs": [],
   "source": [
    "fill_unsure(monthly_df, ['识渊'])"
   ]
  },
  {
   "cell_type": "code",
   "execution_count": 141,
   "id": "ba49bea4-6f17-42ff-8628-2b129c0fe639",
   "metadata": {},
   "outputs": [],
   "source": [
    "groupby_df = monthly_df.groupby(by='客户').agg({'总计消耗': 'sum', '编号': 'count', '最后修改日期': 'count'})\n",
    "groupby_df.rename(columns={'总计消耗': '总工时', '编号': '任务数', '最后修改日期': 'temp'}, inplace=True)\n",
    "merge_df = pd.merge(left=monthly_df, right=groupby_df, on='客户')\n",
    "merge_df.drop(columns=['编号', '总计消耗', '最后修改日期'], inplace=True)\n",
    "merge_df.set_index(keys=['客户', '任务数', '总工时', 'temp'], inplace=True)"
   ]
  },
  {
   "cell_type": "code",
   "execution_count": 137,
   "id": "9ac98d3d-3513-43af-907f-2632c4072ed1",
   "metadata": {},
   "outputs": [],
   "source": [
    "merge_df.to_excel(f'result/{NAME}{YEAR}-{MONTH}任务1.xlsx')"
   ]
  },
  {
   "cell_type": "code",
   "execution_count": null,
   "id": "228850bb-7eb2-46ca-85af-736931a13f9d",
   "metadata": {},
   "outputs": [],
   "source": []
  }
 ],
 "metadata": {
  "kernelspec": {
   "display_name": "Python 3 (ipykernel)",
   "language": "python",
   "name": "python3"
  },
  "language_info": {
   "codemirror_mode": {
    "name": "ipython",
    "version": 3
   },
   "file_extension": ".py",
   "mimetype": "text/x-python",
   "name": "python",
   "nbconvert_exporter": "python",
   "pygments_lexer": "ipython3",
   "version": "3.9.13"
  }
 },
 "nbformat": 4,
 "nbformat_minor": 5
}
