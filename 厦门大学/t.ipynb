{
 "cells": [
  {
   "cell_type": "code",
   "execution_count": 12,
   "metadata": {
    "collapsed": true
   },
   "outputs": [],
   "source": [
    "import laspy\n",
    "import numpy as np"
   ]
  },
  {
   "cell_type": "code",
   "execution_count": 13,
   "outputs": [],
   "source": [
    "las_path = r\"D:\\Desktop\\BasicProject\\毛岩\\厦门大学\\3.las\"\n",
    "las=laspy.read(las_path)"
   ],
   "metadata": {
    "collapsed": false,
    "pycharm": {
     "name": "#%%\n"
    }
   }
  },
  {
   "cell_type": "code",
   "execution_count": 14,
   "outputs": [
    {
     "data": {
      "text/plain": "<LasHeader(1.2, <PointFormat(3, 0 bytes of extra dims)>)>"
     },
     "execution_count": 14,
     "metadata": {},
     "output_type": "execute_result"
    }
   ],
   "source": [
    "header=las.header\n",
    "header"
   ],
   "metadata": {
    "collapsed": false,
    "pycharm": {
     "name": "#%%\n"
    }
   }
  },
  {
   "cell_type": "code",
   "execution_count": 15,
   "outputs": [
    {
     "data": {
      "text/plain": "<PointFormat(3, 0 bytes of extra dims)>"
     },
     "execution_count": 15,
     "metadata": {},
     "output_type": "execute_result"
    }
   ],
   "source": [
    "point_format=las.point_format\n",
    "point_format"
   ],
   "metadata": {
    "collapsed": false,
    "pycharm": {
     "name": "#%%\n"
    }
   }
  },
  {
   "cell_type": "code",
   "execution_count": 16,
   "outputs": [
    {
     "data": {
      "text/plain": "26606083"
     },
     "execution_count": 16,
     "metadata": {},
     "output_type": "execute_result"
    }
   ],
   "source": [
    "point_num=header.point_count\n",
    "point_num"
   ],
   "metadata": {
    "collapsed": false,
    "pycharm": {
     "name": "#%%\n"
    }
   }
  },
  {
   "cell_type": "code",
   "execution_count": 20,
   "outputs": [],
   "source": [
    "las_x=np.array(las.x)\n",
    "las_y= np.array(las.y)\n",
    "las_z= np.array(las.z)\n",
    "las_r= np.array(las.red)\n",
    "las_g= np.array(las.green)\n",
    "las_b= np.array(las.blue)\n",
    "#堆叠\n",
    "points=np.stack([las_x,las_y,las_z],axis=1)  #type(points)--->numpy.ndarray\n",
    "colors=np.stack([las_r,las_g,las_b],axis=1)  #type(colors)--->numpy.ndarray"
   ],
   "metadata": {
    "collapsed": false,
    "pycharm": {
     "name": "#%%\n"
    }
   }
  },
  {
   "cell_type": "code",
   "execution_count": 21,
   "outputs": [
    {
     "data": {
      "text/plain": "-2723325.673"
     },
     "execution_count": 21,
     "metadata": {},
     "output_type": "execute_result"
    }
   ],
   "source": [
    "min(las_x)"
   ],
   "metadata": {
    "collapsed": false,
    "pycharm": {
     "name": "#%%\n"
    }
   }
  },
  {
   "cell_type": "code",
   "execution_count": 22,
   "outputs": [
    {
     "data": {
      "text/plain": "-2722994.122"
     },
     "execution_count": 22,
     "metadata": {},
     "output_type": "execute_result"
    }
   ],
   "source": [
    "max(las_x)"
   ],
   "metadata": {
    "collapsed": false,
    "pycharm": {
     "name": "#%%\n"
    }
   }
  },
  {
   "cell_type": "code",
   "execution_count": 23,
   "outputs": [
    {
     "data": {
      "text/plain": "331.55099999997765"
     },
     "execution_count": 23,
     "metadata": {},
     "output_type": "execute_result"
    }
   ],
   "source": [
    "a = max(las_x)-min(las_x)\n",
    "a"
   ],
   "metadata": {
    "collapsed": false,
    "pycharm": {
     "name": "#%%\n"
    }
   }
  },
  {
   "cell_type": "code",
   "execution_count": 25,
   "outputs": [
    {
     "data": {
      "text/plain": "-2723159.8975"
     },
     "execution_count": 25,
     "metadata": {},
     "output_type": "execute_result"
    }
   ],
   "source": [
    "min(las_x)+a/2"
   ],
   "metadata": {
    "collapsed": false,
    "pycharm": {
     "name": "#%%\n"
    }
   }
  },
  {
   "cell_type": "code",
   "execution_count": null,
   "outputs": [],
   "source": [
    "\n",
    "las=laspy.read(las_path)\n",
    "#获取文件头\n",
    "header=las.header\n",
    "#点类型\n",
    "point_format=las.point_format\n",
    "#属性字段名\n",
    "dimension_name=point_format.dimension_names\n",
    "#点集外边框\n",
    "mins=header.mins\n",
    "maxs=header.maxs\n",
    "#点个数\n",
    "point_num=header.point_count\n",
    "#获取坐标和颜色\n",
    "las_x=np.array(las.x)\n",
    "las_y= np.array(las.y)\n",
    "las_z= np.array(las.z)\n",
    "las_r= np.array(las.red)\n",
    "las_g= np.array(las.green)\n",
    "las_b= np.array(las.blue)\n",
    "#堆叠\n",
    "points=np.stack([las_x,las_y,las_z],axis=1)  #type(points)--->numpy.ndarray\n",
    "colors=np.stack([las_r,las_g,las_b],axis=1)  #type(colors)--->numpy.ndarray"
   ],
   "metadata": {
    "collapsed": false,
    "pycharm": {
     "name": "#%%\n"
    }
   }
  }
 ],
 "metadata": {
  "kernelspec": {
   "display_name": "Python 3",
   "language": "python",
   "name": "python3"
  },
  "language_info": {
   "codemirror_mode": {
    "name": "ipython",
    "version": 2
   },
   "file_extension": ".py",
   "mimetype": "text/x-python",
   "name": "python",
   "nbconvert_exporter": "python",
   "pygments_lexer": "ipython2",
   "version": "2.7.6"
  }
 },
 "nbformat": 4,
 "nbformat_minor": 0
}