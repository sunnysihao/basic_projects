{
 "cells": [
  {
   "cell_type": "code",
   "execution_count": 1,
   "metadata": {
    "collapsed": true
   },
   "outputs": [],
   "source": [
    "import fitz"
   ]
  },
  {
   "cell_type": "code",
   "execution_count": 3,
   "outputs": [],
   "source": [
    "pcd_file = r\"D:\\Data\\we_chat_files\\WeChat Files\\wxid_pzn3n31pjyvc29\\FileStorage\\File\\2022-11\\望石科技需求文档\\望石科技需求文档\\示例(2).pdf\""
   ],
   "metadata": {
    "collapsed": false,
    "pycharm": {
     "name": "#%%\n"
    }
   }
  },
  {
   "cell_type": "code",
   "execution_count": 20,
   "outputs": [
    {
     "data": {
      "text/plain": "Document('D:\\Data\\we_chat_files\\WeChat Files\\wxid_pzn3n31pjyvc29\\FileStorage\\File\\2022-11\\望石科技需求文档\\望石科技需求文档\\示例(2).pdf')"
     },
     "execution_count": 20,
     "metadata": {},
     "output_type": "execute_result"
    }
   ],
   "source": [
    "pdf = fitz.open(pcd_file)\n",
    "pdf"
   ],
   "metadata": {
    "collapsed": false,
    "pycharm": {
     "name": "#%%\n"
    }
   }
  },
  {
   "cell_type": "code",
   "execution_count": 6,
   "outputs": [
    {
     "data": {
      "text/plain": "17"
     },
     "execution_count": 6,
     "metadata": {},
     "output_type": "execute_result"
    }
   ],
   "source": [
    "pdf.page_count"
   ],
   "metadata": {
    "collapsed": false,
    "pycharm": {
     "name": "#%%\n"
    }
   }
  },
  {
   "cell_type": "code",
   "execution_count": 10,
   "outputs": [
    {
     "data": {
      "text/plain": "page 0 of D:\\Data\\we_chat_files\\WeChat Files\\wxid_pzn3n31pjyvc29\\FileStorage\\File\\2022-11\\望石科技需求文档\\望石科技需求文档\\示例(2).pdf"
     },
     "execution_count": 10,
     "metadata": {},
     "output_type": "execute_result"
    }
   ],
   "source": [
    "page = pdf[0]"
   ],
   "metadata": {
    "collapsed": false,
    "pycharm": {
     "name": "#%%\n"
    }
   }
  },
  {
   "cell_type": "code",
   "execution_count": 18,
   "outputs": [],
   "source": [
    "trans = fitz.Matrix(2.0, 2.0).prerotate(int(0))"
   ],
   "metadata": {
    "collapsed": false,
    "pycharm": {
     "name": "#%%\n"
    }
   }
  },
  {
   "cell_type": "code",
   "execution_count": 15,
   "outputs": [
    {
     "data": {
      "text/plain": "Pixmap(DeviceRGB, IRect(0, 0, 626, 819), 0)"
     },
     "execution_count": 15,
     "metadata": {},
     "output_type": "execute_result"
    }
   ],
   "source": [
    "pm = page.get_pixmap(matrix=trans, alpha=False)\n",
    "pm"
   ],
   "metadata": {
    "collapsed": false,
    "pycharm": {
     "name": "#%%\n"
    }
   }
  },
  {
   "cell_type": "code",
   "execution_count": 14,
   "outputs": [
    {
     "data": {
      "text/plain": "Pixmap(DeviceRGB, IRect(0, 0, 626, 819), 0)"
     },
     "execution_count": 14,
     "metadata": {},
     "output_type": "execute_result"
    }
   ],
   "source": [
    "page.get_pixmap()"
   ],
   "metadata": {
    "collapsed": false,
    "pycharm": {
     "name": "#%%\n"
    }
   }
  },
  {
   "cell_type": "code",
   "execution_count": 19,
   "outputs": [],
   "source": [
    "pm.save(r\"D:\\Data\\we_chat_files\\WeChat Files\\wxid_pzn3n31pjyvc29\\FileStorage\\File\\2022-11\\望石科技需求文档\\望石科技需求文档\\img.png\")"
   ],
   "metadata": {
    "collapsed": false,
    "pycharm": {
     "name": "#%%\n"
    }
   }
  },
  {
   "cell_type": "code",
   "execution_count": 22,
   "outputs": [],
   "source": [
    "import json\n",
    "json_file = r\"C:\\Users\\EDY\\Downloads\\专利期刊.json\"\n",
    "with open(json_file, 'r', encoding='utf-8') as f:\n",
    "    jc = json.load(f)"
   ],
   "metadata": {
    "collapsed": false,
    "pycharm": {
     "name": "#%%\n"
    }
   }
  },
  {
   "cell_type": "code",
   "execution_count": 33,
   "outputs": [
    {
     "data": {
      "text/plain": "'Table1_title'"
     },
     "execution_count": 33,
     "metadata": {},
     "output_type": "execute_result"
    }
   ],
   "source": [
    "jc['editModuleList'][0]['column1']['children'][0]['data'][0]['subData'][0]['subData'][0]['text']"
   ],
   "metadata": {
    "collapsed": false,
    "pycharm": {
     "name": "#%%\n"
    }
   }
  },
  {
   "cell_type": "code",
   "execution_count": 34,
   "outputs": [],
   "source": [
    "cs = jc['editModuleList'][0]['column1']['children'][0]['data']"
   ],
   "metadata": {
    "collapsed": false,
    "pycharm": {
     "name": "#%%\n"
    }
   }
  },
  {
   "cell_type": "code",
   "execution_count": 37,
   "outputs": [],
   "source": [
    "category = []\n",
    "id_num = 1\n",
    "\n",
    "for sup in cs:\n",
    "    supercategory = sup['text']\n",
    "    for sup2 in sup['subData']:\n",
    "        for sup3 in sup2['subData']:\n",
    "            name = sup3['text']\n",
    "\n",
    "            cate = {\n",
    "                \"supercategory\": supercategory,# 主类别\n",
    "                \"id\": id_num,# 类对应的id （0 默认为背景）\n",
    "                \"name\": name # 子类别\n",
    "            }\n",
    "            category.append(cate)\n",
    "            id_num += 1"
   ],
   "metadata": {
    "collapsed": false,
    "pycharm": {
     "name": "#%%\n"
    }
   }
  },
  {
   "cell_type": "code",
   "execution_count": 38,
   "outputs": [
    {
     "data": {
      "text/plain": "[{'supercategory': 'Table_title', 'id': 1, 'name': 'Table1_title'},\n {'supercategory': 'Table_title', 'id': 2, 'name': 'Table1_title_1'},\n {'supercategory': 'Table_title', 'id': 3, 'name': 'Table1_title_2'},\n {'supercategory': 'Table_title', 'id': 4, 'name': 'Table1_title_3'},\n {'supercategory': 'Table_title', 'id': 5, 'name': 'Table2_title'},\n {'supercategory': 'Table_title', 'id': 6, 'name': 'Table2_title_1'},\n {'supercategory': 'Table_title', 'id': 7, 'name': 'Table2_title_2'},\n {'supercategory': 'Table_title', 'id': 8, 'name': 'Table2_title_3'},\n {'supercategory': 'Table_title', 'id': 9, 'name': 'Table3_title'},\n {'supercategory': 'Table_title', 'id': 10, 'name': 'Table3_title_1'},\n {'supercategory': 'Table_title', 'id': 11, 'name': 'Table3_title_2'},\n {'supercategory': 'Table_title', 'id': 12, 'name': 'Table3_title_3'},\n {'supercategory': 'Table_title', 'id': 13, 'name': 'F100_title'},\n {'supercategory': 'Table_title', 'id': 14, 'name': 'F100_title_1'},\n {'supercategory': 'Table_title', 'id': 15, 'name': 'F100_title_2'},\n {'supercategory': 'Table_title', 'id': 16, 'name': 'F100_title_3'},\n {'supercategory': 'Table_title', 'id': 17, 'name': 'F101_title'},\n {'supercategory': 'Table_title', 'id': 18, 'name': 'F101_title_1'},\n {'supercategory': 'Table_title', 'id': 19, 'name': 'F101_title_2'},\n {'supercategory': 'Table_title', 'id': 20, 'name': 'F101_title_3'},\n {'supercategory': 'Table_title', 'id': 21, 'name': 'F102_title'},\n {'supercategory': 'Table_title', 'id': 22, 'name': 'F102_title_1'},\n {'supercategory': 'Table_title', 'id': 23, 'name': 'F102_title_2'},\n {'supercategory': 'Table_title', 'id': 24, 'name': 'F102_title_3'},\n {'supercategory': 'form', 'id': 25, 'name': 'form1'},\n {'supercategory': 'form', 'id': 26, 'name': 'form1_1'},\n {'supercategory': 'form', 'id': 27, 'name': 'form1_2'},\n {'supercategory': 'form', 'id': 28, 'name': 'form1_3'},\n {'supercategory': 'form', 'id': 29, 'name': 'form2'},\n {'supercategory': 'form', 'id': 30, 'name': 'form2_1'},\n {'supercategory': 'form', 'id': 31, 'name': 'form2_2'},\n {'supercategory': 'form', 'id': 32, 'name': 'form2_3'},\n {'supercategory': 'form', 'id': 33, 'name': 'form3'},\n {'supercategory': 'form', 'id': 34, 'name': 'form3_1'},\n {'supercategory': 'form', 'id': 35, 'name': 'form3_2'},\n {'supercategory': 'form', 'id': 36, 'name': 'form3_3'},\n {'supercategory': 'Table_footnote', 'id': 37, 'name': 'Table1_footnote'},\n {'supercategory': 'Table_footnote', 'id': 38, 'name': 'Table2_footnote'},\n {'supercategory': 'Table_footnote', 'id': 39, 'name': 'Table3_footnote'},\n {'supercategory': 'Table_footnote', 'id': 40, 'name': 'F100_footnote'},\n {'supercategory': 'Table_footnote', 'id': 41, 'name': 'F101_footnote'},\n {'supercategory': 'Table_footnote', 'id': 42, 'name': 'F102_footnote'},\n {'supercategory': 'Table_markush_core',\n  'id': 43,\n  'name': 'Table1_markush_core'},\n {'supercategory': 'Table_markush_core',\n  'id': 44,\n  'name': 'Table1_markush_core_1'},\n {'supercategory': 'Table_markush_core',\n  'id': 45,\n  'name': 'Table1_markush_core_2'},\n {'supercategory': 'Table_markush_core',\n  'id': 46,\n  'name': 'Table1_markush_core_3'},\n {'supercategory': 'Table_markush_core',\n  'id': 47,\n  'name': 'Table2_markush_core'},\n {'supercategory': 'Table_markush_core',\n  'id': 48,\n  'name': 'Table2_markush_core_1'},\n {'supercategory': 'Table_markush_core',\n  'id': 49,\n  'name': 'Table2_markush_core_2'},\n {'supercategory': 'Table_markush_core',\n  'id': 50,\n  'name': 'Table2_markush_core_3'},\n {'supercategory': 'Table_markush_core',\n  'id': 51,\n  'name': 'Table3_markush_core'},\n {'supercategory': 'Table_markush_core',\n  'id': 52,\n  'name': 'Table3_markush_core_1'},\n {'supercategory': 'Table_markush_core',\n  'id': 53,\n  'name': 'Table3_markush_core_2'},\n {'supercategory': 'Table_markush_core',\n  'id': 54,\n  'name': 'Table3_markush_core_3'},\n {'supercategory': 'Table_markush_core',\n  'id': 55,\n  'name': 'F100_markush_core'},\n {'supercategory': 'Table_markush_core',\n  'id': 56,\n  'name': 'F100_markush_core_1'},\n {'supercategory': 'Table_markush_core',\n  'id': 57,\n  'name': 'F100_markush_core_2'},\n {'supercategory': 'Table_markush_core',\n  'id': 58,\n  'name': 'F100_markush_core_3'},\n {'supercategory': 'Table_markush_core',\n  'id': 59,\n  'name': 'F101_markush_core'},\n {'supercategory': 'Table_markush_core',\n  'id': 60,\n  'name': 'F101_markush_core_1'},\n {'supercategory': 'Table_markush_core',\n  'id': 61,\n  'name': 'F101_markush_core_2'},\n {'supercategory': 'Table_markush_core',\n  'id': 62,\n  'name': 'F101_markush_core_3'},\n {'supercategory': 'Table_markush_core',\n  'id': 63,\n  'name': 'F102_markush_core'},\n {'supercategory': 'Table_markush_core',\n  'id': 64,\n  'name': 'F102_markush_core_1'},\n {'supercategory': 'Table_markush_core',\n  'id': 65,\n  'name': 'F102_markush_core_2'},\n {'supercategory': 'Table_markush_core',\n  'id': 66,\n  'name': 'F102_markush_core_3'}]"
     },
     "execution_count": 38,
     "metadata": {},
     "output_type": "execute_result"
    }
   ],
   "source": [
    "category"
   ],
   "metadata": {
    "collapsed": false,
    "pycharm": {
     "name": "#%%\n"
    }
   }
  },
  {
   "cell_type": "code",
   "execution_count": 40,
   "outputs": [],
   "source": [
    "cate_file = r\"D:\\Desktop\\Project_file\\田家林\\望石智慧\\journal\\category.json\"\n",
    "data = {\n",
    "    \"categories\": category\n",
    "}\n",
    "with open(cate_file, 'w', encoding='utf-8') as nf:\n",
    "    json.dump(data, nf, indent=1)"
   ],
   "metadata": {
    "collapsed": false,
    "pycharm": {
     "name": "#%%\n"
    }
   }
  },
  {
   "cell_type": "code",
   "execution_count": null,
   "outputs": [],
   "source": [],
   "metadata": {
    "collapsed": false,
    "pycharm": {
     "name": "#%%\n"
    }
   }
  }
 ],
 "metadata": {
  "kernelspec": {
   "display_name": "Python 3",
   "language": "python",
   "name": "python3"
  },
  "language_info": {
   "codemirror_mode": {
    "name": "ipython",
    "version": 2
   },
   "file_extension": ".py",
   "mimetype": "text/x-python",
   "name": "python",
   "nbconvert_exporter": "python",
   "pygments_lexer": "ipython2",
   "version": "2.7.6"
  }
 },
 "nbformat": 4,
 "nbformat_minor": 0
}