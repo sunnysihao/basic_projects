{
 "cells": [
  {
   "cell_type": "code",
   "execution_count": 8,
   "metadata": {
    "collapsed": true
   },
   "outputs": [],
   "source": [
    "import numpy as np\n",
    "points = np.load(r\"C:\\Users\\EDY\\Downloads\\one_second_points.npy\")"
   ]
  },
  {
   "cell_type": "code",
   "execution_count": 11,
   "outputs": [],
   "source": [
    "x = points[:,0]\n",
    "y = points[:,1]\n",
    "z = points[:,2]"
   ],
   "metadata": {
    "collapsed": false,
    "pycharm": {
     "name": "#%%\n"
    }
   }
  },
  {
   "cell_type": "code",
   "execution_count": 19,
   "outputs": [],
   "source": [
    "x = x - np.average(x)\n",
    "y = y - np.average(y)\n",
    "z = z - np.average(z)\n",
    "points = np.stack((x,y,z), axis=1)"
   ],
   "metadata": {
    "collapsed": false,
    "pycharm": {
     "name": "#%%\n"
    }
   }
  },
  {
   "cell_type": "code",
   "execution_count": 20,
   "outputs": [],
   "source": [
    "with open(r\"C:\\Users\\EDY\\Downloads\\one_second_points.pcd\", 'w', encoding='ascii') as pcd_file:\n",
    "    point_num = points.shape[0]\n",
    "    heads = [\n",
    "        '# .PCD v0.7 - Point Cloud Data file format',\n",
    "        'VERSION 0.7',\n",
    "        'FIELDS x y z',\n",
    "        'SIZE 4 4 4',\n",
    "        'TYPE F F F',\n",
    "        'COUNT 1 1 1',\n",
    "        f'WIDTH {point_num}',\n",
    "        'HEIGHT 1',\n",
    "        'VIEWPOINT 0 0 0 1 0 0 0',\n",
    "        f'POINTS {point_num}',\n",
    "        'DATA ascii'\n",
    "    ]\n",
    "\n",
    "    pcd_file.write('\\n'.join(heads))\n",
    "    for i in range(point_num):\n",
    "        string_point = '\\n' + str(points[i, 0]) + ' ' + str(points[i, 1]) + ' ' + str(points[i, 2])\n",
    "        pcd_file.write(string_point)"
   ],
   "metadata": {
    "collapsed": false,
    "pycharm": {
     "name": "#%%\n"
    }
   }
  },
  {
   "cell_type": "code",
   "execution_count": null,
   "outputs": [],
   "source": [],
   "metadata": {
    "collapsed": false,
    "pycharm": {
     "name": "#%%\n"
    }
   }
  }
 ],
 "metadata": {
  "kernelspec": {
   "display_name": "Python 3",
   "language": "python",
   "name": "python3"
  },
  "language_info": {
   "codemirror_mode": {
    "name": "ipython",
    "version": 2
   },
   "file_extension": ".py",
   "mimetype": "text/x-python",
   "name": "python",
   "nbconvert_exporter": "python",
   "pygments_lexer": "ipython2",
   "version": "2.7.6"
  }
 },
 "nbformat": 4,
 "nbformat_minor": 0
}